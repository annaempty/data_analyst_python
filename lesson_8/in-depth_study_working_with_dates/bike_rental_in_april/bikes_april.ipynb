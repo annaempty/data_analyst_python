{
 "cells": [
  {
   "cell_type": "code",
   "execution_count": 1,
   "id": "29b38eec",
   "metadata": {},
   "outputs": [],
   "source": [
    "import pandas as pd"
   ]
  },
  {
   "cell_type": "code",
   "execution_count": 2,
   "id": "f3f42e56",
   "metadata": {},
   "outputs": [],
   "source": [
    "path_to_file = 'bikes_april.csv'\n",
    "bikes_april = pd.read_csv(path_to_file)"
   ]
  },
  {
   "cell_type": "code",
   "execution_count": 3,
   "id": "4915ecfe",
   "metadata": {},
   "outputs": [
    {
     "data": {
      "text/html": [
       "<div>\n",
       "<style scoped>\n",
       "    .dataframe tbody tr th:only-of-type {\n",
       "        vertical-align: middle;\n",
       "    }\n",
       "\n",
       "    .dataframe tbody tr th {\n",
       "        vertical-align: top;\n",
       "    }\n",
       "\n",
       "    .dataframe thead th {\n",
       "        text-align: right;\n",
       "    }\n",
       "</style>\n",
       "<table border=\"1\" class=\"dataframe\">\n",
       "  <thead>\n",
       "    <tr style=\"text-align: right;\">\n",
       "      <th></th>\n",
       "      <th>start_time</th>\n",
       "      <th>trip_id</th>\n",
       "      <th>end_time</th>\n",
       "      <th>bikeid</th>\n",
       "      <th>tripduration</th>\n",
       "      <th>from_station_id</th>\n",
       "      <th>from_station_name</th>\n",
       "      <th>to_station_id</th>\n",
       "      <th>to_station_name</th>\n",
       "      <th>usertype</th>\n",
       "      <th>gender</th>\n",
       "      <th>birthyear</th>\n",
       "    </tr>\n",
       "  </thead>\n",
       "  <tbody>\n",
       "    <tr>\n",
       "      <th>0</th>\n",
       "      <td>2018-04-01 00:10:23</td>\n",
       "      <td>18000531</td>\n",
       "      <td>2018-04-01 00:22:12</td>\n",
       "      <td>5065</td>\n",
       "      <td>709.0</td>\n",
       "      <td>228</td>\n",
       "      <td>Damen Ave &amp; Melrose Ave</td>\n",
       "      <td>219</td>\n",
       "      <td>Damen Ave &amp; Cortland St</td>\n",
       "      <td>Subscriber</td>\n",
       "      <td>Male</td>\n",
       "      <td>1983.0</td>\n",
       "    </tr>\n",
       "    <tr>\n",
       "      <th>1</th>\n",
       "      <td>2018-04-01 00:15:49</td>\n",
       "      <td>18000533</td>\n",
       "      <td>2018-04-01 00:19:47</td>\n",
       "      <td>4570</td>\n",
       "      <td>238.0</td>\n",
       "      <td>128</td>\n",
       "      <td>Damen Ave &amp; Chicago Ave</td>\n",
       "      <td>130</td>\n",
       "      <td>Damen Ave &amp; Division St</td>\n",
       "      <td>Subscriber</td>\n",
       "      <td>Male</td>\n",
       "      <td>1978.0</td>\n",
       "    </tr>\n",
       "    <tr>\n",
       "      <th>2</th>\n",
       "      <td>2018-04-01 00:17:00</td>\n",
       "      <td>18000534</td>\n",
       "      <td>2018-04-01 00:22:53</td>\n",
       "      <td>1323</td>\n",
       "      <td>353.0</td>\n",
       "      <td>130</td>\n",
       "      <td>Damen Ave &amp; Division St</td>\n",
       "      <td>69</td>\n",
       "      <td>Damen Ave &amp; Pierce Ave</td>\n",
       "      <td>Subscriber</td>\n",
       "      <td>Male</td>\n",
       "      <td>1991.0</td>\n",
       "    </tr>\n",
       "    <tr>\n",
       "      <th>3</th>\n",
       "      <td>2018-04-01 00:20:00</td>\n",
       "      <td>18000536</td>\n",
       "      <td>2018-04-01 00:26:22</td>\n",
       "      <td>2602</td>\n",
       "      <td>382.0</td>\n",
       "      <td>121</td>\n",
       "      <td>Blackstone Ave &amp; Hyde Park Blvd</td>\n",
       "      <td>351</td>\n",
       "      <td>Cottage Grove Ave &amp; 51st St</td>\n",
       "      <td>Subscriber</td>\n",
       "      <td>Female</td>\n",
       "      <td>1992.0</td>\n",
       "    </tr>\n",
       "    <tr>\n",
       "      <th>4</th>\n",
       "      <td>2018-04-01 00:23:19</td>\n",
       "      <td>18000538</td>\n",
       "      <td>2018-04-01 00:35:01</td>\n",
       "      <td>4213</td>\n",
       "      <td>702.0</td>\n",
       "      <td>31</td>\n",
       "      <td>Franklin St &amp; Chicago Ave</td>\n",
       "      <td>180</td>\n",
       "      <td>Ritchie Ct &amp; Banks St</td>\n",
       "      <td>Subscriber</td>\n",
       "      <td>Male</td>\n",
       "      <td>1985.0</td>\n",
       "    </tr>\n",
       "  </tbody>\n",
       "</table>\n",
       "</div>"
      ],
      "text/plain": [
       "            start_time   trip_id             end_time  bikeid tripduration  \\\n",
       "0  2018-04-01 00:10:23  18000531  2018-04-01 00:22:12    5065        709.0   \n",
       "1  2018-04-01 00:15:49  18000533  2018-04-01 00:19:47    4570        238.0   \n",
       "2  2018-04-01 00:17:00  18000534  2018-04-01 00:22:53    1323        353.0   \n",
       "3  2018-04-01 00:20:00  18000536  2018-04-01 00:26:22    2602        382.0   \n",
       "4  2018-04-01 00:23:19  18000538  2018-04-01 00:35:01    4213        702.0   \n",
       "\n",
       "   from_station_id                from_station_name  to_station_id  \\\n",
       "0              228          Damen Ave & Melrose Ave            219   \n",
       "1              128          Damen Ave & Chicago Ave            130   \n",
       "2              130          Damen Ave & Division St             69   \n",
       "3              121  Blackstone Ave & Hyde Park Blvd            351   \n",
       "4               31        Franklin St & Chicago Ave            180   \n",
       "\n",
       "               to_station_name    usertype  gender  birthyear  \n",
       "0      Damen Ave & Cortland St  Subscriber    Male     1983.0  \n",
       "1      Damen Ave & Division St  Subscriber    Male     1978.0  \n",
       "2       Damen Ave & Pierce Ave  Subscriber    Male     1991.0  \n",
       "3  Cottage Grove Ave & 51st St  Subscriber  Female     1992.0  \n",
       "4        Ritchie Ct & Banks St  Subscriber    Male     1985.0  "
      ]
     },
     "execution_count": 3,
     "metadata": {},
     "output_type": "execute_result"
    }
   ],
   "source": [
    "bikes_april.head()"
   ]
  },
  {
   "cell_type": "code",
   "execution_count": 4,
   "id": "03681c8a",
   "metadata": {},
   "outputs": [],
   "source": [
    "bikes_april.start_time = pd.to_datetime(bikes_april.start_time)\n",
    "bikes_april.end_time   = pd.to_datetime(bikes_april.end_time)"
   ]
  },
  {
   "cell_type": "code",
   "execution_count": 5,
   "id": "fd85d49f",
   "metadata": {},
   "outputs": [
    {
     "data": {
      "text/plain": [
       "start_time           datetime64[ns]\n",
       "trip_id                       int64\n",
       "end_time             datetime64[ns]\n",
       "bikeid                        int64\n",
       "tripduration                 object\n",
       "from_station_id               int64\n",
       "from_station_name            object\n",
       "to_station_id                 int64\n",
       "to_station_name              object\n",
       "usertype                     object\n",
       "gender                       object\n",
       "birthyear                   float64\n",
       "dtype: object"
      ]
     },
     "execution_count": 5,
     "metadata": {},
     "output_type": "execute_result"
    }
   ],
   "source": [
    "bikes_april.dtypes"
   ]
  },
  {
   "cell_type": "code",
   "execution_count": 6,
   "id": "82b59df0",
   "metadata": {},
   "outputs": [],
   "source": [
    "bikes_april = bikes_april.sort_values(by='start_time')\n",
    "bikes_april_set_index_start_time = bikes_april.set_index('start_time')"
   ]
  },
  {
   "cell_type": "markdown",
   "id": "bbe3d398",
   "metadata": {},
   "source": [
    "Посмотрим на распределение количества аренд для разных групп пользователей (usertype) — customers и subscribers в данных за апрель. \n",
    "\n",
    "\n",
    "Сделайте ресемпл по дням для каждой группы и в качестве ответа укажите число аренд за 18 апреля, сделанных пользователями типа Subscriber."
   ]
  },
  {
   "cell_type": "code",
   "execution_count": 13,
   "id": "0a20dc79",
   "metadata": {},
   "outputs": [
    {
     "data": {
      "text/plain": [
       "<matplotlib.axes._subplots.AxesSubplot at 0x7faa39f60f98>"
      ]
     },
     "execution_count": 13,
     "metadata": {},
     "output_type": "execute_result"
    },
    {
     "data": {
      "image/png": "[encoded data removed]",
      "text/plain": [
       "<Figure size 432x288 with 1 Axes>"
      ]
     },
     "metadata": {
      "needs_background": "light"
     },
     "output_type": "display_data"
    }
   ],
   "source": [
    "#Посмотрим на распределение количества аренд для разных групп пользователей (usertype)\n",
    "bikes_april_set_index_start_time.groupby('usertype').resample(rule='D').size().T.plot()"
   ]
  },
  {
   "cell_type": "code",
   "execution_count": 10,
   "id": "4ef157ee",
   "metadata": {},
   "outputs": [
    {
     "data": {
      "text/plain": [
       "2196"
      ]
     },
     "execution_count": 10,
     "metadata": {},
     "output_type": "execute_result"
    }
   ],
   "source": [
    "bikes_april_set_index_start_time\\\n",
    "    .query(\"usertype == 'Subscriber'\")\\\n",
    "    .resample(rule='D')\\\n",
    "    .size()\\\n",
    "    .loc['2018-04-18']"
   ]
  },
  {
   "cell_type": "code",
   "execution_count": null,
   "id": "c49e21af",
   "metadata": {},
   "outputs": [],
   "source": [
    "bikes_april_usertype = bikes_april_set_index_start_time\\\n",
    "    .query(\"usertype == 'Customer'\")\\\n",
    "    .resample(rule='D')\\\n",
    "    .size()\n",
    "bikes_april_usertype"
   ]
  },
  {
   "cell_type": "markdown",
   "id": "6f5ee3e3",
   "metadata": {},
   "source": [
    "Второй способ через .T"
   ]
  },
  {
   "cell_type": "code",
   "execution_count": 15,
   "id": "debfa032",
   "metadata": {},
   "outputs": [
    {
     "data": {
      "text/plain": [
       "0    2196\n",
       "Name: 2018-04-18 00:00:00, dtype: int64"
      ]
     },
     "execution_count": 15,
     "metadata": {},
     "output_type": "execute_result"
    }
   ],
   "source": [
    "bikes_april_count_subscriber_per_d = bikes_april_set_index_start_time\\\n",
    "    .query(\"usertype == 'Subscriber'\")\\\n",
    "    .resample(rule='D')\\\n",
    "    .size()\\\n",
    "    .to_frame()\\\n",
    "    .T\n",
    "bikes_april_count_subscriber_per_d['2018-04-18']"
   ]
  },
  {
   "cell_type": "code",
   "execution_count": null,
   "id": "7eed8cdb",
   "metadata": {},
   "outputs": [],
   "source": []
  }
 ],
 "metadata": {
  "kernelspec": {
   "display_name": "Python 3",
   "language": "python",
   "name": "python3"
  },
  "language_info": {
   "codemirror_mode": {
    "name": "ipython",
    "version": 3
   },
   "file_extension": ".py",
   "mimetype": "text/x-python",
   "name": "python",
   "nbconvert_exporter": "python",
   "pygments_lexer": "ipython3",
   "version": "3.7.3"
  }
 },
 "nbformat": 4,
 "nbformat_minor": 5
}
