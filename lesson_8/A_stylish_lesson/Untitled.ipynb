{
 "cells": [
  {
   "cell_type": "code",
   "execution_count": 1,
   "id": "0d3b8ce3",
   "metadata": {},
   "outputs": [],
   "source": [
    "import pandas as pd \n",
    "import numpy as np "
   ]
  },
  {
   "cell_type": "code",
   "execution_count": 2,
   "id": "5a8b8b8b",
   "metadata": {},
   "outputs": [
    {
     "data": {
      "text/html": [
       "<div>\n",
       "<style scoped>\n",
       "    .dataframe tbody tr th:only-of-type {\n",
       "        vertical-align: middle;\n",
       "    }\n",
       "\n",
       "    .dataframe tbody tr th {\n",
       "        vertical-align: top;\n",
       "    }\n",
       "\n",
       "    .dataframe thead th {\n",
       "        text-align: right;\n",
       "    }\n",
       "</style>\n",
       "<table border=\"1\" class=\"dataframe\">\n",
       "  <thead>\n",
       "    <tr style=\"text-align: right;\">\n",
       "      <th></th>\n",
       "      <th>A</th>\n",
       "      <th>B</th>\n",
       "      <th>C</th>\n",
       "      <th>D</th>\n",
       "    </tr>\n",
       "  </thead>\n",
       "  <tbody>\n",
       "    <tr>\n",
       "      <th>0</th>\n",
       "      <td>0</td>\n",
       "      <td>7</td>\n",
       "      <td>-10</td>\n",
       "      <td>49</td>\n",
       "    </tr>\n",
       "    <tr>\n",
       "      <th>1</th>\n",
       "      <td>1</td>\n",
       "      <td>4</td>\n",
       "      <td>-3</td>\n",
       "      <td>90</td>\n",
       "    </tr>\n",
       "    <tr>\n",
       "      <th>2</th>\n",
       "      <td>2</td>\n",
       "      <td>4</td>\n",
       "      <td>2</td>\n",
       "      <td>44</td>\n",
       "    </tr>\n",
       "    <tr>\n",
       "      <th>3</th>\n",
       "      <td>3</td>\n",
       "      <td>5</td>\n",
       "      <td>9</td>\n",
       "      <td>26</td>\n",
       "    </tr>\n",
       "    <tr>\n",
       "      <th>4</th>\n",
       "      <td>4</td>\n",
       "      <td>8</td>\n",
       "      <td>-10</td>\n",
       "      <td>37</td>\n",
       "    </tr>\n",
       "  </tbody>\n",
       "</table>\n",
       "</div>"
      ],
      "text/plain": [
       "   A  B   C   D\n",
       "0  0  7 -10  49\n",
       "1  1  4  -3  90\n",
       "2  2  4   2  44\n",
       "3  3  5   9  26\n",
       "4  4  8 -10  37"
      ]
     },
     "execution_count": 2,
     "metadata": {},
     "output_type": "execute_result"
    }
   ],
   "source": [
    "np.random.seed(77)\n",
    "df = pd.DataFrame({'A': list(range(5)), \n",
    "                   'B': np.random.randint(0, 10, 5),\n",
    "                   'C': np.random.randint(-10, 10, 5), \n",
    "                   'D': np.random.randint(-10, 100, 5)})\n",
    "df"
   ]
  },
  {
   "cell_type": "code",
   "execution_count": 4,
   "id": "a743206b",
   "metadata": {},
   "outputs": [
    {
     "data": {
      "text/html": [
       "<style  type=\"text/css\" >\n",
       "</style><table id=\"T_da4f0cb0_e778_11ee_bdbb_96000040dfb6\" ><caption>Cool_table</caption><thead>    <tr>        <th class=\"col_heading level0 col0\" >A</th>        <th class=\"col_heading level0 col1\" >B</th>        <th class=\"col_heading level0 col2\" >C</th>        <th class=\"col_heading level0 col3\" >D</th>    </tr></thead><tbody>\n",
       "                <tr>\n",
       "                                <td id=\"T_da4f0cb0_e778_11ee_bdbb_96000040dfb6row0_col0\" class=\"data row0 col0\" >0</td>\n",
       "                        <td id=\"T_da4f0cb0_e778_11ee_bdbb_96000040dfb6row0_col1\" class=\"data row0 col1\" >7</td>\n",
       "                        <td id=\"T_da4f0cb0_e778_11ee_bdbb_96000040dfb6row0_col2\" class=\"data row0 col2\" >-10</td>\n",
       "                        <td id=\"T_da4f0cb0_e778_11ee_bdbb_96000040dfb6row0_col3\" class=\"data row0 col3\" >49</td>\n",
       "            </tr>\n",
       "            <tr>\n",
       "                                <td id=\"T_da4f0cb0_e778_11ee_bdbb_96000040dfb6row1_col0\" class=\"data row1 col0\" >1</td>\n",
       "                        <td id=\"T_da4f0cb0_e778_11ee_bdbb_96000040dfb6row1_col1\" class=\"data row1 col1\" >4</td>\n",
       "                        <td id=\"T_da4f0cb0_e778_11ee_bdbb_96000040dfb6row1_col2\" class=\"data row1 col2\" >-3</td>\n",
       "                        <td id=\"T_da4f0cb0_e778_11ee_bdbb_96000040dfb6row1_col3\" class=\"data row1 col3\" >90</td>\n",
       "            </tr>\n",
       "            <tr>\n",
       "                                <td id=\"T_da4f0cb0_e778_11ee_bdbb_96000040dfb6row2_col0\" class=\"data row2 col0\" >2</td>\n",
       "                        <td id=\"T_da4f0cb0_e778_11ee_bdbb_96000040dfb6row2_col1\" class=\"data row2 col1\" >4</td>\n",
       "                        <td id=\"T_da4f0cb0_e778_11ee_bdbb_96000040dfb6row2_col2\" class=\"data row2 col2\" >2</td>\n",
       "                        <td id=\"T_da4f0cb0_e778_11ee_bdbb_96000040dfb6row2_col3\" class=\"data row2 col3\" >44</td>\n",
       "            </tr>\n",
       "            <tr>\n",
       "                                <td id=\"T_da4f0cb0_e778_11ee_bdbb_96000040dfb6row3_col0\" class=\"data row3 col0\" >3</td>\n",
       "                        <td id=\"T_da4f0cb0_e778_11ee_bdbb_96000040dfb6row3_col1\" class=\"data row3 col1\" >5</td>\n",
       "                        <td id=\"T_da4f0cb0_e778_11ee_bdbb_96000040dfb6row3_col2\" class=\"data row3 col2\" >9</td>\n",
       "                        <td id=\"T_da4f0cb0_e778_11ee_bdbb_96000040dfb6row3_col3\" class=\"data row3 col3\" >26</td>\n",
       "            </tr>\n",
       "            <tr>\n",
       "                                <td id=\"T_da4f0cb0_e778_11ee_bdbb_96000040dfb6row4_col0\" class=\"data row4 col0\" >4</td>\n",
       "                        <td id=\"T_da4f0cb0_e778_11ee_bdbb_96000040dfb6row4_col1\" class=\"data row4 col1\" >8</td>\n",
       "                        <td id=\"T_da4f0cb0_e778_11ee_bdbb_96000040dfb6row4_col2\" class=\"data row4 col2\" >-10</td>\n",
       "                        <td id=\"T_da4f0cb0_e778_11ee_bdbb_96000040dfb6row4_col3\" class=\"data row4 col3\" >37</td>\n",
       "            </tr>\n",
       "    </tbody></table>"
      ],
      "text/plain": [
       "<pandas.io.formats.style.Styler at 0x7f67919ba8d0>"
      ]
     },
     "execution_count": 4,
     "metadata": {},
     "output_type": "execute_result"
    }
   ],
   "source": [
    "# спрятать индексы, добавить подпись к таблице\n",
    "df.style.hide_index().set_caption('Cool_table')"
   ]
  },
  {
   "cell_type": "code",
   "execution_count": 14,
   "id": "b9e0717d",
   "metadata": {},
   "outputs": [
    {
     "data": {
      "text/html": [
       "<style  type=\"text/css\" >\n",
       "#T_f671396c_e779_11ee_bdbb_96000040dfb6row0_col0,#T_f671396c_e779_11ee_bdbb_96000040dfb6row0_col2,#T_f671396c_e779_11ee_bdbb_96000040dfb6row1_col1,#T_f671396c_e779_11ee_bdbb_96000040dfb6row2_col1,#T_f671396c_e779_11ee_bdbb_96000040dfb6row3_col3,#T_f671396c_e779_11ee_bdbb_96000040dfb6row4_col2{\n",
       "            background-color:  #67A5EB;\n",
       "        }#T_f671396c_e779_11ee_bdbb_96000040dfb6row1_col3,#T_f671396c_e779_11ee_bdbb_96000040dfb6row3_col2,#T_f671396c_e779_11ee_bdbb_96000040dfb6row4_col0,#T_f671396c_e779_11ee_bdbb_96000040dfb6row4_col1{\n",
       "            background-color:  yellow;\n",
       "        }</style><table id=\"T_f671396c_e779_11ee_bdbb_96000040dfb6\" ><thead>    <tr>        <th class=\"blank level0\" ></th>        <th class=\"col_heading level0 col0\" >A</th>        <th class=\"col_heading level0 col1\" >B</th>        <th class=\"col_heading level0 col2\" >C</th>        <th class=\"col_heading level0 col3\" >D</th>    </tr></thead><tbody>\n",
       "                <tr>\n",
       "                        <th id=\"T_f671396c_e779_11ee_bdbb_96000040dfb6level0_row0\" class=\"row_heading level0 row0\" >0</th>\n",
       "                        <td id=\"T_f671396c_e779_11ee_bdbb_96000040dfb6row0_col0\" class=\"data row0 col0\" >0</td>\n",
       "                        <td id=\"T_f671396c_e779_11ee_bdbb_96000040dfb6row0_col1\" class=\"data row0 col1\" >7</td>\n",
       "                        <td id=\"T_f671396c_e779_11ee_bdbb_96000040dfb6row0_col2\" class=\"data row0 col2\" >-10</td>\n",
       "                        <td id=\"T_f671396c_e779_11ee_bdbb_96000040dfb6row0_col3\" class=\"data row0 col3\" >49</td>\n",
       "            </tr>\n",
       "            <tr>\n",
       "                        <th id=\"T_f671396c_e779_11ee_bdbb_96000040dfb6level0_row1\" class=\"row_heading level0 row1\" >1</th>\n",
       "                        <td id=\"T_f671396c_e779_11ee_bdbb_96000040dfb6row1_col0\" class=\"data row1 col0\" >1</td>\n",
       "                        <td id=\"T_f671396c_e779_11ee_bdbb_96000040dfb6row1_col1\" class=\"data row1 col1\" >4</td>\n",
       "                        <td id=\"T_f671396c_e779_11ee_bdbb_96000040dfb6row1_col2\" class=\"data row1 col2\" >-3</td>\n",
       "                        <td id=\"T_f671396c_e779_11ee_bdbb_96000040dfb6row1_col3\" class=\"data row1 col3\" >90</td>\n",
       "            </tr>\n",
       "            <tr>\n",
       "                        <th id=\"T_f671396c_e779_11ee_bdbb_96000040dfb6level0_row2\" class=\"row_heading level0 row2\" >2</th>\n",
       "                        <td id=\"T_f671396c_e779_11ee_bdbb_96000040dfb6row2_col0\" class=\"data row2 col0\" >2</td>\n",
       "                        <td id=\"T_f671396c_e779_11ee_bdbb_96000040dfb6row2_col1\" class=\"data row2 col1\" >4</td>\n",
       "                        <td id=\"T_f671396c_e779_11ee_bdbb_96000040dfb6row2_col2\" class=\"data row2 col2\" >2</td>\n",
       "                        <td id=\"T_f671396c_e779_11ee_bdbb_96000040dfb6row2_col3\" class=\"data row2 col3\" >44</td>\n",
       "            </tr>\n",
       "            <tr>\n",
       "                        <th id=\"T_f671396c_e779_11ee_bdbb_96000040dfb6level0_row3\" class=\"row_heading level0 row3\" >3</th>\n",
       "                        <td id=\"T_f671396c_e779_11ee_bdbb_96000040dfb6row3_col0\" class=\"data row3 col0\" >3</td>\n",
       "                        <td id=\"T_f671396c_e779_11ee_bdbb_96000040dfb6row3_col1\" class=\"data row3 col1\" >5</td>\n",
       "                        <td id=\"T_f671396c_e779_11ee_bdbb_96000040dfb6row3_col2\" class=\"data row3 col2\" >9</td>\n",
       "                        <td id=\"T_f671396c_e779_11ee_bdbb_96000040dfb6row3_col3\" class=\"data row3 col3\" >26</td>\n",
       "            </tr>\n",
       "            <tr>\n",
       "                        <th id=\"T_f671396c_e779_11ee_bdbb_96000040dfb6level0_row4\" class=\"row_heading level0 row4\" >4</th>\n",
       "                        <td id=\"T_f671396c_e779_11ee_bdbb_96000040dfb6row4_col0\" class=\"data row4 col0\" >4</td>\n",
       "                        <td id=\"T_f671396c_e779_11ee_bdbb_96000040dfb6row4_col1\" class=\"data row4 col1\" >8</td>\n",
       "                        <td id=\"T_f671396c_e779_11ee_bdbb_96000040dfb6row4_col2\" class=\"data row4 col2\" >-10</td>\n",
       "                        <td id=\"T_f671396c_e779_11ee_bdbb_96000040dfb6row4_col3\" class=\"data row4 col3\" >37</td>\n",
       "            </tr>\n",
       "    </tbody></table>"
      ],
      "text/plain": [
       "<pandas.io.formats.style.Styler at 0x7f67907d6940>"
      ]
     },
     "execution_count": 14,
     "metadata": {},
     "output_type": "execute_result"
    }
   ],
   "source": [
    "# Выделим максимально значение \n",
    "df.style.highlight_max().highlight_min(color='#67A5EB')"
   ]
  },
  {
   "cell_type": "markdown",
   "id": "ec8dd844",
   "metadata": {},
   "source": [
    "Здесь мы сначала выделяем красным минимальное значение в столбце A (highlight_min), затем – оранжевым максимальное в колонке B (highlight_max), и применяем background_gradient для C и D, указав палитру viridis. "
   ]
  },
  {
   "cell_type": "code",
   "execution_count": 12,
   "id": "759beee0",
   "metadata": {},
   "outputs": [
    {
     "data": {
      "text/html": [
       "<style  type=\"text/css\" >\n",
       "#T_9a5de120_e779_11ee_bdbb_96000040dfb6row0_col0{\n",
       "            background-color:  red;\n",
       "        }#T_9a5de120_e779_11ee_bdbb_96000040dfb6row0_col2,#T_9a5de120_e779_11ee_bdbb_96000040dfb6row3_col3,#T_9a5de120_e779_11ee_bdbb_96000040dfb6row4_col2{\n",
       "            background-color:  #440154;\n",
       "            color:  #f1f1f1;\n",
       "        }#T_9a5de120_e779_11ee_bdbb_96000040dfb6row0_col3{\n",
       "            background-color:  #2e6f8e;\n",
       "            color:  #f1f1f1;\n",
       "        }#T_9a5de120_e779_11ee_bdbb_96000040dfb6row1_col2{\n",
       "            background-color:  #2d718e;\n",
       "            color:  #f1f1f1;\n",
       "        }#T_9a5de120_e779_11ee_bdbb_96000040dfb6row1_col3,#T_9a5de120_e779_11ee_bdbb_96000040dfb6row3_col2{\n",
       "            background-color:  #fde725;\n",
       "            color:  #000000;\n",
       "        }#T_9a5de120_e779_11ee_bdbb_96000040dfb6row2_col2{\n",
       "            background-color:  #29af7f;\n",
       "            color:  #000000;\n",
       "        }#T_9a5de120_e779_11ee_bdbb_96000040dfb6row2_col3{\n",
       "            background-color:  #375b8d;\n",
       "            color:  #f1f1f1;\n",
       "        }#T_9a5de120_e779_11ee_bdbb_96000040dfb6row4_col1{\n",
       "            background-color:  orange;\n",
       "        }#T_9a5de120_e779_11ee_bdbb_96000040dfb6row4_col3{\n",
       "            background-color:  #443b84;\n",
       "            color:  #f1f1f1;\n",
       "        }</style><table id=\"T_9a5de120_e779_11ee_bdbb_96000040dfb6\" ><thead>    <tr>        <th class=\"blank level0\" ></th>        <th class=\"col_heading level0 col0\" >A</th>        <th class=\"col_heading level0 col1\" >B</th>        <th class=\"col_heading level0 col2\" >C</th>        <th class=\"col_heading level0 col3\" >D</th>    </tr></thead><tbody>\n",
       "                <tr>\n",
       "                        <th id=\"T_9a5de120_e779_11ee_bdbb_96000040dfb6level0_row0\" class=\"row_heading level0 row0\" >0</th>\n",
       "                        <td id=\"T_9a5de120_e779_11ee_bdbb_96000040dfb6row0_col0\" class=\"data row0 col0\" >0</td>\n",
       "                        <td id=\"T_9a5de120_e779_11ee_bdbb_96000040dfb6row0_col1\" class=\"data row0 col1\" >7</td>\n",
       "                        <td id=\"T_9a5de120_e779_11ee_bdbb_96000040dfb6row0_col2\" class=\"data row0 col2\" >-10</td>\n",
       "                        <td id=\"T_9a5de120_e779_11ee_bdbb_96000040dfb6row0_col3\" class=\"data row0 col3\" >49</td>\n",
       "            </tr>\n",
       "            <tr>\n",
       "                        <th id=\"T_9a5de120_e779_11ee_bdbb_96000040dfb6level0_row1\" class=\"row_heading level0 row1\" >1</th>\n",
       "                        <td id=\"T_9a5de120_e779_11ee_bdbb_96000040dfb6row1_col0\" class=\"data row1 col0\" >1</td>\n",
       "                        <td id=\"T_9a5de120_e779_11ee_bdbb_96000040dfb6row1_col1\" class=\"data row1 col1\" >4</td>\n",
       "                        <td id=\"T_9a5de120_e779_11ee_bdbb_96000040dfb6row1_col2\" class=\"data row1 col2\" >-3</td>\n",
       "                        <td id=\"T_9a5de120_e779_11ee_bdbb_96000040dfb6row1_col3\" class=\"data row1 col3\" >90</td>\n",
       "            </tr>\n",
       "            <tr>\n",
       "                        <th id=\"T_9a5de120_e779_11ee_bdbb_96000040dfb6level0_row2\" class=\"row_heading level0 row2\" >2</th>\n",
       "                        <td id=\"T_9a5de120_e779_11ee_bdbb_96000040dfb6row2_col0\" class=\"data row2 col0\" >2</td>\n",
       "                        <td id=\"T_9a5de120_e779_11ee_bdbb_96000040dfb6row2_col1\" class=\"data row2 col1\" >4</td>\n",
       "                        <td id=\"T_9a5de120_e779_11ee_bdbb_96000040dfb6row2_col2\" class=\"data row2 col2\" >2</td>\n",
       "                        <td id=\"T_9a5de120_e779_11ee_bdbb_96000040dfb6row2_col3\" class=\"data row2 col3\" >44</td>\n",
       "            </tr>\n",
       "            <tr>\n",
       "                        <th id=\"T_9a5de120_e779_11ee_bdbb_96000040dfb6level0_row3\" class=\"row_heading level0 row3\" >3</th>\n",
       "                        <td id=\"T_9a5de120_e779_11ee_bdbb_96000040dfb6row3_col0\" class=\"data row3 col0\" >3</td>\n",
       "                        <td id=\"T_9a5de120_e779_11ee_bdbb_96000040dfb6row3_col1\" class=\"data row3 col1\" >5</td>\n",
       "                        <td id=\"T_9a5de120_e779_11ee_bdbb_96000040dfb6row3_col2\" class=\"data row3 col2\" >9</td>\n",
       "                        <td id=\"T_9a5de120_e779_11ee_bdbb_96000040dfb6row3_col3\" class=\"data row3 col3\" >26</td>\n",
       "            </tr>\n",
       "            <tr>\n",
       "                        <th id=\"T_9a5de120_e779_11ee_bdbb_96000040dfb6level0_row4\" class=\"row_heading level0 row4\" >4</th>\n",
       "                        <td id=\"T_9a5de120_e779_11ee_bdbb_96000040dfb6row4_col0\" class=\"data row4 col0\" >4</td>\n",
       "                        <td id=\"T_9a5de120_e779_11ee_bdbb_96000040dfb6row4_col1\" class=\"data row4 col1\" >8</td>\n",
       "                        <td id=\"T_9a5de120_e779_11ee_bdbb_96000040dfb6row4_col2\" class=\"data row4 col2\" >-10</td>\n",
       "                        <td id=\"T_9a5de120_e779_11ee_bdbb_96000040dfb6row4_col3\" class=\"data row4 col3\" >37</td>\n",
       "            </tr>\n",
       "    </tbody></table>"
      ],
      "text/plain": [
       "<pandas.io.formats.style.Styler at 0x7f67907d6978>"
      ]
     },
     "execution_count": 12,
     "metadata": {},
     "output_type": "execute_result"
    }
   ],
   "source": [
    "(df.style\n",
    " .highlight_min('A', color='red')\n",
    " .highlight_max('B', color='orange')\n",
    " .background_gradient(subset=['C','D'],cmap='viridis')\n",
    ")"
   ]
  },
  {
   "cell_type": "markdown",
   "id": "2a994011",
   "metadata": {},
   "source": [
    "Визуализируем в таблице "
   ]
  },
  {
   "cell_type": "code",
   "execution_count": 15,
   "id": "7b116730",
   "metadata": {},
   "outputs": [
    {
     "data": {
      "text/html": [
       "<style  type=\"text/css\" >\n",
       "#T_15403c94_e77a_11ee_bdbb_96000040dfb6row0_col2,#T_15403c94_e77a_11ee_bdbb_96000040dfb6row4_col2{\n",
       "            width:  10em;\n",
       "             height:  80%;\n",
       "            background:  linear-gradient(90deg,#67A5EB 52.6%, transparent 52.6%);\n",
       "        }#T_15403c94_e77a_11ee_bdbb_96000040dfb6row0_col3{\n",
       "            width:  10em;\n",
       "             height:  80%;\n",
       "            background:  linear-gradient(90deg,#67A5EB 54.4%, transparent 54.4%);\n",
       "        }#T_15403c94_e77a_11ee_bdbb_96000040dfb6row1_col2{\n",
       "            width:  10em;\n",
       "             height:  80%;\n",
       "            background:  linear-gradient(90deg, transparent 36.8%, #67A5EB 36.8%, #67A5EB 52.6%, transparent 52.6%);\n",
       "        }#T_15403c94_e77a_11ee_bdbb_96000040dfb6row1_col3{\n",
       "            width:  10em;\n",
       "             height:  80%;\n",
       "            background:  linear-gradient(90deg,#67A5EB 100.0%, transparent 100.0%);\n",
       "        }#T_15403c94_e77a_11ee_bdbb_96000040dfb6row2_col2{\n",
       "            width:  10em;\n",
       "             height:  80%;\n",
       "            background:  linear-gradient(90deg, transparent 52.6%, #67A5EB 52.6%, #67A5EB 63.2%, transparent 63.2%);\n",
       "        }#T_15403c94_e77a_11ee_bdbb_96000040dfb6row2_col3{\n",
       "            width:  10em;\n",
       "             height:  80%;\n",
       "            background:  linear-gradient(90deg,#67A5EB 48.9%, transparent 48.9%);\n",
       "        }#T_15403c94_e77a_11ee_bdbb_96000040dfb6row3_col2{\n",
       "            width:  10em;\n",
       "             height:  80%;\n",
       "            background:  linear-gradient(90deg, transparent 52.6%, #67A5EB 52.6%, #67A5EB 100.0%, transparent 100.0%);\n",
       "        }#T_15403c94_e77a_11ee_bdbb_96000040dfb6row3_col3{\n",
       "            width:  10em;\n",
       "             height:  80%;\n",
       "            background:  linear-gradient(90deg,#67A5EB 28.9%, transparent 28.9%);\n",
       "        }#T_15403c94_e77a_11ee_bdbb_96000040dfb6row4_col3{\n",
       "            width:  10em;\n",
       "             height:  80%;\n",
       "            background:  linear-gradient(90deg,#67A5EB 41.1%, transparent 41.1%);\n",
       "        }</style><table id=\"T_15403c94_e77a_11ee_bdbb_96000040dfb6\" ><thead>    <tr>        <th class=\"blank level0\" ></th>        <th class=\"col_heading level0 col0\" >A</th>        <th class=\"col_heading level0 col1\" >B</th>        <th class=\"col_heading level0 col2\" >C</th>        <th class=\"col_heading level0 col3\" >D</th>    </tr></thead><tbody>\n",
       "                <tr>\n",
       "                        <th id=\"T_15403c94_e77a_11ee_bdbb_96000040dfb6level0_row0\" class=\"row_heading level0 row0\" >0</th>\n",
       "                        <td id=\"T_15403c94_e77a_11ee_bdbb_96000040dfb6row0_col0\" class=\"data row0 col0\" >0</td>\n",
       "                        <td id=\"T_15403c94_e77a_11ee_bdbb_96000040dfb6row0_col1\" class=\"data row0 col1\" >7</td>\n",
       "                        <td id=\"T_15403c94_e77a_11ee_bdbb_96000040dfb6row0_col2\" class=\"data row0 col2\" >-10</td>\n",
       "                        <td id=\"T_15403c94_e77a_11ee_bdbb_96000040dfb6row0_col3\" class=\"data row0 col3\" >49</td>\n",
       "            </tr>\n",
       "            <tr>\n",
       "                        <th id=\"T_15403c94_e77a_11ee_bdbb_96000040dfb6level0_row1\" class=\"row_heading level0 row1\" >1</th>\n",
       "                        <td id=\"T_15403c94_e77a_11ee_bdbb_96000040dfb6row1_col0\" class=\"data row1 col0\" >1</td>\n",
       "                        <td id=\"T_15403c94_e77a_11ee_bdbb_96000040dfb6row1_col1\" class=\"data row1 col1\" >4</td>\n",
       "                        <td id=\"T_15403c94_e77a_11ee_bdbb_96000040dfb6row1_col2\" class=\"data row1 col2\" >-3</td>\n",
       "                        <td id=\"T_15403c94_e77a_11ee_bdbb_96000040dfb6row1_col3\" class=\"data row1 col3\" >90</td>\n",
       "            </tr>\n",
       "            <tr>\n",
       "                        <th id=\"T_15403c94_e77a_11ee_bdbb_96000040dfb6level0_row2\" class=\"row_heading level0 row2\" >2</th>\n",
       "                        <td id=\"T_15403c94_e77a_11ee_bdbb_96000040dfb6row2_col0\" class=\"data row2 col0\" >2</td>\n",
       "                        <td id=\"T_15403c94_e77a_11ee_bdbb_96000040dfb6row2_col1\" class=\"data row2 col1\" >4</td>\n",
       "                        <td id=\"T_15403c94_e77a_11ee_bdbb_96000040dfb6row2_col2\" class=\"data row2 col2\" >2</td>\n",
       "                        <td id=\"T_15403c94_e77a_11ee_bdbb_96000040dfb6row2_col3\" class=\"data row2 col3\" >44</td>\n",
       "            </tr>\n",
       "            <tr>\n",
       "                        <th id=\"T_15403c94_e77a_11ee_bdbb_96000040dfb6level0_row3\" class=\"row_heading level0 row3\" >3</th>\n",
       "                        <td id=\"T_15403c94_e77a_11ee_bdbb_96000040dfb6row3_col0\" class=\"data row3 col0\" >3</td>\n",
       "                        <td id=\"T_15403c94_e77a_11ee_bdbb_96000040dfb6row3_col1\" class=\"data row3 col1\" >5</td>\n",
       "                        <td id=\"T_15403c94_e77a_11ee_bdbb_96000040dfb6row3_col2\" class=\"data row3 col2\" >9</td>\n",
       "                        <td id=\"T_15403c94_e77a_11ee_bdbb_96000040dfb6row3_col3\" class=\"data row3 col3\" >26</td>\n",
       "            </tr>\n",
       "            <tr>\n",
       "                        <th id=\"T_15403c94_e77a_11ee_bdbb_96000040dfb6level0_row4\" class=\"row_heading level0 row4\" >4</th>\n",
       "                        <td id=\"T_15403c94_e77a_11ee_bdbb_96000040dfb6row4_col0\" class=\"data row4 col0\" >4</td>\n",
       "                        <td id=\"T_15403c94_e77a_11ee_bdbb_96000040dfb6row4_col1\" class=\"data row4 col1\" >8</td>\n",
       "                        <td id=\"T_15403c94_e77a_11ee_bdbb_96000040dfb6row4_col2\" class=\"data row4 col2\" >-10</td>\n",
       "                        <td id=\"T_15403c94_e77a_11ee_bdbb_96000040dfb6row4_col3\" class=\"data row4 col3\" >37</td>\n",
       "            </tr>\n",
       "    </tbody></table>"
      ],
      "text/plain": [
       "<pandas.io.formats.style.Styler at 0x7f67907d6e80>"
      ]
     },
     "execution_count": 15,
     "metadata": {},
     "output_type": "execute_result"
    }
   ],
   "source": [
    "df.style.bar(subset=['C', 'D'], color='#67A5EB', align='mid')"
   ]
  },
  {
   "cell_type": "code",
   "execution_count": 17,
   "id": "c5d98984",
   "metadata": {},
   "outputs": [
    {
     "data": {
      "text/html": [
       "<style  type=\"text/css\" >\n",
       "#T_4fb40716_e77a_11ee_bdbb_96000040dfb6row0_col2,#T_4fb40716_e77a_11ee_bdbb_96000040dfb6row4_col2{\n",
       "            width:  10em;\n",
       "             height:  80%;\n",
       "            background:  linear-gradient(90deg,#d65f5f 52.6%, transparent 52.6%);\n",
       "        }#T_4fb40716_e77a_11ee_bdbb_96000040dfb6row1_col2{\n",
       "            width:  10em;\n",
       "             height:  80%;\n",
       "            background:  linear-gradient(90deg, transparent 36.8%, #d65f5f 36.8%, #d65f5f 52.6%, transparent 52.6%);\n",
       "        }#T_4fb40716_e77a_11ee_bdbb_96000040dfb6row2_col2{\n",
       "            width:  10em;\n",
       "             height:  80%;\n",
       "            background:  linear-gradient(90deg, transparent 52.6%, #5fba7d 52.6%, #5fba7d 63.2%, transparent 63.2%);\n",
       "        }#T_4fb40716_e77a_11ee_bdbb_96000040dfb6row3_col2{\n",
       "            width:  10em;\n",
       "             height:  80%;\n",
       "            background:  linear-gradient(90deg, transparent 52.6%, #5fba7d 52.6%, #5fba7d 100.0%, transparent 100.0%);\n",
       "        }</style><table id=\"T_4fb40716_e77a_11ee_bdbb_96000040dfb6\" ><thead>    <tr>        <th class=\"col_heading level0 col0\" >A</th>        <th class=\"col_heading level0 col1\" >B</th>        <th class=\"col_heading level0 col2\" >C</th>        <th class=\"col_heading level0 col3\" >D</th>    </tr></thead><tbody>\n",
       "                <tr>\n",
       "                                <td id=\"T_4fb40716_e77a_11ee_bdbb_96000040dfb6row0_col0\" class=\"data row0 col0\" >0</td>\n",
       "                        <td id=\"T_4fb40716_e77a_11ee_bdbb_96000040dfb6row0_col1\" class=\"data row0 col1\" >7</td>\n",
       "                        <td id=\"T_4fb40716_e77a_11ee_bdbb_96000040dfb6row0_col2\" class=\"data row0 col2\" >-10</td>\n",
       "                        <td id=\"T_4fb40716_e77a_11ee_bdbb_96000040dfb6row0_col3\" class=\"data row0 col3\" >49</td>\n",
       "            </tr>\n",
       "            <tr>\n",
       "                                <td id=\"T_4fb40716_e77a_11ee_bdbb_96000040dfb6row1_col0\" class=\"data row1 col0\" >1</td>\n",
       "                        <td id=\"T_4fb40716_e77a_11ee_bdbb_96000040dfb6row1_col1\" class=\"data row1 col1\" >4</td>\n",
       "                        <td id=\"T_4fb40716_e77a_11ee_bdbb_96000040dfb6row1_col2\" class=\"data row1 col2\" >-3</td>\n",
       "                        <td id=\"T_4fb40716_e77a_11ee_bdbb_96000040dfb6row1_col3\" class=\"data row1 col3\" >90</td>\n",
       "            </tr>\n",
       "            <tr>\n",
       "                                <td id=\"T_4fb40716_e77a_11ee_bdbb_96000040dfb6row2_col0\" class=\"data row2 col0\" >2</td>\n",
       "                        <td id=\"T_4fb40716_e77a_11ee_bdbb_96000040dfb6row2_col1\" class=\"data row2 col1\" >4</td>\n",
       "                        <td id=\"T_4fb40716_e77a_11ee_bdbb_96000040dfb6row2_col2\" class=\"data row2 col2\" >2</td>\n",
       "                        <td id=\"T_4fb40716_e77a_11ee_bdbb_96000040dfb6row2_col3\" class=\"data row2 col3\" >44</td>\n",
       "            </tr>\n",
       "            <tr>\n",
       "                                <td id=\"T_4fb40716_e77a_11ee_bdbb_96000040dfb6row3_col0\" class=\"data row3 col0\" >3</td>\n",
       "                        <td id=\"T_4fb40716_e77a_11ee_bdbb_96000040dfb6row3_col1\" class=\"data row3 col1\" >5</td>\n",
       "                        <td id=\"T_4fb40716_e77a_11ee_bdbb_96000040dfb6row3_col2\" class=\"data row3 col2\" >9</td>\n",
       "                        <td id=\"T_4fb40716_e77a_11ee_bdbb_96000040dfb6row3_col3\" class=\"data row3 col3\" >26</td>\n",
       "            </tr>\n",
       "            <tr>\n",
       "                                <td id=\"T_4fb40716_e77a_11ee_bdbb_96000040dfb6row4_col0\" class=\"data row4 col0\" >4</td>\n",
       "                        <td id=\"T_4fb40716_e77a_11ee_bdbb_96000040dfb6row4_col1\" class=\"data row4 col1\" >8</td>\n",
       "                        <td id=\"T_4fb40716_e77a_11ee_bdbb_96000040dfb6row4_col2\" class=\"data row4 col2\" >-10</td>\n",
       "                        <td id=\"T_4fb40716_e77a_11ee_bdbb_96000040dfb6row4_col3\" class=\"data row4 col3\" >37</td>\n",
       "            </tr>\n",
       "    </tbody></table>"
      ],
      "text/plain": [
       "<pandas.io.formats.style.Styler at 0x7f67907d6e48>"
      ]
     },
     "execution_count": 17,
     "metadata": {},
     "output_type": "execute_result"
    }
   ],
   "source": [
    "# можно указать сразу несколько цветов. отрицательные окрасим в красный, положительные - в зеленый \n",
    "(df\n",
    " .style\n",
    " .hide_index()\n",
    " .bar(subset=['C'], align='mid',color=['#d65f5f', '#5fba7d'])\n",
    ")"
   ]
  },
  {
   "cell_type": "code",
   "execution_count": null,
   "id": "fdfbdc79",
   "metadata": {},
   "outputs": [],
   "source": []
  },
  {
   "cell_type": "code",
   "execution_count": null,
   "id": "600cfbf1",
   "metadata": {},
   "outputs": [],
   "source": []
  }
 ],
 "metadata": {
  "kernelspec": {
   "display_name": "Python 3",
   "language": "python",
   "name": "python3"
  },
  "language_info": {
   "codemirror_mode": {
    "name": "ipython",
    "version": 3
   },
   "file_extension": ".py",
   "mimetype": "text/x-python",
   "name": "python",
   "nbconvert_exporter": "python",
   "pygments_lexer": "ipython3",
   "version": "3.7.3"
  }
 },
 "nbformat": 4,
 "nbformat_minor": 5
}
