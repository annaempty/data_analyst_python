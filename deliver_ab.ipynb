{
 "cells": [
  {
   "cell_type": "markdown",
   "id": "1c8a3232",
   "metadata": {},
   "source": [
    "### Кейс №2 - Приложение доставки\n",
    "\n",
    "Вы работаете аналитиком в приложении по доставке продуктов. Команда внедрила в приложение умную систему рекомендации товаров – предполагается, что такая система поможет пользователям эффективнее работать с приложением и лучше находить необходимые товары.\n",
    "\n",
    "Чтобы проверить эффективность системы рекомендаций, был проведен АБ-тест. В группе 1 оказались пользователи с новой системой рекомендаций, в группе 0 пользователи со старой версией приложения, где нет рекомендации товаров.\n",
    "\n",
    "Ваша задача – оценить, смогла ли новая система рекомендаций принести пользу бизнесу и пользователям приложения. Для этого нужно выбрать метрики, которые отвечают за качество сервиса, и статистически сравнить эти метрики в двух группах.\n",
    "\n",
    "Результат вашей работы – аналитическое заключение с ответом на вопрос, стоит ли включать новую систему рекомендаций на всех пользователей."
   ]
  },
  {
   "cell_type": "code",
   "execution_count": 162,
   "id": "9aca7ea9",
   "metadata": {},
   "outputs": [],
   "source": [
    "import pandas as pd \n",
    "import numpy as np\n",
    "\n",
    "import scipy.stats as ss\n",
    "import pingouin as pg\n",
    "\n",
    "import seaborn as sns\n",
    "import matplotlib.pyplot as plt\n",
    "\n",
    "%matplotlib inline"
   ]
  },
  {
   "cell_type": "code",
   "execution_count": 94,
   "id": "634d1547",
   "metadata": {},
   "outputs": [],
   "source": [
    "df_user_data = pd.read_csv('ab_users_data.csv')\n",
    "df_order = pd.read_csv('ab_orders.csv')\n",
    "df_products = pd.read_csv('ab_products.csv')"
   ]
  },
  {
   "cell_type": "markdown",
   "id": "546b3506-6cde-4f8b-8291-c080c2b438c9",
   "metadata": {},
   "source": [
    "## Предварительное изучение данных"
   ]
  },
  {
   "cell_type": "markdown",
   "id": "0cc2abff-e35d-4d85-bc8e-2df6a67319d6",
   "metadata": {},
   "source": [
    "### df_user_data \n",
    "Данные: \n",
    "- user_id - id пользователя\n",
    "- order_id - id заказа\n",
    "- action - действие ('create_order', 'cancel_order')\n",
    "- time - время совершения действия\n",
    "- date - дата\n",
    "- group - группа (0 - контрольная, 1 - экспериментальная)"
   ]
  },
  {
   "cell_type": "code",
   "execution_count": 95,
   "id": "1b11d729",
   "metadata": {},
   "outputs": [
    {
     "data": {
      "text/html": [
       "<div>\n",
       "<style scoped>\n",
       "    .dataframe tbody tr th:only-of-type {\n",
       "        vertical-align: middle;\n",
       "    }\n",
       "\n",
       "    .dataframe tbody tr th {\n",
       "        vertical-align: top;\n",
       "    }\n",
       "\n",
       "    .dataframe thead th {\n",
       "        text-align: right;\n",
       "    }\n",
       "</style>\n",
       "<table border=\"1\" class=\"dataframe\">\n",
       "  <thead>\n",
       "    <tr style=\"text-align: right;\">\n",
       "      <th></th>\n",
       "      <th>user_id</th>\n",
       "      <th>order_id</th>\n",
       "      <th>action</th>\n",
       "      <th>time</th>\n",
       "      <th>date</th>\n",
       "      <th>group</th>\n",
       "    </tr>\n",
       "  </thead>\n",
       "  <tbody>\n",
       "    <tr>\n",
       "      <th>0</th>\n",
       "      <td>964</td>\n",
       "      <td>1255</td>\n",
       "      <td>create_order</td>\n",
       "      <td>2022-08-26 00:00:19.000000</td>\n",
       "      <td>2022-08-26</td>\n",
       "      <td>0</td>\n",
       "    </tr>\n",
       "    <tr>\n",
       "      <th>1</th>\n",
       "      <td>965</td>\n",
       "      <td>1256</td>\n",
       "      <td>create_order</td>\n",
       "      <td>2022-08-26 00:02:21.000000</td>\n",
       "      <td>2022-08-26</td>\n",
       "      <td>1</td>\n",
       "    </tr>\n",
       "    <tr>\n",
       "      <th>2</th>\n",
       "      <td>964</td>\n",
       "      <td>1257</td>\n",
       "      <td>create_order</td>\n",
       "      <td>2022-08-26 00:02:27.000000</td>\n",
       "      <td>2022-08-26</td>\n",
       "      <td>0</td>\n",
       "    </tr>\n",
       "    <tr>\n",
       "      <th>3</th>\n",
       "      <td>966</td>\n",
       "      <td>1258</td>\n",
       "      <td>create_order</td>\n",
       "      <td>2022-08-26 00:02:56.000000</td>\n",
       "      <td>2022-08-26</td>\n",
       "      <td>0</td>\n",
       "    </tr>\n",
       "    <tr>\n",
       "      <th>4</th>\n",
       "      <td>967</td>\n",
       "      <td>1259</td>\n",
       "      <td>create_order</td>\n",
       "      <td>2022-08-26 00:03:37.000000</td>\n",
       "      <td>2022-08-26</td>\n",
       "      <td>1</td>\n",
       "    </tr>\n",
       "  </tbody>\n",
       "</table>\n",
       "</div>"
      ],
      "text/plain": [
       "   user_id  order_id        action                        time        date  \\\n",
       "0      964      1255  create_order  2022-08-26 00:00:19.000000  2022-08-26   \n",
       "1      965      1256  create_order  2022-08-26 00:02:21.000000  2022-08-26   \n",
       "2      964      1257  create_order  2022-08-26 00:02:27.000000  2022-08-26   \n",
       "3      966      1258  create_order  2022-08-26 00:02:56.000000  2022-08-26   \n",
       "4      967      1259  create_order  2022-08-26 00:03:37.000000  2022-08-26   \n",
       "\n",
       "   group  \n",
       "0      0  \n",
       "1      1  \n",
       "2      0  \n",
       "3      0  \n",
       "4      1  "
      ]
     },
     "execution_count": 95,
     "metadata": {},
     "output_type": "execute_result"
    }
   ],
   "source": [
    "df_user_data.head()"
   ]
  },
  {
   "cell_type": "code",
   "execution_count": 96,
   "id": "132e9f59-2735-4baf-983d-a6b04650b258",
   "metadata": {},
   "outputs": [
    {
     "data": {
      "text/plain": [
       "array(['create_order', 'cancel_order'], dtype=object)"
      ]
     },
     "execution_count": 96,
     "metadata": {},
     "output_type": "execute_result"
    }
   ],
   "source": [
    "df_user_data.action.unique()"
   ]
  },
  {
   "cell_type": "code",
   "execution_count": 97,
   "id": "073a47d0",
   "metadata": {},
   "outputs": [
    {
     "data": {
      "text/plain": [
       "user_id      int64\n",
       "order_id     int64\n",
       "action      object\n",
       "time        object\n",
       "date        object\n",
       "group        int64\n",
       "dtype: object"
      ]
     },
     "execution_count": 97,
     "metadata": {},
     "output_type": "execute_result"
    }
   ],
   "source": [
    "df_user_data.dtypes"
   ]
  },
  {
   "cell_type": "code",
   "execution_count": 98,
   "id": "2fb53b8f",
   "metadata": {},
   "outputs": [],
   "source": [
    "df_user_data['time'] = pd.to_datetime(df_user_data['time'])\n",
    "df_user_data['date'] = pd.to_datetime(df_user_data['date'], format='%Y-%m-%d')"
   ]
  },
  {
   "cell_type": "code",
   "execution_count": 99,
   "id": "582d03ed",
   "metadata": {},
   "outputs": [
    {
     "data": {
      "text/plain": [
       "(4337, 6)"
      ]
     },
     "execution_count": 99,
     "metadata": {},
     "output_type": "execute_result"
    }
   ],
   "source": [
    "df_user_data.shape"
   ]
  },
  {
   "cell_type": "code",
   "execution_count": 100,
   "id": "54410c41",
   "metadata": {},
   "outputs": [
    {
     "data": {
      "text/html": [
       "<div>\n",
       "<style scoped>\n",
       "    .dataframe tbody tr th:only-of-type {\n",
       "        vertical-align: middle;\n",
       "    }\n",
       "\n",
       "    .dataframe tbody tr th {\n",
       "        vertical-align: top;\n",
       "    }\n",
       "\n",
       "    .dataframe thead th {\n",
       "        text-align: right;\n",
       "    }\n",
       "</style>\n",
       "<table border=\"1\" class=\"dataframe\">\n",
       "  <thead>\n",
       "    <tr style=\"text-align: right;\">\n",
       "      <th></th>\n",
       "      <th>order_id</th>\n",
       "    </tr>\n",
       "    <tr>\n",
       "      <th>group</th>\n",
       "      <th></th>\n",
       "    </tr>\n",
       "  </thead>\n",
       "  <tbody>\n",
       "    <tr>\n",
       "      <th>0</th>\n",
       "      <td>1691</td>\n",
       "    </tr>\n",
       "    <tr>\n",
       "      <th>1</th>\n",
       "      <td>2646</td>\n",
       "    </tr>\n",
       "  </tbody>\n",
       "</table>\n",
       "</div>"
      ],
      "text/plain": [
       "       order_id\n",
       "group          \n",
       "0          1691\n",
       "1          2646"
      ]
     },
     "execution_count": 100,
     "metadata": {},
     "output_type": "execute_result"
    }
   ],
   "source": [
    "df_user_data.groupby('group')\\\n",
    "    .agg({'order_id':'count'})"
   ]
  },
  {
   "cell_type": "code",
   "execution_count": 101,
   "id": "ebac8d24-c89e-42dc-ad24-ff30b6b1d272",
   "metadata": {},
   "outputs": [
    {
     "data": {
      "text/plain": [
       "1017"
      ]
     },
     "execution_count": 101,
     "metadata": {},
     "output_type": "execute_result"
    }
   ],
   "source": [
    "df_user_data.user_id.nunique()"
   ]
  },
  {
   "cell_type": "code",
   "execution_count": 102,
   "id": "638c1285-df63-4f1c-b0db-ad1925fafd43",
   "metadata": {},
   "outputs": [
    {
     "data": {
      "text/plain": [
       "4123"
      ]
     },
     "execution_count": 102,
     "metadata": {},
     "output_type": "execute_result"
    }
   ],
   "source": [
    "df_user_data.order_id.nunique()"
   ]
  },
  {
   "cell_type": "markdown",
   "id": "d3151cc4-66c5-4081-9af2-8baec9f3cfdd",
   "metadata": {},
   "source": [
    "### df_order  \n",
    "\n",
    "Данные:\n",
    "- order_id - id заказа\n",
    "- creation_time - время создания заказа\n",
    "- product_ids - список продуктов "
   ]
  },
  {
   "cell_type": "code",
   "execution_count": 103,
   "id": "81754042",
   "metadata": {},
   "outputs": [
    {
     "data": {
      "text/html": [
       "<div>\n",
       "<style scoped>\n",
       "    .dataframe tbody tr th:only-of-type {\n",
       "        vertical-align: middle;\n",
       "    }\n",
       "\n",
       "    .dataframe tbody tr th {\n",
       "        vertical-align: top;\n",
       "    }\n",
       "\n",
       "    .dataframe thead th {\n",
       "        text-align: right;\n",
       "    }\n",
       "</style>\n",
       "<table border=\"1\" class=\"dataframe\">\n",
       "  <thead>\n",
       "    <tr style=\"text-align: right;\">\n",
       "      <th></th>\n",
       "      <th>order_id</th>\n",
       "      <th>creation_time</th>\n",
       "      <th>product_ids</th>\n",
       "    </tr>\n",
       "  </thead>\n",
       "  <tbody>\n",
       "    <tr>\n",
       "      <th>0</th>\n",
       "      <td>1255</td>\n",
       "      <td>2022-08-26 00:00:19.000000</td>\n",
       "      <td>{75, 22, 53, 84}</td>\n",
       "    </tr>\n",
       "    <tr>\n",
       "      <th>1</th>\n",
       "      <td>1256</td>\n",
       "      <td>2022-08-26 00:02:21.000000</td>\n",
       "      <td>{56, 76, 39}</td>\n",
       "    </tr>\n",
       "    <tr>\n",
       "      <th>2</th>\n",
       "      <td>1257</td>\n",
       "      <td>2022-08-26 00:02:27.000000</td>\n",
       "      <td>{76, 34, 41, 38}</td>\n",
       "    </tr>\n",
       "    <tr>\n",
       "      <th>3</th>\n",
       "      <td>1258</td>\n",
       "      <td>2022-08-26 00:02:56.000000</td>\n",
       "      <td>{74, 6}</td>\n",
       "    </tr>\n",
       "    <tr>\n",
       "      <th>4</th>\n",
       "      <td>1259</td>\n",
       "      <td>2022-08-26 00:03:37.000000</td>\n",
       "      <td>{20, 45, 67, 26}</td>\n",
       "    </tr>\n",
       "  </tbody>\n",
       "</table>\n",
       "</div>"
      ],
      "text/plain": [
       "   order_id               creation_time       product_ids\n",
       "0      1255  2022-08-26 00:00:19.000000  {75, 22, 53, 84}\n",
       "1      1256  2022-08-26 00:02:21.000000      {56, 76, 39}\n",
       "2      1257  2022-08-26 00:02:27.000000  {76, 34, 41, 38}\n",
       "3      1258  2022-08-26 00:02:56.000000           {74, 6}\n",
       "4      1259  2022-08-26 00:03:37.000000  {20, 45, 67, 26}"
      ]
     },
     "execution_count": 103,
     "metadata": {},
     "output_type": "execute_result"
    }
   ],
   "source": [
    "df_order.head()"
   ]
  },
  {
   "cell_type": "code",
   "execution_count": 104,
   "id": "b6af092d-b0a0-4391-a130-81d114459ef8",
   "metadata": {},
   "outputs": [
    {
     "data": {
      "text/plain": [
       "(4123, 3)"
      ]
     },
     "execution_count": 104,
     "metadata": {},
     "output_type": "execute_result"
    }
   ],
   "source": [
    "df_order.shape"
   ]
  },
  {
   "cell_type": "code",
   "execution_count": 105,
   "id": "4a2ab115-e578-4e3e-91c7-7defde3e13ab",
   "metadata": {},
   "outputs": [
    {
     "data": {
      "text/plain": [
       "4123"
      ]
     },
     "execution_count": 105,
     "metadata": {},
     "output_type": "execute_result"
    }
   ],
   "source": [
    "df_order.order_id.nunique()"
   ]
  },
  {
   "cell_type": "code",
   "execution_count": 106,
   "id": "eb91bbee-f140-4964-b26a-6eefd548c6a8",
   "metadata": {},
   "outputs": [
    {
     "data": {
      "text/plain": [
       "order_id          int64\n",
       "creation_time    object\n",
       "product_ids      object\n",
       "dtype: object"
      ]
     },
     "execution_count": 106,
     "metadata": {},
     "output_type": "execute_result"
    }
   ],
   "source": [
    "df_order.dtypes"
   ]
  },
  {
   "cell_type": "code",
   "execution_count": 107,
   "id": "2c87e7e2",
   "metadata": {},
   "outputs": [],
   "source": [
    "df_order['creation_time'] = pd.to_datetime(df_order['creation_time'])"
   ]
  },
  {
   "cell_type": "markdown",
   "id": "8bb2ad73-20e1-4a47-8a26-2a9dbbe56c98",
   "metadata": {},
   "source": [
    "### df_products  \n",
    "Данные:\n",
    "- product_id - id продукта\n",
    "- name - наименование\n",
    "- price - цена за единицу товара"
   ]
  },
  {
   "cell_type": "code",
   "execution_count": 108,
   "id": "32e8527d-0e68-4b90-a26a-6411738cc992",
   "metadata": {},
   "outputs": [
    {
     "data": {
      "text/html": [
       "<div>\n",
       "<style scoped>\n",
       "    .dataframe tbody tr th:only-of-type {\n",
       "        vertical-align: middle;\n",
       "    }\n",
       "\n",
       "    .dataframe tbody tr th {\n",
       "        vertical-align: top;\n",
       "    }\n",
       "\n",
       "    .dataframe thead th {\n",
       "        text-align: right;\n",
       "    }\n",
       "</style>\n",
       "<table border=\"1\" class=\"dataframe\">\n",
       "  <thead>\n",
       "    <tr style=\"text-align: right;\">\n",
       "      <th></th>\n",
       "      <th>product_id</th>\n",
       "      <th>name</th>\n",
       "      <th>price</th>\n",
       "    </tr>\n",
       "  </thead>\n",
       "  <tbody>\n",
       "    <tr>\n",
       "      <th>0</th>\n",
       "      <td>1</td>\n",
       "      <td>сахар</td>\n",
       "      <td>150.0</td>\n",
       "    </tr>\n",
       "    <tr>\n",
       "      <th>1</th>\n",
       "      <td>2</td>\n",
       "      <td>чай зеленый в пакетиках</td>\n",
       "      <td>50.0</td>\n",
       "    </tr>\n",
       "    <tr>\n",
       "      <th>2</th>\n",
       "      <td>3</td>\n",
       "      <td>вода негазированная</td>\n",
       "      <td>80.4</td>\n",
       "    </tr>\n",
       "    <tr>\n",
       "      <th>3</th>\n",
       "      <td>4</td>\n",
       "      <td>леденцы</td>\n",
       "      <td>45.5</td>\n",
       "    </tr>\n",
       "    <tr>\n",
       "      <th>4</th>\n",
       "      <td>5</td>\n",
       "      <td>кофе 3 в 1</td>\n",
       "      <td>15.0</td>\n",
       "    </tr>\n",
       "  </tbody>\n",
       "</table>\n",
       "</div>"
      ],
      "text/plain": [
       "   product_id                     name  price\n",
       "0           1                    сахар  150.0\n",
       "1           2  чай зеленый в пакетиках   50.0\n",
       "2           3      вода негазированная   80.4\n",
       "3           4                  леденцы   45.5\n",
       "4           5               кофе 3 в 1   15.0"
      ]
     },
     "execution_count": 108,
     "metadata": {},
     "output_type": "execute_result"
    }
   ],
   "source": [
    "df_products.head()"
   ]
  },
  {
   "cell_type": "code",
   "execution_count": 109,
   "id": "70bb1d64-f292-4c2b-bea6-14725cbe7637",
   "metadata": {},
   "outputs": [
    {
     "data": {
      "text/plain": [
       "(87, 3)"
      ]
     },
     "execution_count": 109,
     "metadata": {},
     "output_type": "execute_result"
    }
   ],
   "source": [
    "df_products.shape"
   ]
  },
  {
   "cell_type": "code",
   "execution_count": 110,
   "id": "81d6d8a3-1d10-4f72-83c8-8a5781aa86c0",
   "metadata": {},
   "outputs": [
    {
     "data": {
      "text/plain": [
       "87"
      ]
     },
     "execution_count": 110,
     "metadata": {},
     "output_type": "execute_result"
    }
   ],
   "source": [
    "df_products.product_id.nunique()"
   ]
  },
  {
   "cell_type": "code",
   "execution_count": 111,
   "id": "d30475f5-ac85-4958-b50c-49d60e0cdbea",
   "metadata": {},
   "outputs": [
    {
     "data": {
      "text/plain": [
       "min      1.0\n",
       "max    800.0\n",
       "Name: price, dtype: float64"
      ]
     },
     "execution_count": 111,
     "metadata": {},
     "output_type": "execute_result"
    }
   ],
   "source": [
    "df_products.price.agg(['min', 'max'])"
   ]
  },
  {
   "cell_type": "markdown",
   "id": "70a71422-13e6-46b1-a192-3ffb3799d67e",
   "metadata": {
    "jp-MarkdownHeadingCollapsed": true
   },
   "source": [
    "### Выводы (предварительный анализ): \n",
    "1. В датасете df_user_data есть отмененные заказы, которые нужно учесть при анализе\n",
    "2. df_order.creation_time == df_user_data.time при df_user_data.action == create_order\n",
    "3. "
   ]
  },
  {
   "cell_type": "markdown",
   "id": "52b27f6d-dd01-4ad6-993f-626942024747",
   "metadata": {},
   "source": [
    "## Метрики и гипотезы\n",
    "*Метрики:*\n",
    "- количество товаров в заказе \n",
    "- сумма заказа\n",
    "\n",
    "Гиротезы:  \n",
    "$H_0$ - Средние значения количества продуктов в заказах равны в контрольной и экспериментальной группах  \n",
    "$H_1$ - Средние значения количества продуктов в заказах не равны в контрольной и экспериментальной группах\n",
    "\n",
    "$H_0$ - Средние значения стоимости заказов равны в контрольной и экспериментальной группах  \n",
    "$H_1$ - Средние значения стоимости заказов не равны в контрольной и экспериментальной группах$$\n",
    "$$"
   ]
  },
  {
   "cell_type": "markdown",
   "id": "447e0b8f-0269-4607-9109-600ce7b10b34",
   "metadata": {},
   "source": [
    "## Найдем необходимые метрики"
   ]
  },
  {
   "cell_type": "code",
   "execution_count": 112,
   "id": "abbf3768",
   "metadata": {},
   "outputs": [],
   "source": [
    "# перевод айдишников продуктов в список  \n",
    "def list_product_ids(x):\n",
    "    x = x[1:-1]\n",
    "    id_product = list(map(int, x.split(',')))\n",
    "    return id_product"
   ]
  },
  {
   "cell_type": "code",
   "execution_count": 113,
   "id": "1995ebd2",
   "metadata": {},
   "outputs": [],
   "source": [
    "# подсчет суммы покупки\n",
    "def purchase_amount(x):\n",
    "    result = 0\n",
    "    for item in x:\n",
    "        result += df_products.iloc[df_products.query(f'product_id == {item}').index[0]]['price']\n",
    "    return result"
   ]
  },
  {
   "cell_type": "code",
   "execution_count": 114,
   "id": "8ade017c-1590-4949-bc03-bc73a1bd6446",
   "metadata": {},
   "outputs": [],
   "source": [
    "df_order[\"product_ids\"] = df_order.product_ids.apply(list_product_ids)"
   ]
  },
  {
   "cell_type": "code",
   "execution_count": 115,
   "id": "0d2f259f-8058-4d4d-aaa5-70a3d5529e17",
   "metadata": {},
   "outputs": [],
   "source": [
    "df_order['count_product'] = df_order.product_ids.apply(lambda x: len(x))"
   ]
  },
  {
   "cell_type": "code",
   "execution_count": 117,
   "id": "16dfcefd",
   "metadata": {},
   "outputs": [],
   "source": [
    "df_order['purchase_amount'] = df_order.product_ids.apply(purchase_amount)"
   ]
  },
  {
   "cell_type": "code",
   "execution_count": 118,
   "id": "550f4232-7235-4cf6-9464-be05866e4252",
   "metadata": {},
   "outputs": [
    {
     "data": {
      "text/html": [
       "<div>\n",
       "<style scoped>\n",
       "    .dataframe tbody tr th:only-of-type {\n",
       "        vertical-align: middle;\n",
       "    }\n",
       "\n",
       "    .dataframe tbody tr th {\n",
       "        vertical-align: top;\n",
       "    }\n",
       "\n",
       "    .dataframe thead th {\n",
       "        text-align: right;\n",
       "    }\n",
       "</style>\n",
       "<table border=\"1\" class=\"dataframe\">\n",
       "  <thead>\n",
       "    <tr style=\"text-align: right;\">\n",
       "      <th></th>\n",
       "      <th>order_id</th>\n",
       "      <th>creation_time</th>\n",
       "      <th>product_ids</th>\n",
       "      <th>count_product</th>\n",
       "      <th>purchase_amount</th>\n",
       "    </tr>\n",
       "  </thead>\n",
       "  <tbody>\n",
       "    <tr>\n",
       "      <th>0</th>\n",
       "      <td>1255</td>\n",
       "      <td>2022-08-26 00:00:19</td>\n",
       "      <td>[75, 22, 53, 84]</td>\n",
       "      <td>4</td>\n",
       "      <td>408.7</td>\n",
       "    </tr>\n",
       "    <tr>\n",
       "      <th>1</th>\n",
       "      <td>1256</td>\n",
       "      <td>2022-08-26 00:02:21</td>\n",
       "      <td>[56, 76, 39]</td>\n",
       "      <td>3</td>\n",
       "      <td>250.5</td>\n",
       "    </tr>\n",
       "    <tr>\n",
       "      <th>2</th>\n",
       "      <td>1257</td>\n",
       "      <td>2022-08-26 00:02:27</td>\n",
       "      <td>[76, 34, 41, 38]</td>\n",
       "      <td>4</td>\n",
       "      <td>310.2</td>\n",
       "    </tr>\n",
       "    <tr>\n",
       "      <th>3</th>\n",
       "      <td>1258</td>\n",
       "      <td>2022-08-26 00:02:56</td>\n",
       "      <td>[74, 6]</td>\n",
       "      <td>2</td>\n",
       "      <td>85.0</td>\n",
       "    </tr>\n",
       "    <tr>\n",
       "      <th>4</th>\n",
       "      <td>1259</td>\n",
       "      <td>2022-08-26 00:03:37</td>\n",
       "      <td>[20, 45, 67, 26]</td>\n",
       "      <td>4</td>\n",
       "      <td>228.0</td>\n",
       "    </tr>\n",
       "  </tbody>\n",
       "</table>\n",
       "</div>"
      ],
      "text/plain": [
       "   order_id       creation_time       product_ids  count_product  \\\n",
       "0      1255 2022-08-26 00:00:19  [75, 22, 53, 84]              4   \n",
       "1      1256 2022-08-26 00:02:21      [56, 76, 39]              3   \n",
       "2      1257 2022-08-26 00:02:27  [76, 34, 41, 38]              4   \n",
       "3      1258 2022-08-26 00:02:56           [74, 6]              2   \n",
       "4      1259 2022-08-26 00:03:37  [20, 45, 67, 26]              4   \n",
       "\n",
       "   purchase_amount  \n",
       "0            408.7  \n",
       "1            250.5  \n",
       "2            310.2  \n",
       "3             85.0  \n",
       "4            228.0  "
      ]
     },
     "execution_count": 118,
     "metadata": {},
     "output_type": "execute_result"
    }
   ],
   "source": [
    "df_order.head()"
   ]
  },
  {
   "cell_type": "code",
   "execution_count": 120,
   "id": "c525311e-7cd8-49f2-b39a-45d1a9a7ab6f",
   "metadata": {},
   "outputs": [
    {
     "data": {
      "text/html": [
       "<div>\n",
       "<style scoped>\n",
       "    .dataframe tbody tr th:only-of-type {\n",
       "        vertical-align: middle;\n",
       "    }\n",
       "\n",
       "    .dataframe tbody tr th {\n",
       "        vertical-align: top;\n",
       "    }\n",
       "\n",
       "    .dataframe thead th {\n",
       "        text-align: right;\n",
       "    }\n",
       "</style>\n",
       "<table border=\"1\" class=\"dataframe\">\n",
       "  <thead>\n",
       "    <tr style=\"text-align: right;\">\n",
       "      <th></th>\n",
       "      <th>user_id</th>\n",
       "      <th>order_id</th>\n",
       "      <th>action</th>\n",
       "      <th>time</th>\n",
       "      <th>date</th>\n",
       "      <th>group</th>\n",
       "    </tr>\n",
       "  </thead>\n",
       "  <tbody>\n",
       "    <tr>\n",
       "      <th>0</th>\n",
       "      <td>964</td>\n",
       "      <td>1255</td>\n",
       "      <td>create_order</td>\n",
       "      <td>2022-08-26 00:00:19</td>\n",
       "      <td>2022-08-26</td>\n",
       "      <td>0</td>\n",
       "    </tr>\n",
       "    <tr>\n",
       "      <th>1</th>\n",
       "      <td>965</td>\n",
       "      <td>1256</td>\n",
       "      <td>create_order</td>\n",
       "      <td>2022-08-26 00:02:21</td>\n",
       "      <td>2022-08-26</td>\n",
       "      <td>1</td>\n",
       "    </tr>\n",
       "    <tr>\n",
       "      <th>2</th>\n",
       "      <td>964</td>\n",
       "      <td>1257</td>\n",
       "      <td>create_order</td>\n",
       "      <td>2022-08-26 00:02:27</td>\n",
       "      <td>2022-08-26</td>\n",
       "      <td>0</td>\n",
       "    </tr>\n",
       "    <tr>\n",
       "      <th>3</th>\n",
       "      <td>966</td>\n",
       "      <td>1258</td>\n",
       "      <td>create_order</td>\n",
       "      <td>2022-08-26 00:02:56</td>\n",
       "      <td>2022-08-26</td>\n",
       "      <td>0</td>\n",
       "    </tr>\n",
       "    <tr>\n",
       "      <th>4</th>\n",
       "      <td>967</td>\n",
       "      <td>1259</td>\n",
       "      <td>create_order</td>\n",
       "      <td>2022-08-26 00:03:37</td>\n",
       "      <td>2022-08-26</td>\n",
       "      <td>1</td>\n",
       "    </tr>\n",
       "  </tbody>\n",
       "</table>\n",
       "</div>"
      ],
      "text/plain": [
       "   user_id  order_id        action                time       date  group\n",
       "0      964      1255  create_order 2022-08-26 00:00:19 2022-08-26      0\n",
       "1      965      1256  create_order 2022-08-26 00:02:21 2022-08-26      1\n",
       "2      964      1257  create_order 2022-08-26 00:02:27 2022-08-26      0\n",
       "3      966      1258  create_order 2022-08-26 00:02:56 2022-08-26      0\n",
       "4      967      1259  create_order 2022-08-26 00:03:37 2022-08-26      1"
      ]
     },
     "execution_count": 120,
     "metadata": {},
     "output_type": "execute_result"
    }
   ],
   "source": [
    "df_user_data.head()\n",
    "#cancel_order"
   ]
  },
  {
   "cell_type": "markdown",
   "id": "3c308b6e-c2cb-4192-9717-746b1ad663c6",
   "metadata": {},
   "source": [
    "### Формирование общего датасета \n",
    "Необходимо исключить заказы, которые отменили"
   ]
  },
  {
   "cell_type": "code",
   "execution_count": 129,
   "id": "37deb6e3-8963-4d1b-a71f-5685b3fe158d",
   "metadata": {},
   "outputs": [],
   "source": [
    "cancel_order_list = list(df_user_data.order_id[df_user_data.action == 'cancel_order'])"
   ]
  },
  {
   "cell_type": "code",
   "execution_count": 135,
   "id": "194c2d0a-0e36-46e2-944d-c814667a0c99",
   "metadata": {},
   "outputs": [],
   "source": [
    "df_user_no_cancel_order = df_user_data[~ df_user_data.order_id.isin(cancel_order_list)]"
   ]
  },
  {
   "cell_type": "code",
   "execution_count": 138,
   "id": "ed4a9177-deaf-4501-a2c6-102a28c10abd",
   "metadata": {},
   "outputs": [],
   "source": [
    "df = df_user_no_cancel_order.merge(df_order, how='inner', on='order_id')"
   ]
  },
  {
   "cell_type": "code",
   "execution_count": 139,
   "id": "df9fe538-2950-4d3f-936e-80e343a19e24",
   "metadata": {},
   "outputs": [
    {
     "data": {
      "text/html": [
       "<div>\n",
       "<style scoped>\n",
       "    .dataframe tbody tr th:only-of-type {\n",
       "        vertical-align: middle;\n",
       "    }\n",
       "\n",
       "    .dataframe tbody tr th {\n",
       "        vertical-align: top;\n",
       "    }\n",
       "\n",
       "    .dataframe thead th {\n",
       "        text-align: right;\n",
       "    }\n",
       "</style>\n",
       "<table border=\"1\" class=\"dataframe\">\n",
       "  <thead>\n",
       "    <tr style=\"text-align: right;\">\n",
       "      <th></th>\n",
       "      <th>user_id</th>\n",
       "      <th>order_id</th>\n",
       "      <th>action</th>\n",
       "      <th>time</th>\n",
       "      <th>date</th>\n",
       "      <th>group</th>\n",
       "      <th>creation_time</th>\n",
       "      <th>product_ids</th>\n",
       "      <th>count_product</th>\n",
       "      <th>purchase_amount</th>\n",
       "    </tr>\n",
       "  </thead>\n",
       "  <tbody>\n",
       "    <tr>\n",
       "      <th>0</th>\n",
       "      <td>964</td>\n",
       "      <td>1255</td>\n",
       "      <td>create_order</td>\n",
       "      <td>2022-08-26 00:00:19</td>\n",
       "      <td>2022-08-26</td>\n",
       "      <td>0</td>\n",
       "      <td>2022-08-26 00:00:19</td>\n",
       "      <td>[75, 22, 53, 84]</td>\n",
       "      <td>4</td>\n",
       "      <td>408.7</td>\n",
       "    </tr>\n",
       "    <tr>\n",
       "      <th>1</th>\n",
       "      <td>965</td>\n",
       "      <td>1256</td>\n",
       "      <td>create_order</td>\n",
       "      <td>2022-08-26 00:02:21</td>\n",
       "      <td>2022-08-26</td>\n",
       "      <td>1</td>\n",
       "      <td>2022-08-26 00:02:21</td>\n",
       "      <td>[56, 76, 39]</td>\n",
       "      <td>3</td>\n",
       "      <td>250.5</td>\n",
       "    </tr>\n",
       "    <tr>\n",
       "      <th>2</th>\n",
       "      <td>964</td>\n",
       "      <td>1257</td>\n",
       "      <td>create_order</td>\n",
       "      <td>2022-08-26 00:02:27</td>\n",
       "      <td>2022-08-26</td>\n",
       "      <td>0</td>\n",
       "      <td>2022-08-26 00:02:27</td>\n",
       "      <td>[76, 34, 41, 38]</td>\n",
       "      <td>4</td>\n",
       "      <td>310.2</td>\n",
       "    </tr>\n",
       "    <tr>\n",
       "      <th>3</th>\n",
       "      <td>967</td>\n",
       "      <td>1259</td>\n",
       "      <td>create_order</td>\n",
       "      <td>2022-08-26 00:03:37</td>\n",
       "      <td>2022-08-26</td>\n",
       "      <td>1</td>\n",
       "      <td>2022-08-26 00:03:37</td>\n",
       "      <td>[20, 45, 67, 26]</td>\n",
       "      <td>4</td>\n",
       "      <td>228.0</td>\n",
       "    </tr>\n",
       "    <tr>\n",
       "      <th>4</th>\n",
       "      <td>968</td>\n",
       "      <td>1261</td>\n",
       "      <td>create_order</td>\n",
       "      <td>2022-08-26 00:05:35</td>\n",
       "      <td>2022-08-26</td>\n",
       "      <td>0</td>\n",
       "      <td>2022-08-26 00:05:35</td>\n",
       "      <td>[30, 35, 69, 6]</td>\n",
       "      <td>4</td>\n",
       "      <td>430.7</td>\n",
       "    </tr>\n",
       "  </tbody>\n",
       "</table>\n",
       "</div>"
      ],
      "text/plain": [
       "   user_id  order_id        action                time       date  group  \\\n",
       "0      964      1255  create_order 2022-08-26 00:00:19 2022-08-26      0   \n",
       "1      965      1256  create_order 2022-08-26 00:02:21 2022-08-26      1   \n",
       "2      964      1257  create_order 2022-08-26 00:02:27 2022-08-26      0   \n",
       "3      967      1259  create_order 2022-08-26 00:03:37 2022-08-26      1   \n",
       "4      968      1261  create_order 2022-08-26 00:05:35 2022-08-26      0   \n",
       "\n",
       "        creation_time       product_ids  count_product  purchase_amount  \n",
       "0 2022-08-26 00:00:19  [75, 22, 53, 84]              4            408.7  \n",
       "1 2022-08-26 00:02:21      [56, 76, 39]              3            250.5  \n",
       "2 2022-08-26 00:02:27  [76, 34, 41, 38]              4            310.2  \n",
       "3 2022-08-26 00:03:37  [20, 45, 67, 26]              4            228.0  \n",
       "4 2022-08-26 00:05:35   [30, 35, 69, 6]              4            430.7  "
      ]
     },
     "execution_count": 139,
     "metadata": {},
     "output_type": "execute_result"
    }
   ],
   "source": [
    "df.head()"
   ]
  },
  {
   "cell_type": "markdown",
   "id": "cf801054-50a0-4720-aa75-bea296f2da2d",
   "metadata": {},
   "source": [
    "### Графики"
   ]
  },
  {
   "cell_type": "code",
   "execution_count": 146,
   "id": "37eb9349-558c-493b-bf7b-3d883953cda3",
   "metadata": {},
   "outputs": [
    {
     "data": {
      "text/plain": [
       "Text(0, 0.5, 'Сумма заказа')"
      ]
     },
     "execution_count": 146,
     "metadata": {},
     "output_type": "execute_result"
    },
    {
     "data": {
      "image/png": "[encoded data removed]",
      "text/plain": [
       "<Figure size 640x480 with 1 Axes>"
      ]
     },
     "metadata": {},
     "output_type": "display_data"
    }
   ],
   "source": [
    "sns.violinplot(x = 'group', y = 'purchase_amount', data = df)\n",
    "plt.title('Сумма заказа в зависимости от группы')\n",
    "plt.xlabel('Группа')\n",
    "plt.ylabel('Сумма заказа')"
   ]
  },
  {
   "cell_type": "code",
   "execution_count": 152,
   "id": "b71664f9-277e-447c-ae46-bdeb3612b53c",
   "metadata": {},
   "outputs": [
    {
     "data": {
      "text/plain": [
       "([0, 1, 2, 3, 4, 5, 6, 7, 8, 9, 10, 11, 12, 13],\n",
       " [Text(0, 0, '2022-08-26'),\n",
       "  Text(1, 0, '2022-08-27'),\n",
       "  Text(2, 0, '2022-08-28'),\n",
       "  Text(3, 0, '2022-08-29'),\n",
       "  Text(4, 0, '2022-08-30'),\n",
       "  Text(5, 0, '2022-08-31'),\n",
       "  Text(6, 0, '2022-09-01'),\n",
       "  Text(7, 0, '2022-09-02'),\n",
       "  Text(8, 0, '2022-09-03'),\n",
       "  Text(9, 0, '2022-09-04'),\n",
       "  Text(10, 0, '2022-09-05'),\n",
       "  Text(11, 0, '2022-09-06'),\n",
       "  Text(12, 0, '2022-09-07'),\n",
       "  Text(13, 0, '2022-09-08')])"
      ]
     },
     "execution_count": 152,
     "metadata": {},
     "output_type": "execute_result"
    },
    {
     "data": {
      "image/png": "[encoded data removed]",
      "text/plain": [
       "<Figure size 640x480 with 1 Axes>"
      ]
     },
     "metadata": {},
     "output_type": "display_data"
    }
   ],
   "source": [
    "sns.boxplot(x = 'date', y = 'purchase_amount', hue = 'group', data = df)\n",
    "plt.title('Сумма заказа в зависимости от дня')\n",
    "plt.xlabel('День')\n",
    "plt.ylabel('Сумма заказа')\n",
    "plt.legend(title = 'Группа')\n",
    "plt.xticks(rotation=90)"
   ]
  },
  {
   "cell_type": "code",
   "execution_count": 149,
   "id": "595cacd0-43f6-453e-94eb-166c79d0a9d3",
   "metadata": {},
   "outputs": [
    {
     "data": {
      "text/plain": [
       "Text(0, 0.5, 'Количество товаров')"
      ]
     },
     "execution_count": 149,
     "metadata": {},
     "output_type": "execute_result"
    },
    {
     "data": {
      "image/png": "[encoded data removed]",
      "text/plain": [
       "<Figure size 640x480 with 1 Axes>"
      ]
     },
     "metadata": {},
     "output_type": "display_data"
    }
   ],
   "source": [
    "sns.boxplot(x = 'group', y = 'count_product', data = df)\n",
    "plt.title(' Количество товаров в заказе в зависимости от группы')\n",
    "plt.xlabel('Группа')\n",
    "plt.ylabel('Количество товаров')"
   ]
  },
  {
   "cell_type": "code",
   "execution_count": 150,
   "id": "99266c67-5cf8-4cd2-8b52-506807e3b83a",
   "metadata": {},
   "outputs": [
    {
     "data": {
      "text/plain": [
       "([0, 1, 2, 3, 4, 5, 6, 7, 8, 9, 10, 11, 12, 13],\n",
       " [Text(0, 0, '2022-08-26'),\n",
       "  Text(1, 0, '2022-08-27'),\n",
       "  Text(2, 0, '2022-08-28'),\n",
       "  Text(3, 0, '2022-08-29'),\n",
       "  Text(4, 0, '2022-08-30'),\n",
       "  Text(5, 0, '2022-08-31'),\n",
       "  Text(6, 0, '2022-09-01'),\n",
       "  Text(7, 0, '2022-09-02'),\n",
       "  Text(8, 0, '2022-09-03'),\n",
       "  Text(9, 0, '2022-09-04'),\n",
       "  Text(10, 0, '2022-09-05'),\n",
       "  Text(11, 0, '2022-09-06'),\n",
       "  Text(12, 0, '2022-09-07'),\n",
       "  Text(13, 0, '2022-09-08')])"
      ]
     },
     "execution_count": 150,
     "metadata": {},
     "output_type": "execute_result"
    },
    {
     "data": {
      "image/png": "[encoded data removed]",
      "text/plain": [
       "<Figure size 640x480 with 1 Axes>"
      ]
     },
     "metadata": {},
     "output_type": "display_data"
    }
   ],
   "source": [
    "sns.boxplot(x = 'date', y = 'count_product', hue = 'group', data = df)\n",
    "plt.title('Количество товаров в заказе в зависимости от дня')\n",
    "plt.xlabel('День')\n",
    "plt.ylabel('Сумма заказа')\n",
    "plt.legend(title = 'Группа')\n",
    "plt.xticks(rotation=90)"
   ]
  },
  {
   "cell_type": "code",
   "execution_count": 160,
   "id": "7c2a8064-639f-4c70-83e3-f9f0f5762071",
   "metadata": {},
   "outputs": [
    {
     "name": "stderr",
     "output_type": "stream",
     "text": [
      "No artists with labels found to put in legend.  Note that artists whose label start with an underscore are ignored when legend() is called with no argument.\n"
     ]
    },
    {
     "data": {
      "text/plain": [
       "(array([-250.,    0.,  250.,  500.,  750., 1000., 1250., 1500., 1750.,\n",
       "        2000.]),\n",
       " [Text(-250.0, 0, '−250'),\n",
       "  Text(0.0, 0, '0'),\n",
       "  Text(250.0, 0, '250'),\n",
       "  Text(500.0, 0, '500'),\n",
       "  Text(750.0, 0, '750'),\n",
       "  Text(1000.0, 0, '1000'),\n",
       "  Text(1250.0, 0, '1250'),\n",
       "  Text(1500.0, 0, '1500'),\n",
       "  Text(1750.0, 0, '1750'),\n",
       "  Text(2000.0, 0, '2000')])"
      ]
     },
     "execution_count": 160,
     "metadata": {},
     "output_type": "execute_result"
    },
    {
     "data": {
      "image/png": "[encoded data removed]",
      "text/plain": [
       "<Figure size 558.875x500 with 1 Axes>"
      ]
     },
     "metadata": {},
     "output_type": "display_data"
    }
   ],
   "source": [
    "sns.displot(df, x = 'purchase_amount', hue='group', kde=True)\n",
    "plt.title('Распределение суммы заказов в зависимости от группы')\n",
    "plt.xlabel('Сумма заказа')\n",
    "plt.legend(title = 'Группа')\n",
    "plt.xticks(rotation=90)"
   ]
  },
  {
   "cell_type": "code",
   "execution_count": 164,
   "id": "89422c84-d3d6-4bfe-92ce-a3ec7946baf8",
   "metadata": {},
   "outputs": [
    {
     "data": {
      "text/html": [
       "<div>\n",
       "<style scoped>\n",
       "    .dataframe tbody tr th:only-of-type {\n",
       "        vertical-align: middle;\n",
       "    }\n",
       "\n",
       "    .dataframe tbody tr th {\n",
       "        vertical-align: top;\n",
       "    }\n",
       "\n",
       "    .dataframe thead th {\n",
       "        text-align: right;\n",
       "    }\n",
       "</style>\n",
       "<table border=\"1\" class=\"dataframe\">\n",
       "  <thead>\n",
       "    <tr style=\"text-align: right;\">\n",
       "      <th></th>\n",
       "      <th>user_id</th>\n",
       "      <th>order_id</th>\n",
       "      <th>action</th>\n",
       "      <th>time</th>\n",
       "      <th>date</th>\n",
       "      <th>group</th>\n",
       "      <th>creation_time</th>\n",
       "      <th>product_ids</th>\n",
       "      <th>count_product</th>\n",
       "      <th>purchase_amount</th>\n",
       "      <th>log_purchase_amount</th>\n",
       "    </tr>\n",
       "  </thead>\n",
       "  <tbody>\n",
       "    <tr>\n",
       "      <th>0</th>\n",
       "      <td>964</td>\n",
       "      <td>1255</td>\n",
       "      <td>create_order</td>\n",
       "      <td>2022-08-26 00:00:19</td>\n",
       "      <td>2022-08-26</td>\n",
       "      <td>0</td>\n",
       "      <td>2022-08-26 00:00:19</td>\n",
       "      <td>[75, 22, 53, 84]</td>\n",
       "      <td>4</td>\n",
       "      <td>408.7</td>\n",
       "      <td>6.012981</td>\n",
       "    </tr>\n",
       "    <tr>\n",
       "      <th>1</th>\n",
       "      <td>965</td>\n",
       "      <td>1256</td>\n",
       "      <td>create_order</td>\n",
       "      <td>2022-08-26 00:02:21</td>\n",
       "      <td>2022-08-26</td>\n",
       "      <td>1</td>\n",
       "      <td>2022-08-26 00:02:21</td>\n",
       "      <td>[56, 76, 39]</td>\n",
       "      <td>3</td>\n",
       "      <td>250.5</td>\n",
       "      <td>5.523459</td>\n",
       "    </tr>\n",
       "    <tr>\n",
       "      <th>2</th>\n",
       "      <td>964</td>\n",
       "      <td>1257</td>\n",
       "      <td>create_order</td>\n",
       "      <td>2022-08-26 00:02:27</td>\n",
       "      <td>2022-08-26</td>\n",
       "      <td>0</td>\n",
       "      <td>2022-08-26 00:02:27</td>\n",
       "      <td>[76, 34, 41, 38]</td>\n",
       "      <td>4</td>\n",
       "      <td>310.2</td>\n",
       "      <td>5.737217</td>\n",
       "    </tr>\n",
       "    <tr>\n",
       "      <th>3</th>\n",
       "      <td>967</td>\n",
       "      <td>1259</td>\n",
       "      <td>create_order</td>\n",
       "      <td>2022-08-26 00:03:37</td>\n",
       "      <td>2022-08-26</td>\n",
       "      <td>1</td>\n",
       "      <td>2022-08-26 00:03:37</td>\n",
       "      <td>[20, 45, 67, 26]</td>\n",
       "      <td>4</td>\n",
       "      <td>228.0</td>\n",
       "      <td>5.429346</td>\n",
       "    </tr>\n",
       "    <tr>\n",
       "      <th>4</th>\n",
       "      <td>968</td>\n",
       "      <td>1261</td>\n",
       "      <td>create_order</td>\n",
       "      <td>2022-08-26 00:05:35</td>\n",
       "      <td>2022-08-26</td>\n",
       "      <td>0</td>\n",
       "      <td>2022-08-26 00:05:35</td>\n",
       "      <td>[30, 35, 69, 6]</td>\n",
       "      <td>4</td>\n",
       "      <td>430.7</td>\n",
       "      <td>6.065412</td>\n",
       "    </tr>\n",
       "  </tbody>\n",
       "</table>\n",
       "</div>"
      ],
      "text/plain": [
       "   user_id  order_id        action                time       date  group  \\\n",
       "0      964      1255  create_order 2022-08-26 00:00:19 2022-08-26      0   \n",
       "1      965      1256  create_order 2022-08-26 00:02:21 2022-08-26      1   \n",
       "2      964      1257  create_order 2022-08-26 00:02:27 2022-08-26      0   \n",
       "3      967      1259  create_order 2022-08-26 00:03:37 2022-08-26      1   \n",
       "4      968      1261  create_order 2022-08-26 00:05:35 2022-08-26      0   \n",
       "\n",
       "        creation_time       product_ids  count_product  purchase_amount  \\\n",
       "0 2022-08-26 00:00:19  [75, 22, 53, 84]              4            408.7   \n",
       "1 2022-08-26 00:02:21      [56, 76, 39]              3            250.5   \n",
       "2 2022-08-26 00:02:27  [76, 34, 41, 38]              4            310.2   \n",
       "3 2022-08-26 00:03:37  [20, 45, 67, 26]              4            228.0   \n",
       "4 2022-08-26 00:05:35   [30, 35, 69, 6]              4            430.7   \n",
       "\n",
       "   log_purchase_amount  \n",
       "0             6.012981  \n",
       "1             5.523459  \n",
       "2             5.737217  \n",
       "3             5.429346  \n",
       "4             6.065412  "
      ]
     },
     "execution_count": 164,
     "metadata": {},
     "output_type": "execute_result"
    }
   ],
   "source": [
    "df.head()"
   ]
  },
  {
   "cell_type": "code",
   "execution_count": 163,
   "id": "ac9e9a6e-3db2-4813-8c62-331120f0f33c",
   "metadata": {},
   "outputs": [],
   "source": [
    "df[\"log_purchase_amount\"] = np.log(df.purchase_amount)"
   ]
  },
  {
   "cell_type": "code",
   "execution_count": 165,
   "id": "e4563208-a8d6-4a3d-88dd-5f4cdc7be33f",
   "metadata": {},
   "outputs": [
    {
     "name": "stderr",
     "output_type": "stream",
     "text": [
      "No artists with labels found to put in legend.  Note that artists whose label start with an underscore are ignored when legend() is called with no argument.\n"
     ]
    },
    {
     "data": {
      "text/plain": [
       "(array([-1.,  0.,  1.,  2.,  3.,  4.,  5.,  6.,  7.,  8.]),\n",
       " [Text(-1.0, 0, '−1'),\n",
       "  Text(0.0, 0, '0'),\n",
       "  Text(1.0, 0, '1'),\n",
       "  Text(2.0, 0, '2'),\n",
       "  Text(3.0, 0, '3'),\n",
       "  Text(4.0, 0, '4'),\n",
       "  Text(5.0, 0, '5'),\n",
       "  Text(6.0, 0, '6'),\n",
       "  Text(7.0, 0, '7'),\n",
       "  Text(8.0, 0, '8')])"
      ]
     },
     "execution_count": 165,
     "metadata": {},
     "output_type": "execute_result"
    },
    {
     "data": {
      "image/png": "[encoded data removed]",
      "text/plain": [
       "<Figure size 558.875x500 with 1 Axes>"
      ]
     },
     "metadata": {},
     "output_type": "display_data"
    }
   ],
   "source": [
    "sns.displot(df, x = 'log_purchase_amount', hue='group', kde=True)\n",
    "plt.title('Распределение логасуммы заказов в зависимости от группы')\n",
    "plt.xlabel('Сумма заказа')\n",
    "plt.legend(title = 'Группа')\n",
    "plt.xticks(rotation=90)"
   ]
  },
  {
   "cell_type": "code",
   "execution_count": 166,
   "id": "a7a6c6d8-758e-4727-8b23-f9ff8783b5d4",
   "metadata": {},
   "outputs": [
    {
     "data": {
      "text/html": [
       "<div>\n",
       "<style scoped>\n",
       "    .dataframe tbody tr th:only-of-type {\n",
       "        vertical-align: middle;\n",
       "    }\n",
       "\n",
       "    .dataframe tbody tr th {\n",
       "        vertical-align: top;\n",
       "    }\n",
       "\n",
       "    .dataframe thead th {\n",
       "        text-align: right;\n",
       "    }\n",
       "</style>\n",
       "<table border=\"1\" class=\"dataframe\">\n",
       "  <thead>\n",
       "    <tr style=\"text-align: right;\">\n",
       "      <th></th>\n",
       "      <th>W</th>\n",
       "      <th>pval</th>\n",
       "      <th>normal</th>\n",
       "    </tr>\n",
       "  </thead>\n",
       "  <tbody>\n",
       "    <tr>\n",
       "      <th>user_id</th>\n",
       "      <td>1711.466</td>\n",
       "      <td>0.0</td>\n",
       "      <td>False</td>\n",
       "    </tr>\n",
       "    <tr>\n",
       "      <th>order_id</th>\n",
       "      <td>213.980</td>\n",
       "      <td>0.0</td>\n",
       "      <td>False</td>\n",
       "    </tr>\n",
       "    <tr>\n",
       "      <th>group</th>\n",
       "      <td>NaN</td>\n",
       "      <td>NaN</td>\n",
       "      <td>False</td>\n",
       "    </tr>\n",
       "    <tr>\n",
       "      <th>count_product</th>\n",
       "      <td>36.288</td>\n",
       "      <td>0.0</td>\n",
       "      <td>False</td>\n",
       "    </tr>\n",
       "    <tr>\n",
       "      <th>purchase_amount</th>\n",
       "      <td>276.040</td>\n",
       "      <td>0.0</td>\n",
       "      <td>False</td>\n",
       "    </tr>\n",
       "    <tr>\n",
       "      <th>log_purchase_amount</th>\n",
       "      <td>150.782</td>\n",
       "      <td>0.0</td>\n",
       "      <td>False</td>\n",
       "    </tr>\n",
       "  </tbody>\n",
       "</table>\n",
       "</div>"
      ],
      "text/plain": [
       "                            W  pval  normal\n",
       "user_id              1711.466   0.0   False\n",
       "order_id              213.980   0.0   False\n",
       "group                     NaN   NaN   False\n",
       "count_product          36.288   0.0   False\n",
       "purchase_amount       276.040   0.0   False\n",
       "log_purchase_amount   150.782   0.0   False"
      ]
     },
     "execution_count": 166,
     "metadata": {},
     "output_type": "execute_result"
    }
   ],
   "source": [
    "pg.normality(df.query(\"group == 0\"), method='normaltest').round(3)"
   ]
  },
  {
   "cell_type": "code",
   "execution_count": 167,
   "id": "1f7ba970-5cb7-4fef-8f3b-47713fb1bc2e",
   "metadata": {},
   "outputs": [
    {
     "name": "stderr",
     "output_type": "stream",
     "text": [
      "/Users/any_empty/Library/Python/3.11/lib/python/site-packages/scipy/stats/_stats_py.py:1580: RuntimeWarning: Precision loss occurred in moment calculation due to catastrophic cancellation. This occurs when the data are nearly identical. Results may be unreliable.\n",
      "  b2 = skew(a, axis)\n",
      "/Users/any_empty/Library/Python/3.11/lib/python/site-packages/scipy/stats/_stats_py.py:1776: RuntimeWarning: Precision loss occurred in moment calculation due to catastrophic cancellation. This occurs when the data are nearly identical. Results may be unreliable.\n",
      "  b2 = kurtosis(a, axis, fisher=False)\n"
     ]
    },
    {
     "data": {
      "text/html": [
       "<div>\n",
       "<style scoped>\n",
       "    .dataframe tbody tr th:only-of-type {\n",
       "        vertical-align: middle;\n",
       "    }\n",
       "\n",
       "    .dataframe tbody tr th {\n",
       "        vertical-align: top;\n",
       "    }\n",
       "\n",
       "    .dataframe thead th {\n",
       "        text-align: right;\n",
       "    }\n",
       "</style>\n",
       "<table border=\"1\" class=\"dataframe\">\n",
       "  <thead>\n",
       "    <tr style=\"text-align: right;\">\n",
       "      <th></th>\n",
       "      <th>W</th>\n",
       "      <th>pval</th>\n",
       "      <th>normal</th>\n",
       "    </tr>\n",
       "  </thead>\n",
       "  <tbody>\n",
       "    <tr>\n",
       "      <th>user_id</th>\n",
       "      <td>1346.271</td>\n",
       "      <td>0.0</td>\n",
       "      <td>False</td>\n",
       "    </tr>\n",
       "    <tr>\n",
       "      <th>order_id</th>\n",
       "      <td>277.986</td>\n",
       "      <td>0.0</td>\n",
       "      <td>False</td>\n",
       "    </tr>\n",
       "    <tr>\n",
       "      <th>group</th>\n",
       "      <td>NaN</td>\n",
       "      <td>NaN</td>\n",
       "      <td>False</td>\n",
       "    </tr>\n",
       "    <tr>\n",
       "      <th>count_product</th>\n",
       "      <td>42.202</td>\n",
       "      <td>0.0</td>\n",
       "      <td>False</td>\n",
       "    </tr>\n",
       "    <tr>\n",
       "      <th>purchase_amount</th>\n",
       "      <td>586.948</td>\n",
       "      <td>0.0</td>\n",
       "      <td>False</td>\n",
       "    </tr>\n",
       "    <tr>\n",
       "      <th>log_purchase_amount</th>\n",
       "      <td>294.576</td>\n",
       "      <td>0.0</td>\n",
       "      <td>False</td>\n",
       "    </tr>\n",
       "  </tbody>\n",
       "</table>\n",
       "</div>"
      ],
      "text/plain": [
       "                            W  pval  normal\n",
       "user_id              1346.271   0.0   False\n",
       "order_id              277.986   0.0   False\n",
       "group                     NaN   NaN   False\n",
       "count_product          42.202   0.0   False\n",
       "purchase_amount       586.948   0.0   False\n",
       "log_purchase_amount   294.576   0.0   False"
      ]
     },
     "execution_count": 167,
     "metadata": {},
     "output_type": "execute_result"
    }
   ],
   "source": [
    "pg.normality(df.query(\"group == 1\"), method='normaltest').round(3)"
   ]
  },
  {
   "cell_type": "markdown",
   "id": "a657b133-69ce-4a50-8a5b-e81820d17f6f",
   "metadata": {},
   "source": [
    "### Выводы (из построенных графиков):\n",
    "1. Распределения не являются нормальными\n",
    "\n",
    "**Необходимо проводить bootstrap**"
   ]
  },
  {
   "cell_type": "markdown",
   "id": "d3a5d869-0877-4d63-96c4-582340c6445d",
   "metadata": {},
   "source": [
    "Стоимость заказа"
   ]
  },
  {
   "cell_type": "code",
   "execution_count": 171,
   "id": "6b21dfe6-8f32-47a1-8552-e7b88279fd34",
   "metadata": {},
   "outputs": [],
   "source": [
    "group_1 = df.query(\"group == 1\").purchase_amount\n",
    "group_0 = df.query(\"group == 0\").purchase_amount"
   ]
  },
  {
   "cell_type": "code",
   "execution_count": 172,
   "id": "b532b57b-8a6f-4205-8c5d-32f461bbc22b",
   "metadata": {},
   "outputs": [
    {
     "data": {
      "text/plain": [
       "BootstrapResult(confidence_interval=ConfidenceInterval(low=310.4, high=339.6), bootstrap_distribution=array([320. , 323.4, 323.4, ..., 314. , 325.5, 320. ]), standard_error=6.930873355782952)"
      ]
     },
     "execution_count": 172,
     "metadata": {},
     "output_type": "execute_result"
    }
   ],
   "source": [
    "ss.bootstrap((group_0, ), statistic=np.median)"
   ]
  },
  {
   "cell_type": "code",
   "execution_count": 173,
   "id": "f805beb2-94f7-479d-977c-a438eac9744d",
   "metadata": {},
   "outputs": [
    {
     "data": {
      "text/plain": [
       "BootstrapResult(confidence_interval=ConfidenceInterval(low=295.0, high=318.8), bootstrap_distribution=array([310.2 , 305.3 , 313.  , ..., 298.4 , 284.25, 297.25]), standard_error=6.035137681477745)"
      ]
     },
     "execution_count": 173,
     "metadata": {},
     "output_type": "execute_result"
    }
   ],
   "source": [
    "ss.bootstrap((group_1, ), statistic=np.median)"
   ]
  },
  {
   "cell_type": "markdown",
   "id": "3369498a-8722-4c00-acb0-767dfd4902bd",
   "metadata": {},
   "source": [
    "Количество продуктов в заказе"
   ]
  },
  {
   "cell_type": "code",
   "execution_count": 177,
   "id": "96415c24-5244-44b9-9661-cacf5d6d0f43",
   "metadata": {},
   "outputs": [],
   "source": [
    "group_1_2 = df.query(\"group == 1\").count_product\n",
    "group_0_2 = df.query(\"group == 0\").count_product"
   ]
  },
  {
   "cell_type": "code",
   "execution_count": 185,
   "id": "0112f8af-467f-4861-8e00-9975d227afad",
   "metadata": {},
   "outputs": [
    {
     "data": {
      "text/plain": [
       "BootstrapResult(confidence_interval=ConfidenceInterval(low=3.278323510150622, high=3.4053700065487886), bootstrap_distribution=array([3.35036018, 3.297315  , 3.33071382, ..., 3.32678454, 3.31761624,\n",
       "       3.32940406]), standard_error=0.0328320419233339)"
      ]
     },
     "execution_count": 185,
     "metadata": {},
     "output_type": "execute_result"
    }
   ],
   "source": [
    "ss.bootstrap((group_0_2, ), statistic=np.mean)"
   ]
  },
  {
   "cell_type": "code",
   "execution_count": 184,
   "id": "58ab64c7-5c0b-4736-8c6e-9feb874e2f04",
   "metadata": {},
   "outputs": [
    {
     "data": {
      "text/plain": [
       "BootstrapResult(confidence_interval=ConfidenceInterval(low=3.297229219143577, high=3.40176322418136), bootstrap_distribution=array([3.35474391, 3.40512175, 3.34214945, ..., 3.32829555, 3.35348447,\n",
       "       3.3627204 ]), standard_error=0.026614893704765788)"
      ]
     },
     "execution_count": 184,
     "metadata": {},
     "output_type": "execute_result"
    }
   ],
   "source": [
    "ss.bootstrap((group_1_2, ), statistic=np.mean)"
   ]
  },
  {
   "cell_type": "markdown",
   "id": "5f5bd2eb-1f70-459e-9605-e7a7eeb8147a",
   "metadata": {},
   "source": [
    "### Вывод\n",
    "Статистический анализ показал, что мы принимаем нулевую гипотезу, т.е. с высокой долей уверенности можем говорить о том, что среднее значение числа продуктов в заказе и стоимости заказа в экспериментальной и контрольной группах не различаются."
   ]
  },
  {
   "cell_type": "code",
   "execution_count": null,
   "id": "fdca03c7-6615-4a69-95f7-134f9773c644",
   "metadata": {},
   "outputs": [],
   "source": []
  }
 ],
 "metadata": {
  "kernelspec": {
   "display_name": "Python 3 (ipykernel)",
   "language": "python",
   "name": "python3"
  },
  "language_info": {
   "codemirror_mode": {
    "name": "ipython",
    "version": 3
   },
   "file_extension": ".py",
   "mimetype": "text/x-python",
   "name": "python",
   "nbconvert_exporter": "python",
   "pygments_lexer": "ipython3",
   "version": "3.11.6"
  }
 },
 "nbformat": 4,
 "nbformat_minor": 5
}
