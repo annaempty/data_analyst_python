{
 "cells": [
  {
   "cell_type": "code",
   "execution_count": 7,
   "id": "8d3cf592",
   "metadata": {},
   "outputs": [],
   "source": [
    "# Автор задач Karpov.Courses\n",
    "# https://karpov.courses/analytics?_gl=1*k4q7fv*_ga*MTIzOTE2ODc5MS4xNzA4NDEyMTEy*_ga_DZP7KEXCQQ*MTcxMDQxMTg2OS41Ni4xLjE3MTA0MTUyODkuMTAuMC4w"
   ]
  },
  {
   "cell_type": "code",
   "execution_count": 8,
   "id": "8f23562c",
   "metadata": {},
   "outputs": [],
   "source": [
    "import pandas as pd\n",
    "from datetime import datetime\n",
    "import seaborn as sns\n",
    "import matplotlib.pyplot as plt\n",
    "\n",
    "%matplotlib inline"
   ]
  },
  {
   "cell_type": "code",
   "execution_count": 9,
   "id": "1a24a9d4",
   "metadata": {},
   "outputs": [],
   "source": [
    "path_to_folder = '/mnt/HC_Volume_18315164/home-jupyter/jupyter-anna-nikitina/lesson_2_introduction/'\n",
    "path_to_file = ''.join([path_to_folder, 'lesson_2_data.csv'])\n",
    "df = pd.read_csv(path_to_file, sep=';', encoding='windows-1251')"
   ]
  },
  {
   "cell_type": "code",
   "execution_count": 10,
   "id": "7e5fe44a",
   "metadata": {},
   "outputs": [],
   "source": [
    "#Предобработка"
   ]
  },
  {
   "cell_type": "code",
   "execution_count": 11,
   "id": "1b077d15",
   "metadata": {
    "scrolled": true
   },
   "outputs": [],
   "source": [
    "df_rename = {'Номер':'number',\n",
    "              'Дата создания':'date_creat', \n",
    "              'Дата оплаты':'date_pay', \n",
    "              'Title':'title', \n",
    "              'Статус':'status',\n",
    "              'Заработано':'money', \n",
    "              'Город':'city', \n",
    "              'Платежная система':'pay_system'}\n",
    "df = df.rename(columns=df_rename)"
   ]
  },
  {
   "cell_type": "code",
   "execution_count": 12,
   "id": "d0491f07",
   "metadata": {},
   "outputs": [],
   "source": [
    "df.date_creat = pd.to_datetime(df.date_creat)\n",
    "df.date_pay = pd.to_datetime(df.date_pay)"
   ]
  },
  {
   "cell_type": "code",
   "execution_count": 13,
   "id": "c40184bd",
   "metadata": {},
   "outputs": [
    {
     "data": {
      "text/plain": [
       "number                 int64\n",
       "date_creat    datetime64[ns]\n",
       "date_pay      datetime64[ns]\n",
       "title                 object\n",
       "status                object\n",
       "money                float64\n",
       "city                  object\n",
       "pay_system            object\n",
       "dtype: object"
      ]
     },
     "execution_count": 13,
     "metadata": {},
     "output_type": "execute_result"
    }
   ],
   "source": [
    "df.dtypes"
   ]
  },
  {
   "cell_type": "code",
   "execution_count": 14,
   "id": "80134ec8",
   "metadata": {},
   "outputs": [
    {
     "data": {
      "text/html": [
       "<div>\n",
       "<style scoped>\n",
       "    .dataframe tbody tr th:only-of-type {\n",
       "        vertical-align: middle;\n",
       "    }\n",
       "\n",
       "    .dataframe tbody tr th {\n",
       "        vertical-align: top;\n",
       "    }\n",
       "\n",
       "    .dataframe thead th {\n",
       "        text-align: right;\n",
       "    }\n",
       "</style>\n",
       "<table border=\"1\" class=\"dataframe\">\n",
       "  <thead>\n",
       "    <tr style=\"text-align: right;\">\n",
       "      <th></th>\n",
       "      <th>number</th>\n",
       "      <th>date_creat</th>\n",
       "      <th>date_pay</th>\n",
       "      <th>title</th>\n",
       "      <th>status</th>\n",
       "      <th>money</th>\n",
       "      <th>city</th>\n",
       "      <th>pay_system</th>\n",
       "    </tr>\n",
       "  </thead>\n",
       "  <tbody>\n",
       "    <tr>\n",
       "      <th>0</th>\n",
       "      <td>1062823</td>\n",
       "      <td>2019-01-12 10:50:00</td>\n",
       "      <td>2019-01-12 10:52:00</td>\n",
       "      <td>Курс обучения «Эксперт»</td>\n",
       "      <td>Завершен</td>\n",
       "      <td>29597.5</td>\n",
       "      <td>Чита</td>\n",
       "      <td>Сбербанк эквайринг</td>\n",
       "    </tr>\n",
       "    <tr>\n",
       "      <th>1</th>\n",
       "      <td>1062855</td>\n",
       "      <td>2019-01-12 20:53:00</td>\n",
       "      <td>2019-01-12 21:27:00</td>\n",
       "      <td>Курс обучения «Эксперт»</td>\n",
       "      <td>Завершен</td>\n",
       "      <td>17450.3</td>\n",
       "      <td>Краснодар</td>\n",
       "      <td>Яндекс.Касса</td>\n",
       "    </tr>\n",
       "    <tr>\n",
       "      <th>2</th>\n",
       "      <td>1062856</td>\n",
       "      <td>2019-01-12 21:43:00</td>\n",
       "      <td>NaT</td>\n",
       "      <td>Курс обучения «Специалист»</td>\n",
       "      <td>Отменен</td>\n",
       "      <td>0.0</td>\n",
       "      <td>NaN</td>\n",
       "      <td>NaN</td>\n",
       "    </tr>\n",
       "    <tr>\n",
       "      <th>3</th>\n",
       "      <td>1062880</td>\n",
       "      <td>2019-03-12 00:18:00</td>\n",
       "      <td>NaT</td>\n",
       "      <td>Курс обучения «Консультант»</td>\n",
       "      <td>Отменен</td>\n",
       "      <td>0.0</td>\n",
       "      <td>г.Москва и Московская область</td>\n",
       "      <td>NaN</td>\n",
       "    </tr>\n",
       "    <tr>\n",
       "      <th>4</th>\n",
       "      <td>1062899</td>\n",
       "      <td>2019-03-12 21:43:00</td>\n",
       "      <td>NaT</td>\n",
       "      <td>Курс обучения «Эксперт»</td>\n",
       "      <td>Отменен</td>\n",
       "      <td>0.0</td>\n",
       "      <td>г.Москва и Московская область</td>\n",
       "      <td>NaN</td>\n",
       "    </tr>\n",
       "  </tbody>\n",
       "</table>\n",
       "</div>"
      ],
      "text/plain": [
       "    number          date_creat            date_pay  \\\n",
       "0  1062823 2019-01-12 10:50:00 2019-01-12 10:52:00   \n",
       "1  1062855 2019-01-12 20:53:00 2019-01-12 21:27:00   \n",
       "2  1062856 2019-01-12 21:43:00                 NaT   \n",
       "3  1062880 2019-03-12 00:18:00                 NaT   \n",
       "4  1062899 2019-03-12 21:43:00                 NaT   \n",
       "\n",
       "                         title    status    money  \\\n",
       "0      Курс обучения «Эксперт»  Завершен  29597.5   \n",
       "1      Курс обучения «Эксперт»  Завершен  17450.3   \n",
       "2   Курс обучения «Специалист»   Отменен      0.0   \n",
       "3  Курс обучения «Консультант»   Отменен      0.0   \n",
       "4      Курс обучения «Эксперт»   Отменен      0.0   \n",
       "\n",
       "                            city          pay_system  \n",
       "0                           Чита  Сбербанк эквайринг  \n",
       "1                      Краснодар        Яндекс.Касса  \n",
       "2                            NaN                 NaN  \n",
       "3  г.Москва и Московская область                 NaN  \n",
       "4  г.Москва и Московская область                 NaN  "
      ]
     },
     "execution_count": 14,
     "metadata": {},
     "output_type": "execute_result"
    }
   ],
   "source": [
    "df.head()"
   ]
  },
  {
   "cell_type": "code",
   "execution_count": 15,
   "id": "43720cb9",
   "metadata": {},
   "outputs": [
    {
     "data": {
      "text/plain": [
       "6"
      ]
     },
     "execution_count": 15,
     "metadata": {},
     "output_type": "execute_result"
    }
   ],
   "source": [
    "df.title.nunique()"
   ]
  },
  {
   "cell_type": "code",
   "execution_count": 16,
   "id": "caea3319",
   "metadata": {},
   "outputs": [
    {
     "data": {
      "text/plain": [
       "992103.5900000001"
      ]
     },
     "execution_count": 16,
     "metadata": {},
     "output_type": "execute_result"
    }
   ],
   "source": [
    "#Для проверки all_money == сумма по столбцу money\n",
    "all_money = df.money.sum()\n",
    "all_money"
   ]
  },
  {
   "cell_type": "code",
   "execution_count": 17,
   "id": "93e366d2",
   "metadata": {},
   "outputs": [],
   "source": [
    "#Определить, кокие курсы стали более прибольными\n",
    "money_by_title_df = df \\\n",
    "    .query(\"status == 'Завершен'\") \\\n",
    "    .groupby(['title'], as_index=False) \\\n",
    "    .aggregate({'money':'sum', 'status':'count'}) \\\n",
    "    .sort_values('money', ascending=False)\\\n",
    "    .rename(columns={'status':'succses_orders'})\n",
    "top_5 = money_by_title_df.head(5)\n"
   ]
  },
  {
   "cell_type": "code",
   "execution_count": 18,
   "id": "ee84d31e",
   "metadata": {},
   "outputs": [],
   "source": [
    "#Сохранить файл топ 5 по курсам\n",
    "path_to_top_5 = '/mnt/HC_Volume_18315164/home-jupyter/jupyter-anna-nikitina/lesson_2_introduction/top_10_title/top_5.csv'\n",
    "top_5.to_csv(path_to_top_5)"
   ]
  },
  {
   "cell_type": "code",
   "execution_count": 19,
   "id": "3a338146",
   "metadata": {},
   "outputs": [
    {
     "name": "stdout",
     "output_type": "stream",
     "text": [
      "Ok\n"
     ]
    }
   ],
   "source": [
    "#Проверка на то, что мы не потеряли данные\n",
    "if round(money_by_title_df.money.sum(), 2) == round(all_money, 2):\n",
    "    print('Ok')\n",
    "else:\n",
    "    print('Error!!! all_money == money.sum')"
   ]
  },
  {
   "cell_type": "code",
   "execution_count": 20,
   "id": "528fbb3a",
   "metadata": {},
   "outputs": [],
   "source": [
    "# Ежедневный/еженедельный отчет\n",
    "today = datetime.now().strftime('%Y-%m-%d')\n",
    "name_file = 'money_by_city_{}.csv'\n",
    "money_by_title_df.to_csv(name_file.format(today))"
   ]
  },
  {
   "cell_type": "code",
   "execution_count": 21,
   "id": "f14af0d4",
   "metadata": {},
   "outputs": [
    {
     "data": {
      "text/html": [
       "<style  type=\"text/css\" >\n",
       "#T_50beb14e_e773_11ee_bdbb_96000040dfb6row0_col1,#T_50beb14e_e773_11ee_bdbb_96000040dfb6row0_col2{\n",
       "            background-color:  yellow;\n",
       "        }</style><table id=\"T_50beb14e_e773_11ee_bdbb_96000040dfb6\" ><thead>    <tr>        <th class=\"blank level0\" ></th>        <th class=\"col_heading level0 col0\" >title</th>        <th class=\"col_heading level0 col1\" >money</th>        <th class=\"col_heading level0 col2\" >succses_orders</th>    </tr></thead><tbody>\n",
       "                <tr>\n",
       "                        <th id=\"T_50beb14e_e773_11ee_bdbb_96000040dfb6level0_row0\" class=\"row_heading level0 row0\" >5</th>\n",
       "                        <td id=\"T_50beb14e_e773_11ee_bdbb_96000040dfb6row0_col0\" class=\"data row0 col0\" >Подписка «ОНЛАЙН ДИЕТОЛОГ» с ежемесячным автосписанием</td>\n",
       "                        <td id=\"T_50beb14e_e773_11ee_bdbb_96000040dfb6row0_col1\" class=\"data row0 col1\" >366947.200000</td>\n",
       "                        <td id=\"T_50beb14e_e773_11ee_bdbb_96000040dfb6row0_col2\" class=\"data row0 col2\" >125</td>\n",
       "            </tr>\n",
       "            <tr>\n",
       "                        <th id=\"T_50beb14e_e773_11ee_bdbb_96000040dfb6level0_row1\" class=\"row_heading level0 row1\" >0</th>\n",
       "                        <td id=\"T_50beb14e_e773_11ee_bdbb_96000040dfb6row1_col0\" class=\"data row1 col0\" >Курс обучения «Консультант»</td>\n",
       "                        <td id=\"T_50beb14e_e773_11ee_bdbb_96000040dfb6row1_col1\" class=\"data row1 col1\" >208163.490000</td>\n",
       "                        <td id=\"T_50beb14e_e773_11ee_bdbb_96000040dfb6row1_col2\" class=\"data row1 col2\" >31</td>\n",
       "            </tr>\n",
       "            <tr>\n",
       "                        <th id=\"T_50beb14e_e773_11ee_bdbb_96000040dfb6level0_row2\" class=\"row_heading level0 row2\" >1</th>\n",
       "                        <td id=\"T_50beb14e_e773_11ee_bdbb_96000040dfb6row2_col0\" class=\"data row2 col0\" >Курс обучения «Специалист»</td>\n",
       "                        <td id=\"T_50beb14e_e773_11ee_bdbb_96000040dfb6row2_col1\" class=\"data row2 col1\" >160862.640000</td>\n",
       "                        <td id=\"T_50beb14e_e773_11ee_bdbb_96000040dfb6row2_col2\" class=\"data row2 col2\" >7</td>\n",
       "            </tr>\n",
       "            <tr>\n",
       "                        <th id=\"T_50beb14e_e773_11ee_bdbb_96000040dfb6level0_row3\" class=\"row_heading level0 row3\" >2</th>\n",
       "                        <td id=\"T_50beb14e_e773_11ee_bdbb_96000040dfb6row3_col0\" class=\"data row3 col0\" >Курс обучения «Эксперт»</td>\n",
       "                        <td id=\"T_50beb14e_e773_11ee_bdbb_96000040dfb6row3_col1\" class=\"data row3 col1\" >148992.800000</td>\n",
       "                        <td id=\"T_50beb14e_e773_11ee_bdbb_96000040dfb6row3_col2\" class=\"data row3 col2\" >5</td>\n",
       "            </tr>\n",
       "            <tr>\n",
       "                        <th id=\"T_50beb14e_e773_11ee_bdbb_96000040dfb6level0_row4\" class=\"row_heading level0 row4\" >4</th>\n",
       "                        <td id=\"T_50beb14e_e773_11ee_bdbb_96000040dfb6row4_col0\" class=\"data row4 col0\" >Курс от Школы Диетологов. Повышение квалификации. </td>\n",
       "                        <td id=\"T_50beb14e_e773_11ee_bdbb_96000040dfb6row4_col1\" class=\"data row4 col1\" >88384.920000</td>\n",
       "                        <td id=\"T_50beb14e_e773_11ee_bdbb_96000040dfb6row4_col2\" class=\"data row4 col2\" >9</td>\n",
       "            </tr>\n",
       "            <tr>\n",
       "                        <th id=\"T_50beb14e_e773_11ee_bdbb_96000040dfb6level0_row5\" class=\"row_heading level0 row5\" >3</th>\n",
       "                        <td id=\"T_50beb14e_e773_11ee_bdbb_96000040dfb6row5_col0\" class=\"data row5 col0\" >Курс от Школы Диетологов. Бизнес</td>\n",
       "                        <td id=\"T_50beb14e_e773_11ee_bdbb_96000040dfb6row5_col1\" class=\"data row5 col1\" >18752.540000</td>\n",
       "                        <td id=\"T_50beb14e_e773_11ee_bdbb_96000040dfb6row5_col2\" class=\"data row5 col2\" >3</td>\n",
       "            </tr>\n",
       "    </tbody></table>"
      ],
      "text/plain": [
       "<pandas.io.formats.style.Styler at 0x7f0cc4698860>"
      ]
     },
     "execution_count": 21,
     "metadata": {},
     "output_type": "execute_result"
    }
   ],
   "source": [
    "money_by_title_df.style.highlight_max()"
   ]
  },
  {
   "cell_type": "code",
   "execution_count": 22,
   "id": "71a2aae8",
   "metadata": {},
   "outputs": [
    {
     "data": {
      "image/png": "[encoded data removed]",
      "text/plain": [
       "<Figure size 720x576 with 1 Axes>"
      ]
     },
     "metadata": {},
     "output_type": "display_data"
    }
   ],
   "source": [
    "#Отобразить распределение на гистограмме \n",
    "sns.set_theme(style=\"whitegrid\")\n",
    "f, ax = plt.subplots(figsize=(10, 8))\n",
    "\n",
    "ax = sns.barplot(x=\"money\", y=\"title\", data=money_by_title_df,\n",
    "                 color=\"b\", orient=\"h\")\n",
    "\n",
    "sns.despine(left=True, bottom=False)"
   ]
  },
  {
   "cell_type": "code",
   "execution_count": 23,
   "id": "de5450fe",
   "metadata": {},
   "outputs": [],
   "source": [
    "fig = ax.get_figure()\n",
    "fig.savefig('fig_money_by_title', bbox_inches =\"tight\")"
   ]
  },
  {
   "cell_type": "code",
   "execution_count": 24,
   "id": "089872c5",
   "metadata": {},
   "outputs": [],
   "source": [
    "#распределение заработка по городам "
   ]
  },
  {
   "cell_type": "code",
   "execution_count": 25,
   "id": "57c99213",
   "metadata": {},
   "outputs": [
    {
     "data": {
      "text/html": [
       "<div>\n",
       "<style scoped>\n",
       "    .dataframe tbody tr th:only-of-type {\n",
       "        vertical-align: middle;\n",
       "    }\n",
       "\n",
       "    .dataframe tbody tr th {\n",
       "        vertical-align: top;\n",
       "    }\n",
       "\n",
       "    .dataframe thead th {\n",
       "        text-align: right;\n",
       "    }\n",
       "</style>\n",
       "<table border=\"1\" class=\"dataframe\">\n",
       "  <thead>\n",
       "    <tr style=\"text-align: right;\">\n",
       "      <th></th>\n",
       "      <th>number</th>\n",
       "      <th>date_creat</th>\n",
       "      <th>date_pay</th>\n",
       "      <th>title</th>\n",
       "      <th>status</th>\n",
       "      <th>money</th>\n",
       "      <th>city</th>\n",
       "      <th>pay_system</th>\n",
       "    </tr>\n",
       "  </thead>\n",
       "  <tbody>\n",
       "    <tr>\n",
       "      <th>0</th>\n",
       "      <td>1062823</td>\n",
       "      <td>2019-01-12 10:50:00</td>\n",
       "      <td>2019-01-12 10:52:00</td>\n",
       "      <td>Курс обучения «Эксперт»</td>\n",
       "      <td>Завершен</td>\n",
       "      <td>29597.5</td>\n",
       "      <td>Чита</td>\n",
       "      <td>Сбербанк эквайринг</td>\n",
       "    </tr>\n",
       "    <tr>\n",
       "      <th>1</th>\n",
       "      <td>1062855</td>\n",
       "      <td>2019-01-12 20:53:00</td>\n",
       "      <td>2019-01-12 21:27:00</td>\n",
       "      <td>Курс обучения «Эксперт»</td>\n",
       "      <td>Завершен</td>\n",
       "      <td>17450.3</td>\n",
       "      <td>Краснодар</td>\n",
       "      <td>Яндекс.Касса</td>\n",
       "    </tr>\n",
       "    <tr>\n",
       "      <th>2</th>\n",
       "      <td>1062856</td>\n",
       "      <td>2019-01-12 21:43:00</td>\n",
       "      <td>NaT</td>\n",
       "      <td>Курс обучения «Специалист»</td>\n",
       "      <td>Отменен</td>\n",
       "      <td>0.0</td>\n",
       "      <td>NaN</td>\n",
       "      <td>NaN</td>\n",
       "    </tr>\n",
       "    <tr>\n",
       "      <th>3</th>\n",
       "      <td>1062880</td>\n",
       "      <td>2019-03-12 00:18:00</td>\n",
       "      <td>NaT</td>\n",
       "      <td>Курс обучения «Консультант»</td>\n",
       "      <td>Отменен</td>\n",
       "      <td>0.0</td>\n",
       "      <td>г.Москва и Московская область</td>\n",
       "      <td>NaN</td>\n",
       "    </tr>\n",
       "    <tr>\n",
       "      <th>4</th>\n",
       "      <td>1062899</td>\n",
       "      <td>2019-03-12 21:43:00</td>\n",
       "      <td>NaT</td>\n",
       "      <td>Курс обучения «Эксперт»</td>\n",
       "      <td>Отменен</td>\n",
       "      <td>0.0</td>\n",
       "      <td>г.Москва и Московская область</td>\n",
       "      <td>NaN</td>\n",
       "    </tr>\n",
       "  </tbody>\n",
       "</table>\n",
       "</div>"
      ],
      "text/plain": [
       "    number          date_creat            date_pay  \\\n",
       "0  1062823 2019-01-12 10:50:00 2019-01-12 10:52:00   \n",
       "1  1062855 2019-01-12 20:53:00 2019-01-12 21:27:00   \n",
       "2  1062856 2019-01-12 21:43:00                 NaT   \n",
       "3  1062880 2019-03-12 00:18:00                 NaT   \n",
       "4  1062899 2019-03-12 21:43:00                 NaT   \n",
       "\n",
       "                         title    status    money  \\\n",
       "0      Курс обучения «Эксперт»  Завершен  29597.5   \n",
       "1      Курс обучения «Эксперт»  Завершен  17450.3   \n",
       "2   Курс обучения «Специалист»   Отменен      0.0   \n",
       "3  Курс обучения «Консультант»   Отменен      0.0   \n",
       "4      Курс обучения «Эксперт»   Отменен      0.0   \n",
       "\n",
       "                            city          pay_system  \n",
       "0                           Чита  Сбербанк эквайринг  \n",
       "1                      Краснодар        Яндекс.Касса  \n",
       "2                            NaN                 NaN  \n",
       "3  г.Москва и Московская область                 NaN  \n",
       "4  г.Москва и Московская область                 NaN  "
      ]
     },
     "execution_count": 25,
     "metadata": {},
     "output_type": "execute_result"
    }
   ],
   "source": [
    "df.head()"
   ]
  },
  {
   "cell_type": "code",
   "execution_count": 26,
   "id": "33d4845b",
   "metadata": {},
   "outputs": [],
   "source": [
    "money_by_city_df = df \\\n",
    "    .query(\"status == 'Завершен'\") \\\n",
    "    .groupby(['city'], as_index=False) \\\n",
    "    .aggregate({'money':'sum', 'status':'count'}) \\\n",
    "    .sort_values('money', ascending=False)\\\n",
    "    .rename(columns={'status':'succses_orders'})\n",
    "money_by_city_df_plot = money_by_city_df.query('succses_orders > 1')"
   ]
  },
  {
   "cell_type": "code",
   "execution_count": 27,
   "id": "38508902",
   "metadata": {},
   "outputs": [
    {
     "data": {
      "text/plain": [
       "(array([ 0,  1,  2,  3,  4,  5,  6,  7,  8,  9, 10, 11, 12, 13, 14, 15, 16,\n",
       "        17, 18, 19, 20, 21, 22, 23, 24, 25, 26]),\n",
       " <a list of 27 Text major ticklabel objects>)"
      ]
     },
     "execution_count": 27,
     "metadata": {},
     "output_type": "execute_result"
    },
    {
     "data": {
      "image/png": "[encoded data removed]",
      "text/plain": [
       "<Figure size 432x288 with 1 Axes>"
      ]
     },
     "metadata": {},
     "output_type": "display_data"
    }
   ],
   "source": [
    "sns.barplot(data=money_by_city_df_plot,\n",
    "           x='city', y='money')\n",
    "plt.xticks(rotation=90)\n"
   ]
  },
  {
   "cell_type": "code",
   "execution_count": 28,
   "id": "29eeac6e",
   "metadata": {},
   "outputs": [
    {
     "data": {
      "text/html": [
       "<div>\n",
       "<style scoped>\n",
       "    .dataframe tbody tr th:only-of-type {\n",
       "        vertical-align: middle;\n",
       "    }\n",
       "\n",
       "    .dataframe tbody tr th {\n",
       "        vertical-align: top;\n",
       "    }\n",
       "\n",
       "    .dataframe thead th {\n",
       "        text-align: right;\n",
       "    }\n",
       "</style>\n",
       "<table border=\"1\" class=\"dataframe\">\n",
       "  <thead>\n",
       "    <tr style=\"text-align: right;\">\n",
       "      <th></th>\n",
       "      <th>number</th>\n",
       "      <th>date_creat</th>\n",
       "      <th>date_pay</th>\n",
       "      <th>title</th>\n",
       "      <th>status</th>\n",
       "      <th>money</th>\n",
       "      <th>city</th>\n",
       "      <th>pay_system</th>\n",
       "    </tr>\n",
       "  </thead>\n",
       "  <tbody>\n",
       "    <tr>\n",
       "      <th>0</th>\n",
       "      <td>1062823</td>\n",
       "      <td>2019-01-12 10:50:00</td>\n",
       "      <td>2019-01-12 10:52:00</td>\n",
       "      <td>Курс обучения «Эксперт»</td>\n",
       "      <td>Завершен</td>\n",
       "      <td>29597.5</td>\n",
       "      <td>Чита</td>\n",
       "      <td>Сбербанк эквайринг</td>\n",
       "    </tr>\n",
       "    <tr>\n",
       "      <th>1</th>\n",
       "      <td>1062855</td>\n",
       "      <td>2019-01-12 20:53:00</td>\n",
       "      <td>2019-01-12 21:27:00</td>\n",
       "      <td>Курс обучения «Эксперт»</td>\n",
       "      <td>Завершен</td>\n",
       "      <td>17450.3</td>\n",
       "      <td>Краснодар</td>\n",
       "      <td>Яндекс.Касса</td>\n",
       "    </tr>\n",
       "    <tr>\n",
       "      <th>2</th>\n",
       "      <td>1062856</td>\n",
       "      <td>2019-01-12 21:43:00</td>\n",
       "      <td>NaT</td>\n",
       "      <td>Курс обучения «Специалист»</td>\n",
       "      <td>Отменен</td>\n",
       "      <td>0.0</td>\n",
       "      <td>NaN</td>\n",
       "      <td>NaN</td>\n",
       "    </tr>\n",
       "    <tr>\n",
       "      <th>3</th>\n",
       "      <td>1062880</td>\n",
       "      <td>2019-03-12 00:18:00</td>\n",
       "      <td>NaT</td>\n",
       "      <td>Курс обучения «Консультант»</td>\n",
       "      <td>Отменен</td>\n",
       "      <td>0.0</td>\n",
       "      <td>г.Москва и Московская область</td>\n",
       "      <td>NaN</td>\n",
       "    </tr>\n",
       "    <tr>\n",
       "      <th>4</th>\n",
       "      <td>1062899</td>\n",
       "      <td>2019-03-12 21:43:00</td>\n",
       "      <td>NaT</td>\n",
       "      <td>Курс обучения «Эксперт»</td>\n",
       "      <td>Отменен</td>\n",
       "      <td>0.0</td>\n",
       "      <td>г.Москва и Московская область</td>\n",
       "      <td>NaN</td>\n",
       "    </tr>\n",
       "  </tbody>\n",
       "</table>\n",
       "</div>"
      ],
      "text/plain": [
       "    number          date_creat            date_pay  \\\n",
       "0  1062823 2019-01-12 10:50:00 2019-01-12 10:52:00   \n",
       "1  1062855 2019-01-12 20:53:00 2019-01-12 21:27:00   \n",
       "2  1062856 2019-01-12 21:43:00                 NaT   \n",
       "3  1062880 2019-03-12 00:18:00                 NaT   \n",
       "4  1062899 2019-03-12 21:43:00                 NaT   \n",
       "\n",
       "                         title    status    money  \\\n",
       "0      Курс обучения «Эксперт»  Завершен  29597.5   \n",
       "1      Курс обучения «Эксперт»  Завершен  17450.3   \n",
       "2   Курс обучения «Специалист»   Отменен      0.0   \n",
       "3  Курс обучения «Консультант»   Отменен      0.0   \n",
       "4      Курс обучения «Эксперт»   Отменен      0.0   \n",
       "\n",
       "                            city          pay_system  \n",
       "0                           Чита  Сбербанк эквайринг  \n",
       "1                      Краснодар        Яндекс.Касса  \n",
       "2                            NaN                 NaN  \n",
       "3  г.Москва и Московская область                 NaN  \n",
       "4  г.Москва и Московская область                 NaN  "
      ]
     },
     "execution_count": 28,
     "metadata": {},
     "output_type": "execute_result"
    }
   ],
   "source": [
    "df.head()"
   ]
  },
  {
   "cell_type": "code",
   "execution_count": null,
   "id": "ccd5a9b1",
   "metadata": {},
   "outputs": [],
   "source": []
  },
  {
   "cell_type": "code",
   "execution_count": 29,
   "id": "57518750",
   "metadata": {},
   "outputs": [],
   "source": [
    "# Определим CR \n",
    "# (CR — это коэффициент конверсии. Он обозначает долю пользователей, \n",
    "#  которые совершили целевое действие, от всех пользователей, \n",
    "#  посетивших сайт или кликнувших по рекламному объявлению.)"
   ]
  },
  {
   "cell_type": "code",
   "execution_count": 30,
   "id": "1b6fc1cd",
   "metadata": {},
   "outputs": [],
   "source": [
    "cr_title = df.groupby(['title', 'status'], as_index=False)\\\n",
    "    .agg({'date_creat':'count'})\\\n",
    "    .pivot(index='title', columns='status', values='date_creat')\\\n",
    "    .fillna(0)\\\n",
    "    .reset_index()\\\n",
    "    .rename(columns={'В работе':'in_work',\n",
    "            'Завершен':'complete', \n",
    "            'Ожидаем оплаты':'wait_pay',\n",
    "            'Отменен':'cancel',\n",
    "            'Частично оплачен':'Part_pay'})\n",
    "    "
   ]
  },
  {
   "cell_type": "code",
   "execution_count": 31,
   "id": "8e88fa58",
   "metadata": {},
   "outputs": [],
   "source": [
    "all_status = df.groupby('title', as_index=False)\\\n",
    "    .agg({'date_creat':'count'})\\\n",
    "    .rename(columns={'date_creat':'count_all_status'})"
   ]
  },
  {
   "cell_type": "code",
   "execution_count": 32,
   "id": "04251387",
   "metadata": {},
   "outputs": [],
   "source": [
    "cr_title = cr_title.merge(all_status, on='title')"
   ]
  },
  {
   "cell_type": "code",
   "execution_count": 33,
   "id": "c3dfac91",
   "metadata": {},
   "outputs": [],
   "source": [
    "cr_title['cr_complete'] = round(cr_title.complete/cr_title.count_all_status * 100, 2)"
   ]
  },
  {
   "cell_type": "code",
   "execution_count": 34,
   "id": "5796bf37",
   "metadata": {},
   "outputs": [
    {
     "data": {
      "text/html": [
       "<div>\n",
       "<style scoped>\n",
       "    .dataframe tbody tr th:only-of-type {\n",
       "        vertical-align: middle;\n",
       "    }\n",
       "\n",
       "    .dataframe tbody tr th {\n",
       "        vertical-align: top;\n",
       "    }\n",
       "\n",
       "    .dataframe thead th {\n",
       "        text-align: right;\n",
       "    }\n",
       "</style>\n",
       "<table border=\"1\" class=\"dataframe\">\n",
       "  <thead>\n",
       "    <tr style=\"text-align: right;\">\n",
       "      <th></th>\n",
       "      <th>title</th>\n",
       "      <th>in_work</th>\n",
       "      <th>complete</th>\n",
       "      <th>wait_pay</th>\n",
       "      <th>cancel</th>\n",
       "      <th>Part_pay</th>\n",
       "      <th>count_all_status</th>\n",
       "      <th>cr_complete</th>\n",
       "    </tr>\n",
       "  </thead>\n",
       "  <tbody>\n",
       "    <tr>\n",
       "      <th>0</th>\n",
       "      <td>Курс обучения «Консультант»</td>\n",
       "      <td>0.0</td>\n",
       "      <td>31.0</td>\n",
       "      <td>0.0</td>\n",
       "      <td>21.0</td>\n",
       "      <td>0.0</td>\n",
       "      <td>52</td>\n",
       "      <td>59.62</td>\n",
       "    </tr>\n",
       "    <tr>\n",
       "      <th>1</th>\n",
       "      <td>Курс обучения «Специалист»</td>\n",
       "      <td>0.0</td>\n",
       "      <td>7.0</td>\n",
       "      <td>0.0</td>\n",
       "      <td>5.0</td>\n",
       "      <td>0.0</td>\n",
       "      <td>12</td>\n",
       "      <td>58.33</td>\n",
       "    </tr>\n",
       "    <tr>\n",
       "      <th>2</th>\n",
       "      <td>Курс обучения «Эксперт»</td>\n",
       "      <td>0.0</td>\n",
       "      <td>5.0</td>\n",
       "      <td>0.0</td>\n",
       "      <td>17.0</td>\n",
       "      <td>0.0</td>\n",
       "      <td>22</td>\n",
       "      <td>22.73</td>\n",
       "    </tr>\n",
       "    <tr>\n",
       "      <th>3</th>\n",
       "      <td>Курс от Школы Диетологов. Бизнес</td>\n",
       "      <td>0.0</td>\n",
       "      <td>3.0</td>\n",
       "      <td>0.0</td>\n",
       "      <td>5.0</td>\n",
       "      <td>1.0</td>\n",
       "      <td>9</td>\n",
       "      <td>33.33</td>\n",
       "    </tr>\n",
       "    <tr>\n",
       "      <th>4</th>\n",
       "      <td>Курс от Школы Диетологов. Повышение квалификац...</td>\n",
       "      <td>0.0</td>\n",
       "      <td>9.0</td>\n",
       "      <td>0.0</td>\n",
       "      <td>5.0</td>\n",
       "      <td>1.0</td>\n",
       "      <td>15</td>\n",
       "      <td>60.00</td>\n",
       "    </tr>\n",
       "    <tr>\n",
       "      <th>5</th>\n",
       "      <td>Подписка «ОНЛАЙН ДИЕТОЛОГ» с ежемесячным автос...</td>\n",
       "      <td>1.0</td>\n",
       "      <td>125.0</td>\n",
       "      <td>1.0</td>\n",
       "      <td>55.0</td>\n",
       "      <td>0.0</td>\n",
       "      <td>182</td>\n",
       "      <td>68.68</td>\n",
       "    </tr>\n",
       "  </tbody>\n",
       "</table>\n",
       "</div>"
      ],
      "text/plain": [
       "                                               title  in_work  complete  \\\n",
       "0                        Курс обучения «Консультант»      0.0      31.0   \n",
       "1                         Курс обучения «Специалист»      0.0       7.0   \n",
       "2                            Курс обучения «Эксперт»      0.0       5.0   \n",
       "3                   Курс от Школы Диетологов. Бизнес      0.0       3.0   \n",
       "4  Курс от Школы Диетологов. Повышение квалификац...      0.0       9.0   \n",
       "5  Подписка «ОНЛАЙН ДИЕТОЛОГ» с ежемесячным автос...      1.0     125.0   \n",
       "\n",
       "   wait_pay  cancel  Part_pay  count_all_status  cr_complete  \n",
       "0       0.0    21.0       0.0                52        59.62  \n",
       "1       0.0     5.0       0.0                12        58.33  \n",
       "2       0.0    17.0       0.0                22        22.73  \n",
       "3       0.0     5.0       1.0                 9        33.33  \n",
       "4       0.0     5.0       1.0                15        60.00  \n",
       "5       1.0    55.0       0.0               182        68.68  "
      ]
     },
     "execution_count": 34,
     "metadata": {},
     "output_type": "execute_result"
    }
   ],
   "source": [
    "cr_title"
   ]
  },
  {
   "cell_type": "code",
   "execution_count": 35,
   "id": "8c4635f0",
   "metadata": {},
   "outputs": [
    {
     "data": {
      "text/html": [
       "<div>\n",
       "<style scoped>\n",
       "    .dataframe tbody tr th:only-of-type {\n",
       "        vertical-align: middle;\n",
       "    }\n",
       "\n",
       "    .dataframe tbody tr th {\n",
       "        vertical-align: top;\n",
       "    }\n",
       "\n",
       "    .dataframe thead th {\n",
       "        text-align: right;\n",
       "    }\n",
       "</style>\n",
       "<table border=\"1\" class=\"dataframe\">\n",
       "  <thead>\n",
       "    <tr style=\"text-align: right;\">\n",
       "      <th></th>\n",
       "      <th>title</th>\n",
       "      <th>status</th>\n",
       "      <th>date_creat</th>\n",
       "    </tr>\n",
       "  </thead>\n",
       "  <tbody>\n",
       "    <tr>\n",
       "      <th>0</th>\n",
       "      <td>Курс обучения «Консультант»</td>\n",
       "      <td>Завершен</td>\n",
       "      <td>31</td>\n",
       "    </tr>\n",
       "    <tr>\n",
       "      <th>1</th>\n",
       "      <td>Курс обучения «Консультант»</td>\n",
       "      <td>Отменен</td>\n",
       "      <td>21</td>\n",
       "    </tr>\n",
       "    <tr>\n",
       "      <th>2</th>\n",
       "      <td>Курс обучения «Специалист»</td>\n",
       "      <td>Завершен</td>\n",
       "      <td>7</td>\n",
       "    </tr>\n",
       "    <tr>\n",
       "      <th>3</th>\n",
       "      <td>Курс обучения «Специалист»</td>\n",
       "      <td>Отменен</td>\n",
       "      <td>5</td>\n",
       "    </tr>\n",
       "    <tr>\n",
       "      <th>4</th>\n",
       "      <td>Курс обучения «Эксперт»</td>\n",
       "      <td>Завершен</td>\n",
       "      <td>5</td>\n",
       "    </tr>\n",
       "    <tr>\n",
       "      <th>5</th>\n",
       "      <td>Курс обучения «Эксперт»</td>\n",
       "      <td>Отменен</td>\n",
       "      <td>17</td>\n",
       "    </tr>\n",
       "    <tr>\n",
       "      <th>6</th>\n",
       "      <td>Курс от Школы Диетологов. Бизнес</td>\n",
       "      <td>Завершен</td>\n",
       "      <td>3</td>\n",
       "    </tr>\n",
       "    <tr>\n",
       "      <th>7</th>\n",
       "      <td>Курс от Школы Диетологов. Бизнес</td>\n",
       "      <td>Отменен</td>\n",
       "      <td>5</td>\n",
       "    </tr>\n",
       "    <tr>\n",
       "      <th>8</th>\n",
       "      <td>Курс от Школы Диетологов. Бизнес</td>\n",
       "      <td>Частично оплачен</td>\n",
       "      <td>1</td>\n",
       "    </tr>\n",
       "    <tr>\n",
       "      <th>9</th>\n",
       "      <td>Курс от Школы Диетологов. Повышение квалификац...</td>\n",
       "      <td>Завершен</td>\n",
       "      <td>9</td>\n",
       "    </tr>\n",
       "    <tr>\n",
       "      <th>10</th>\n",
       "      <td>Курс от Школы Диетологов. Повышение квалификац...</td>\n",
       "      <td>Отменен</td>\n",
       "      <td>5</td>\n",
       "    </tr>\n",
       "    <tr>\n",
       "      <th>11</th>\n",
       "      <td>Курс от Школы Диетологов. Повышение квалификац...</td>\n",
       "      <td>Частично оплачен</td>\n",
       "      <td>1</td>\n",
       "    </tr>\n",
       "    <tr>\n",
       "      <th>12</th>\n",
       "      <td>Подписка «ОНЛАЙН ДИЕТОЛОГ» с ежемесячным автос...</td>\n",
       "      <td>В работе</td>\n",
       "      <td>1</td>\n",
       "    </tr>\n",
       "    <tr>\n",
       "      <th>13</th>\n",
       "      <td>Подписка «ОНЛАЙН ДИЕТОЛОГ» с ежемесячным автос...</td>\n",
       "      <td>Завершен</td>\n",
       "      <td>125</td>\n",
       "    </tr>\n",
       "    <tr>\n",
       "      <th>14</th>\n",
       "      <td>Подписка «ОНЛАЙН ДИЕТОЛОГ» с ежемесячным автос...</td>\n",
       "      <td>Ожидаем оплаты</td>\n",
       "      <td>1</td>\n",
       "    </tr>\n",
       "    <tr>\n",
       "      <th>15</th>\n",
       "      <td>Подписка «ОНЛАЙН ДИЕТОЛОГ» с ежемесячным автос...</td>\n",
       "      <td>Отменен</td>\n",
       "      <td>55</td>\n",
       "    </tr>\n",
       "  </tbody>\n",
       "</table>\n",
       "</div>"
      ],
      "text/plain": [
       "                                                title            status  \\\n",
       "0                         Курс обучения «Консультант»          Завершен   \n",
       "1                         Курс обучения «Консультант»           Отменен   \n",
       "2                          Курс обучения «Специалист»          Завершен   \n",
       "3                          Курс обучения «Специалист»           Отменен   \n",
       "4                             Курс обучения «Эксперт»          Завершен   \n",
       "5                             Курс обучения «Эксперт»           Отменен   \n",
       "6                    Курс от Школы Диетологов. Бизнес          Завершен   \n",
       "7                    Курс от Школы Диетологов. Бизнес           Отменен   \n",
       "8                    Курс от Школы Диетологов. Бизнес  Частично оплачен   \n",
       "9   Курс от Школы Диетологов. Повышение квалификац...          Завершен   \n",
       "10  Курс от Школы Диетологов. Повышение квалификац...           Отменен   \n",
       "11  Курс от Школы Диетологов. Повышение квалификац...  Частично оплачен   \n",
       "12  Подписка «ОНЛАЙН ДИЕТОЛОГ» с ежемесячным автос...          В работе   \n",
       "13  Подписка «ОНЛАЙН ДИЕТОЛОГ» с ежемесячным автос...          Завершен   \n",
       "14  Подписка «ОНЛАЙН ДИЕТОЛОГ» с ежемесячным автос...    Ожидаем оплаты   \n",
       "15  Подписка «ОНЛАЙН ДИЕТОЛОГ» с ежемесячным автос...           Отменен   \n",
       "\n",
       "    date_creat  \n",
       "0           31  \n",
       "1           21  \n",
       "2            7  \n",
       "3            5  \n",
       "4            5  \n",
       "5           17  \n",
       "6            3  \n",
       "7            5  \n",
       "8            1  \n",
       "9            9  \n",
       "10           5  \n",
       "11           1  \n",
       "12           1  \n",
       "13         125  \n",
       "14           1  \n",
       "15          55  "
      ]
     },
     "execution_count": 35,
     "metadata": {},
     "output_type": "execute_result"
    }
   ],
   "source": [
    "cr_title_heu = df.groupby(['title', 'status'], as_index=False)\\\n",
    "    .agg({'date_creat':'count'})\n",
    "cr_title_heu"
   ]
  },
  {
   "cell_type": "code",
   "execution_count": 36,
   "id": "c4aaa8a8",
   "metadata": {},
   "outputs": [
    {
     "data": {
      "image/png": "[encoded data removed]",
      "text/plain": [
       "<Figure size 432x288 with 1 Axes>"
      ]
     },
     "metadata": {},
     "output_type": "display_data"
    }
   ],
   "source": [
    "sns.set_theme(style=\"whitegrid\")\n",
    "ax = sns.barplot(\n",
    "    data=cr_title_heu,\n",
    "    x=\"title\", y=\"date_creat\", hue=\"status\")\n",
    "plt.xticks(rotation = 90)\n",
    "for p in ax.patches: \n",
    "    ax.annotate(format(p.get_height()), \n",
    "                   (p.get_x() + p.get_width() / 2., p.get_height()), \n",
    "                   ha='center', va='center', \n",
    "                   xytext=(0, 9), \n",
    "                   textcoords='offset points') "
   ]
  },
  {
   "cell_type": "code",
   "execution_count": 37,
   "id": "d23926e5",
   "metadata": {},
   "outputs": [
    {
     "data": {
      "text/plain": [
       "(array([0, 1, 2, 3, 4, 5]), <a list of 6 Text major ticklabel objects>)"
      ]
     },
     "execution_count": 37,
     "metadata": {},
     "output_type": "execute_result"
    },
    {
     "data": {
      "image/png": "[encoded data removed]",
      "text/plain": [
       "<Figure size 432x288 with 1 Axes>"
      ]
     },
     "metadata": {},
     "output_type": "display_data"
    }
   ],
   "source": [
    "x = sns.barplot(\n",
    "    data=cr_title,\n",
    "    x=\"title\", y=\"cr_complete\").set(title='Учащиеся, которые заверщили обучение')\n",
    "plt.xticks(rotation = 90)"
   ]
  },
  {
   "cell_type": "code",
   "execution_count": null,
   "id": "e9535338",
   "metadata": {},
   "outputs": [],
   "source": []
  },
  {
   "cell_type": "code",
   "execution_count": 38,
   "id": "d9490862",
   "metadata": {},
   "outputs": [
    {
     "data": {
      "text/plain": [
       "5    Подписка «ОНЛАЙН ДИЕТОЛОГ» с ежемесячным автос...\n",
       "0                          Курс обучения «Консультант»\n",
       "1                           Курс обучения «Специалист»\n",
       "2                              Курс обучения «Эксперт»\n",
       "4    Курс от Школы Диетологов. Повышение квалификац...\n",
       "3                     Курс от Школы Диетологов. Бизнес\n",
       "Name: title, dtype: object"
      ]
     },
     "execution_count": 38,
     "metadata": {},
     "output_type": "execute_result"
    }
   ],
   "source": [
    "money_by_title_df.title\n",
    "\n"
   ]
  },
  {
   "cell_type": "code",
   "execution_count": 39,
   "id": "a195f839",
   "metadata": {},
   "outputs": [],
   "source": [
    "# Небольшая аналитическая записка\n",
    "# 1. Подписка «ОНЛАЙН ДИЕТОЛОГ» с ежемесячным автосписанием является самым востребованым курсом на платформе\n",
    "# 2. Данный курс заканчивает более 65% учащихся\n",
    "# 3. Курс обучения «Эксперт» имеет наименьший CR_complete(более 70%) (наибольший процент возвратов, что-то с ним нужно делать)\n",
    "# 4. Курс от Школы Диетологов. Бизнес имеет CR_complete более 50%\n"
   ]
  }
 ],
 "metadata": {
  "kernelspec": {
   "display_name": "Python 3",
   "language": "python",
   "name": "python3"
  },
  "language_info": {
   "codemirror_mode": {
    "name": "ipython",
    "version": 3
   },
   "file_extension": ".py",
   "mimetype": "text/x-python",
   "name": "python",
   "nbconvert_exporter": "python",
   "pygments_lexer": "ipython3",
   "version": "3.7.3"
  }
 },
 "nbformat": 4,
 "nbformat_minor": 5
}
