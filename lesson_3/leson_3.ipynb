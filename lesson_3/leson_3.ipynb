{
 "cells": [
  {
   "cell_type": "markdown",
   "id": "7521a6d0",
   "metadata": {},
   "source": [
    "Автор задач Karpov.Courses\n",
    "https://karpov.courses/analytics?_gl=1*k4q7fv*_ga*MTIzOTE2ODc5MS4xNzA4NDEyMTEy*_ga_DZP7KEXCQQ*MTcxMDQxMTg2OS41Ni4xLjE3MTA0MTUyODkuMTAuMC4w"
   ]
  },
  {
   "cell_type": "code",
   "execution_count": 60,
   "id": "8b771e3e",
   "metadata": {},
   "outputs": [],
   "source": [
    "#Определить лояльных бренду покупателей"
   ]
  },
  {
   "cell_type": "code",
   "execution_count": 113,
   "id": "661f6a13",
   "metadata": {},
   "outputs": [],
   "source": [
    "import pandas as pd\n",
    "\n",
    "import seaborn as sns\n",
    "import matplotlib.pyplot as plt\n",
    "%matplotlib inline"
   ]
  },
  {
   "cell_type": "code",
   "execution_count": 99,
   "id": "c21f05a1",
   "metadata": {},
   "outputs": [],
   "source": [
    "df = pd.read_csv('lesson_3_data_1_.csv', encoding='windows-1251')"
   ]
  },
  {
   "cell_type": "code",
   "execution_count": 100,
   "id": "09656034",
   "metadata": {},
   "outputs": [
    {
     "data": {
      "text/html": [
       "<div>\n",
       "<style scoped>\n",
       "    .dataframe tbody tr th:only-of-type {\n",
       "        vertical-align: middle;\n",
       "    }\n",
       "\n",
       "    .dataframe tbody tr th {\n",
       "        vertical-align: top;\n",
       "    }\n",
       "\n",
       "    .dataframe thead th {\n",
       "        text-align: right;\n",
       "    }\n",
       "</style>\n",
       "<table border=\"1\" class=\"dataframe\">\n",
       "  <thead>\n",
       "    <tr style=\"text-align: right;\">\n",
       "      <th></th>\n",
       "      <th>Unnamed: 0</th>\n",
       "      <th>tk</th>\n",
       "      <th>pl</th>\n",
       "      <th>dia</th>\n",
       "      <th>hs</th>\n",
       "      <th>tc</th>\n",
       "      <th>cta</th>\n",
       "      <th>id_art</th>\n",
       "      <th>id_subsubfam</th>\n",
       "      <th>id_subfam</th>\n",
       "      <th>...</th>\n",
       "      <th>id_famn</th>\n",
       "      <th>id_seccion</th>\n",
       "      <th>id_subagr</th>\n",
       "      <th>id_agr</th>\n",
       "      <th>vta</th>\n",
       "      <th>uni</th>\n",
       "      <th>id_artn</th>\n",
       "      <th>art_sp</th>\n",
       "      <th>fam_sp</th>\n",
       "      <th>fam_en</th>\n",
       "    </tr>\n",
       "  </thead>\n",
       "  <tbody>\n",
       "    <tr>\n",
       "      <th>0</th>\n",
       "      <td>1242</td>\n",
       "      <td>120071109002055793</td>\n",
       "      <td>1</td>\n",
       "      <td>2007/11/09</td>\n",
       "      <td>0.505729</td>\n",
       "      <td>110000761</td>\n",
       "      <td>11000076</td>\n",
       "      <td>21895</td>\n",
       "      <td>101070640100</td>\n",
       "      <td>1010706401</td>\n",
       "      <td>...</td>\n",
       "      <td>10107064</td>\n",
       "      <td>10107</td>\n",
       "      <td>101</td>\n",
       "      <td>1</td>\n",
       "      <td>0.68</td>\n",
       "      <td>1.0</td>\n",
       "      <td>21895</td>\n",
       "      <td>MARAVILLA        500 G Store_Brand</td>\n",
       "      <td>PASTA ALIMENTICIA SE</td>\n",
       "      <td>pasta</td>\n",
       "    </tr>\n",
       "    <tr>\n",
       "      <th>1</th>\n",
       "      <td>1243</td>\n",
       "      <td>120070601004053633</td>\n",
       "      <td>1</td>\n",
       "      <td>2007/06/01</td>\n",
       "      <td>0.588519</td>\n",
       "      <td>110000761</td>\n",
       "      <td>11000076</td>\n",
       "      <td>21816</td>\n",
       "      <td>101070640100</td>\n",
       "      <td>1010706401</td>\n",
       "      <td>...</td>\n",
       "      <td>10107064</td>\n",
       "      <td>10107</td>\n",
       "      <td>101</td>\n",
       "      <td>1</td>\n",
       "      <td>0.38</td>\n",
       "      <td>1.0</td>\n",
       "      <td>21816</td>\n",
       "      <td>FIDEO CABELLIN   500 G Store_Brand</td>\n",
       "      <td>PASTA ALIMENTICIA SE</td>\n",
       "      <td>pasta</td>\n",
       "    </tr>\n",
       "    <tr>\n",
       "      <th>2</th>\n",
       "      <td>1244</td>\n",
       "      <td>120070928004076410</td>\n",
       "      <td>1</td>\n",
       "      <td>2007/09/28</td>\n",
       "      <td>0.785498</td>\n",
       "      <td>28491841</td>\n",
       "      <td>2849184</td>\n",
       "      <td>562840</td>\n",
       "      <td>101070640100</td>\n",
       "      <td>1010706401</td>\n",
       "      <td>...</td>\n",
       "      <td>10107064</td>\n",
       "      <td>10107</td>\n",
       "      <td>101</td>\n",
       "      <td>1</td>\n",
       "      <td>1.55</td>\n",
       "      <td>2.0</td>\n",
       "      <td>562840</td>\n",
       "      <td>SPAGUETTI Nє 5 500 G Brand_1</td>\n",
       "      <td>PASTA ALIMENTICIA SE</td>\n",
       "      <td>pasta</td>\n",
       "    </tr>\n",
       "    <tr>\n",
       "      <th>3</th>\n",
       "      <td>1245</td>\n",
       "      <td>120070616003074261</td>\n",
       "      <td>1</td>\n",
       "      <td>2007/06/16</td>\n",
       "      <td>0.550961</td>\n",
       "      <td>95931501</td>\n",
       "      <td>9593150</td>\n",
       "      <td>28914</td>\n",
       "      <td>101070640100</td>\n",
       "      <td>1010706401</td>\n",
       "      <td>...</td>\n",
       "      <td>10107064</td>\n",
       "      <td>10107</td>\n",
       "      <td>101</td>\n",
       "      <td>1</td>\n",
       "      <td>1.03</td>\n",
       "      <td>2.0</td>\n",
       "      <td>28914</td>\n",
       "      <td>FIDEO FIDEUБ      500 Brand_7</td>\n",
       "      <td>PASTA ALIMENTICIA SE</td>\n",
       "      <td>pasta</td>\n",
       "    </tr>\n",
       "    <tr>\n",
       "      <th>4</th>\n",
       "      <td>1246</td>\n",
       "      <td>120070519001018477</td>\n",
       "      <td>1</td>\n",
       "      <td>2007/05/19</td>\n",
       "      <td>0.804954</td>\n",
       "      <td>93265591</td>\n",
       "      <td>9326559</td>\n",
       "      <td>159867</td>\n",
       "      <td>101070640100</td>\n",
       "      <td>1010706401</td>\n",
       "      <td>...</td>\n",
       "      <td>10107064</td>\n",
       "      <td>10107</td>\n",
       "      <td>101</td>\n",
       "      <td>1</td>\n",
       "      <td>1.09</td>\n",
       "      <td>1.0</td>\n",
       "      <td>159867</td>\n",
       "      <td>MACARRONES  GRATINAR 5 Brand_2</td>\n",
       "      <td>PASTA ALIMENTICIA SE</td>\n",
       "      <td>pasta</td>\n",
       "    </tr>\n",
       "  </tbody>\n",
       "</table>\n",
       "<p>5 rows × 21 columns</p>\n",
       "</div>"
      ],
      "text/plain": [
       "   Unnamed: 0                  tk  pl         dia        hs         tc  \\\n",
       "0        1242  120071109002055793   1  2007/11/09  0.505729  110000761   \n",
       "1        1243  120070601004053633   1  2007/06/01  0.588519  110000761   \n",
       "2        1244  120070928004076410   1  2007/09/28  0.785498   28491841   \n",
       "3        1245  120070616003074261   1  2007/06/16  0.550961   95931501   \n",
       "4        1246  120070519001018477   1  2007/05/19  0.804954   93265591   \n",
       "\n",
       "        cta  id_art  id_subsubfam   id_subfam  ...   id_famn  id_seccion  \\\n",
       "0  11000076   21895  101070640100  1010706401  ...  10107064       10107   \n",
       "1  11000076   21816  101070640100  1010706401  ...  10107064       10107   \n",
       "2   2849184  562840  101070640100  1010706401  ...  10107064       10107   \n",
       "3   9593150   28914  101070640100  1010706401  ...  10107064       10107   \n",
       "4   9326559  159867  101070640100  1010706401  ...  10107064       10107   \n",
       "\n",
       "   id_subagr  id_agr   vta  uni  id_artn                              art_sp  \\\n",
       "0        101       1  0.68  1.0    21895  MARAVILLA        500 G Store_Brand   \n",
       "1        101       1  0.38  1.0    21816  FIDEO CABELLIN   500 G Store_Brand   \n",
       "2        101       1  1.55  2.0   562840        SPAGUETTI Nє 5 500 G Brand_1   \n",
       "3        101       1  1.03  2.0    28914       FIDEO FIDEUБ      500 Brand_7   \n",
       "4        101       1  1.09  1.0   159867      MACARRONES  GRATINAR 5 Brand_2   \n",
       "\n",
       "                 fam_sp fam_en  \n",
       "0  PASTA ALIMENTICIA SE  pasta  \n",
       "1  PASTA ALIMENTICIA SE  pasta  \n",
       "2  PASTA ALIMENTICIA SE  pasta  \n",
       "3  PASTA ALIMENTICIA SE  pasta  \n",
       "4  PASTA ALIMENTICIA SE  pasta  \n",
       "\n",
       "[5 rows x 21 columns]"
      ]
     },
     "execution_count": 100,
     "metadata": {},
     "output_type": "execute_result"
    }
   ],
   "source": [
    "df.head()"
   ]
  },
  {
   "cell_type": "code",
   "execution_count": 101,
   "id": "3cb54495",
   "metadata": {},
   "outputs": [],
   "source": [
    "user_df = df[['tc', 'art_sp']]"
   ]
  },
  {
   "cell_type": "code",
   "execution_count": 102,
   "id": "e07229cc",
   "metadata": {},
   "outputs": [],
   "source": [
    "def split_drand_name(brand_name_date):\n",
    "    return brand_name_date.split()[-1]"
   ]
  },
  {
   "cell_type": "code",
   "execution_count": 103,
   "id": "d6f2c69c",
   "metadata": {},
   "outputs": [
    {
     "data": {
      "text/html": [
       "<div>\n",
       "<style scoped>\n",
       "    .dataframe tbody tr th:only-of-type {\n",
       "        vertical-align: middle;\n",
       "    }\n",
       "\n",
       "    .dataframe tbody tr th {\n",
       "        vertical-align: top;\n",
       "    }\n",
       "\n",
       "    .dataframe thead th {\n",
       "        text-align: right;\n",
       "    }\n",
       "</style>\n",
       "<table border=\"1\" class=\"dataframe\">\n",
       "  <thead>\n",
       "    <tr style=\"text-align: right;\">\n",
       "      <th></th>\n",
       "      <th>user_id</th>\n",
       "      <th>brand_info</th>\n",
       "    </tr>\n",
       "  </thead>\n",
       "  <tbody>\n",
       "    <tr>\n",
       "      <th>0</th>\n",
       "      <td>110000761</td>\n",
       "      <td>MARAVILLA        500 G Store_Brand</td>\n",
       "    </tr>\n",
       "    <tr>\n",
       "      <th>1</th>\n",
       "      <td>110000761</td>\n",
       "      <td>FIDEO CABELLIN   500 G Store_Brand</td>\n",
       "    </tr>\n",
       "    <tr>\n",
       "      <th>2</th>\n",
       "      <td>28491841</td>\n",
       "      <td>SPAGUETTI Nє 5 500 G Brand_1</td>\n",
       "    </tr>\n",
       "    <tr>\n",
       "      <th>3</th>\n",
       "      <td>95931501</td>\n",
       "      <td>FIDEO FIDEUБ      500 Brand_7</td>\n",
       "    </tr>\n",
       "    <tr>\n",
       "      <th>4</th>\n",
       "      <td>93265591</td>\n",
       "      <td>MACARRONES  GRATINAR 5 Brand_2</td>\n",
       "    </tr>\n",
       "  </tbody>\n",
       "</table>\n",
       "</div>"
      ],
      "text/plain": [
       "     user_id                          brand_info\n",
       "0  110000761  MARAVILLA        500 G Store_Brand\n",
       "1  110000761  FIDEO CABELLIN   500 G Store_Brand\n",
       "2   28491841        SPAGUETTI Nє 5 500 G Brand_1\n",
       "3   95931501       FIDEO FIDEUБ      500 Brand_7\n",
       "4   93265591      MACARRONES  GRATINAR 5 Brand_2"
      ]
     },
     "execution_count": 103,
     "metadata": {},
     "output_type": "execute_result"
    }
   ],
   "source": [
    "new_name = {'tc':'user_id', 'art_sp':'brand_info'}\n",
    "user_df = user_df.rename(columns=new_name)\n",
    "user_df.head()"
   ]
  },
  {
   "cell_type": "code",
   "execution_count": 104,
   "id": "c773f2a8",
   "metadata": {},
   "outputs": [
    {
     "data": {
      "text/html": [
       "<div>\n",
       "<style scoped>\n",
       "    .dataframe tbody tr th:only-of-type {\n",
       "        vertical-align: middle;\n",
       "    }\n",
       "\n",
       "    .dataframe tbody tr th {\n",
       "        vertical-align: top;\n",
       "    }\n",
       "\n",
       "    .dataframe thead th {\n",
       "        text-align: right;\n",
       "    }\n",
       "</style>\n",
       "<table border=\"1\" class=\"dataframe\">\n",
       "  <thead>\n",
       "    <tr style=\"text-align: right;\">\n",
       "      <th></th>\n",
       "      <th>user_id</th>\n",
       "      <th>brand_info</th>\n",
       "      <th>brand_name</th>\n",
       "    </tr>\n",
       "  </thead>\n",
       "  <tbody>\n",
       "    <tr>\n",
       "      <th>0</th>\n",
       "      <td>110000761</td>\n",
       "      <td>MARAVILLA        500 G Store_Brand</td>\n",
       "      <td>Store_Brand</td>\n",
       "    </tr>\n",
       "    <tr>\n",
       "      <th>1</th>\n",
       "      <td>110000761</td>\n",
       "      <td>FIDEO CABELLIN   500 G Store_Brand</td>\n",
       "      <td>Store_Brand</td>\n",
       "    </tr>\n",
       "    <tr>\n",
       "      <th>2</th>\n",
       "      <td>28491841</td>\n",
       "      <td>SPAGUETTI Nє 5 500 G Brand_1</td>\n",
       "      <td>Brand_1</td>\n",
       "    </tr>\n",
       "    <tr>\n",
       "      <th>3</th>\n",
       "      <td>95931501</td>\n",
       "      <td>FIDEO FIDEUБ      500 Brand_7</td>\n",
       "      <td>Brand_7</td>\n",
       "    </tr>\n",
       "    <tr>\n",
       "      <th>4</th>\n",
       "      <td>93265591</td>\n",
       "      <td>MACARRONES  GRATINAR 5 Brand_2</td>\n",
       "      <td>Brand_2</td>\n",
       "    </tr>\n",
       "  </tbody>\n",
       "</table>\n",
       "</div>"
      ],
      "text/plain": [
       "     user_id                          brand_info   brand_name\n",
       "0  110000761  MARAVILLA        500 G Store_Brand  Store_Brand\n",
       "1  110000761  FIDEO CABELLIN   500 G Store_Brand  Store_Brand\n",
       "2   28491841        SPAGUETTI Nє 5 500 G Brand_1      Brand_1\n",
       "3   95931501       FIDEO FIDEUБ      500 Brand_7      Brand_7\n",
       "4   93265591      MACARRONES  GRATINAR 5 Brand_2      Brand_2"
      ]
     },
     "execution_count": 104,
     "metadata": {},
     "output_type": "execute_result"
    }
   ],
   "source": [
    "#user_df['brand_name'] = user_df.brand_info.apply(split_drand_name)\n",
    "user_df['brand_name'] =user_df.brand_info.apply(lambda x: x.split()[-1])\n",
    "user_df.head()"
   ]
  },
  {
   "cell_type": "code",
   "execution_count": 105,
   "id": "ca4b4d6d",
   "metadata": {},
   "outputs": [],
   "source": [
    "#Пользователи, которые совершили более 5 покупок\n",
    "user_purchases = user_df.groupby(['user_id'], as_index=False)\\\n",
    "    .agg({'brand_info':'count'}).rename(columns={'brand_info':'count_purchases'})\\\n",
    "    .query(\"count_purchases >= 5\")"
   ]
  },
  {
   "cell_type": "code",
   "execution_count": 106,
   "id": "d1dd0478",
   "metadata": {},
   "outputs": [],
   "source": [
    "#Количество уникальных брендов, которые покупал пользователь\n",
    "user_unique_brands = user_df.groupby('user_id', as_index=False)\\\n",
    "    .agg({'brand_name': pd.Series.nunique})\\\n",
    "    .rename(columns={'brand_name': 'unique_brands'})"
   ]
  },
  {
   "cell_type": "code",
   "execution_count": 107,
   "id": "e24a93dc",
   "metadata": {},
   "outputs": [],
   "source": [
    "#Любимый бренд пользователя\n",
    "lovely_brand_purchases_df = user_df.groupby(['user_id','brand_name'], as_index=False)\\\n",
    "    .agg({'brand_info':'count'})\\\n",
    "    .sort_values(['user_id', 'brand_info'], ascending=[False, False])\\\n",
    "    .groupby('user_id')\\\n",
    "    .head(1)\\\n",
    "    .rename(columns={'brand_name':'lovely_brand', 'brand_info':'lovely_purchases'})"
   ]
  },
  {
   "cell_type": "code",
   "execution_count": 108,
   "id": "ec6b0e41",
   "metadata": {},
   "outputs": [
    {
     "data": {
      "text/html": [
       "<div>\n",
       "<style scoped>\n",
       "    .dataframe tbody tr th:only-of-type {\n",
       "        vertical-align: middle;\n",
       "    }\n",
       "\n",
       "    .dataframe tbody tr th {\n",
       "        vertical-align: top;\n",
       "    }\n",
       "\n",
       "    .dataframe thead th {\n",
       "        text-align: right;\n",
       "    }\n",
       "</style>\n",
       "<table border=\"1\" class=\"dataframe\">\n",
       "  <thead>\n",
       "    <tr style=\"text-align: right;\">\n",
       "      <th></th>\n",
       "      <th>user_id</th>\n",
       "      <th>count_purchases</th>\n",
       "      <th>unique_brands</th>\n",
       "      <th>lovely_brand</th>\n",
       "      <th>lovely_purchases</th>\n",
       "    </tr>\n",
       "  </thead>\n",
       "  <tbody>\n",
       "    <tr>\n",
       "      <th>0</th>\n",
       "      <td>1031</td>\n",
       "      <td>6</td>\n",
       "      <td>2</td>\n",
       "      <td>Store_Brand</td>\n",
       "      <td>5</td>\n",
       "    </tr>\n",
       "    <tr>\n",
       "      <th>1</th>\n",
       "      <td>4241</td>\n",
       "      <td>5</td>\n",
       "      <td>2</td>\n",
       "      <td>Brand_4</td>\n",
       "      <td>3</td>\n",
       "    </tr>\n",
       "    <tr>\n",
       "      <th>2</th>\n",
       "      <td>25971</td>\n",
       "      <td>7</td>\n",
       "      <td>2</td>\n",
       "      <td>Store_Brand</td>\n",
       "      <td>5</td>\n",
       "    </tr>\n",
       "    <tr>\n",
       "      <th>3</th>\n",
       "      <td>40911</td>\n",
       "      <td>27</td>\n",
       "      <td>5</td>\n",
       "      <td>Brand_4</td>\n",
       "      <td>19</td>\n",
       "    </tr>\n",
       "    <tr>\n",
       "      <th>4</th>\n",
       "      <td>45181</td>\n",
       "      <td>5</td>\n",
       "      <td>4</td>\n",
       "      <td>Store_Brand</td>\n",
       "      <td>2</td>\n",
       "    </tr>\n",
       "  </tbody>\n",
       "</table>\n",
       "</div>"
      ],
      "text/plain": [
       "   user_id  count_purchases  unique_brands lovely_brand  lovely_purchases\n",
       "0     1031                6              2  Store_Brand                 5\n",
       "1     4241                5              2      Brand_4                 3\n",
       "2    25971                7              2  Store_Brand                 5\n",
       "3    40911               27              5      Brand_4                19\n",
       "4    45181                5              4  Store_Brand                 2"
      ]
     },
     "execution_count": 108,
     "metadata": {},
     "output_type": "execute_result"
    }
   ],
   "source": [
    "loyality_df = user_purchases.merge(user_unique_brands, on='user_id')\\\n",
    "    .merge(lovely_brand_purchases_df, on='user_id')\n",
    "loyality_df.head()"
   ]
  },
  {
   "cell_type": "code",
   "execution_count": 109,
   "id": "8da812fd",
   "metadata": {},
   "outputs": [],
   "source": [
    "#пользователи, которые совершают покупки только у одного бренда\n",
    "loyality_users = loyality_df[loyality_df.unique_brands == 1]"
   ]
  },
  {
   "cell_type": "code",
   "execution_count": 110,
   "id": "2550947d",
   "metadata": {},
   "outputs": [],
   "source": [
    "loyality_df['loyality_score'] = loyality_df.lovely_purchases/loyality_df.count_purchases"
   ]
  },
  {
   "cell_type": "code",
   "execution_count": null,
   "id": "08fb8418",
   "metadata": {},
   "outputs": [],
   "source": [
    "loyality_df.head()"
   ]
  },
  {
   "cell_type": "code",
   "execution_count": 120,
   "id": "ab24d568",
   "metadata": {},
   "outputs": [
    {
     "data": {
      "image/png": "[encoded data removed]",
      "text/plain": [
       "<Figure size 360x360 with 1 Axes>"
      ]
     },
     "metadata": {
      "needs_background": "light"
     },
     "output_type": "display_data"
    }
   ],
   "source": [
    "ax = sns.displot(loyality_df.loyality_score)"
   ]
  },
  {
   "cell_type": "code",
   "execution_count": 128,
   "id": "65f62188",
   "metadata": {},
   "outputs": [
    {
     "data": {
      "text/html": [
       "<div>\n",
       "<style scoped>\n",
       "    .dataframe tbody tr th:only-of-type {\n",
       "        vertical-align: middle;\n",
       "    }\n",
       "\n",
       "    .dataframe tbody tr th {\n",
       "        vertical-align: top;\n",
       "    }\n",
       "\n",
       "    .dataframe thead th {\n",
       "        text-align: right;\n",
       "    }\n",
       "</style>\n",
       "<table border=\"1\" class=\"dataframe\">\n",
       "  <thead>\n",
       "    <tr style=\"text-align: right;\">\n",
       "      <th></th>\n",
       "      <th>lovely_brand</th>\n",
       "      <th>loyality_score</th>\n",
       "      <th>user_id</th>\n",
       "    </tr>\n",
       "  </thead>\n",
       "  <tbody>\n",
       "    <tr>\n",
       "      <th>0</th>\n",
       "      <td>Brand_1</td>\n",
       "      <td>0.679487</td>\n",
       "      <td>410</td>\n",
       "    </tr>\n",
       "    <tr>\n",
       "      <th>1</th>\n",
       "      <td>Brand_2</td>\n",
       "      <td>0.600000</td>\n",
       "      <td>88</td>\n",
       "    </tr>\n",
       "    <tr>\n",
       "      <th>2</th>\n",
       "      <td>Brand_3</td>\n",
       "      <td>0.500000</td>\n",
       "      <td>115</td>\n",
       "    </tr>\n",
       "    <tr>\n",
       "      <th>3</th>\n",
       "      <td>Brand_4</td>\n",
       "      <td>0.818182</td>\n",
       "      <td>2041</td>\n",
       "    </tr>\n",
       "    <tr>\n",
       "      <th>4</th>\n",
       "      <td>Brand_5</td>\n",
       "      <td>0.600000</td>\n",
       "      <td>5</td>\n",
       "    </tr>\n",
       "  </tbody>\n",
       "</table>\n",
       "</div>"
      ],
      "text/plain": [
       "  lovely_brand  loyality_score  user_id\n",
       "0      Brand_1        0.679487      410\n",
       "1      Brand_2        0.600000       88\n",
       "2      Brand_3        0.500000      115\n",
       "3      Brand_4        0.818182     2041\n",
       "4      Brand_5        0.600000        5"
      ]
     },
     "execution_count": 128,
     "metadata": {},
     "output_type": "execute_result"
    }
   ],
   "source": [
    "lovely_to_brand = loyality_df.groupby('lovely_brand', as_index=False)\\\n",
    "    .agg({'loyality_score':'median', 'user_id':'count'})\n",
    "lovely_to_brand.head()"
   ]
  },
  {
   "cell_type": "code",
   "execution_count": 130,
   "id": "1c5d48fb",
   "metadata": {},
   "outputs": [
    {
     "data": {
      "image/png": "[encoded data removed]",
      "text/plain": [
       "<Figure size 432x288 with 1 Axes>"
      ]
     },
     "metadata": {
      "needs_background": "light"
     },
     "output_type": "display_data"
    }
   ],
   "source": [
    "ay = sns.barplot(data=lovely_to_brand, x=\"lovely_brand\", y=\"user_id\")"
   ]
  },
  {
   "cell_type": "code",
   "execution_count": 131,
   "id": "8305a0d6",
   "metadata": {},
   "outputs": [
    {
     "data": {
      "image/png": "[encoded data removed]",
      "text/plain": [
       "<Figure size 432x288 with 1 Axes>"
      ]
     },
     "metadata": {
      "needs_background": "light"
     },
     "output_type": "display_data"
    }
   ],
   "source": [
    "ay = sns.barplot(data=lovely_to_brand, x=\"lovely_brand\", y=\"loyality_score\")"
   ]
  },
  {
   "cell_type": "code",
   "execution_count": null,
   "id": "c28cb69f",
   "metadata": {},
   "outputs": [],
   "source": []
  }
 ],
 "metadata": {
  "kernelspec": {
   "display_name": "Python 3",
   "language": "python",
   "name": "python3"
  },
  "language_info": {
   "codemirror_mode": {
    "name": "ipython",
    "version": 3
   },
   "file_extension": ".py",
   "mimetype": "text/x-python",
   "name": "python",
   "nbconvert_exporter": "python",
   "pygments_lexer": "ipython3",
   "version": "3.7.3"
  }
 },
 "nbformat": 4,
 "nbformat_minor": 5
}
