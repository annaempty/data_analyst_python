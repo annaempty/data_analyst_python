{
 "cells": [
  {
   "cell_type": "code",
   "execution_count": 1,
   "id": "2e989a20",
   "metadata": {},
   "outputs": [],
   "source": [
    "import pandas as pd\n",
    "import os"
   ]
  },
  {
   "cell_type": "code",
   "execution_count": 2,
   "id": "fa67d013",
   "metadata": {},
   "outputs": [],
   "source": [
    "#folder_data = [item for item in os.listdir('/mnt/HC_Volume_18315164/home-jupyter/jupyter-anna-nikitina/shared/Res_Tree') if not item.startswith('.')]\n",
    "\n",
    "# list_ = []\n",
    "# for item in folder_data:\n",
    "#     if not item.startswith('.'):\n",
    "#         list_.append(item)\n"
   ]
  },
  {
   "cell_type": "code",
   "execution_count": 3,
   "id": "d84564d9",
   "metadata": {},
   "outputs": [],
   "source": [
    "#Упрощенный пример считывания данных\n",
    "\n",
    "# scanning = False\n",
    "# s = ['1', '2', 'start', '3', '4', 'stop', '5', 'start', '3', '4', '1', '2','stop']\n",
    "# for item in s:\n",
    "#     if item == 'stop':\n",
    "#         scanning = False\n",
    "#     elif scanning:\n",
    "#         print(item)\n",
    "#     elif item == 'start':\n",
    "#         scanning = True"
   ]
  },
  {
   "cell_type": "code",
   "execution_count": 4,
   "id": "fa8b6e66",
   "metadata": {},
   "outputs": [],
   "source": [
    "path_to_file = 'meals_list_2.txt'"
   ]
  },
  {
   "cell_type": "code",
   "execution_count": 5,
   "id": "b6fd905f",
   "metadata": {},
   "outputs": [],
   "source": [
    "all_data = []\n",
    "scanning = False\n",
    "for item in open(path_to_file).readlines():\n",
    "    if item == '-----------------------------------------------------\\n':\n",
    "        scanning = False\n",
    "    elif scanning:\n",
    "        if 'Meal#;' in item:\n",
    "            col_name = item\n",
    "        else:\n",
    "            all_data.append([i.strip() for i in item.split(';')])\n",
    "    elif item == '--- Non-deleted saved meals -----------------------\\n':\n",
    "        scanning = True"
   ]
  },
  {
   "cell_type": "code",
   "execution_count": 6,
   "id": "1ae60c2f",
   "metadata": {},
   "outputs": [],
   "source": [
    "col_name_list = [item.strip() for item in col_name.strip().split(';')]\n"
   ]
  },
  {
   "cell_type": "code",
   "execution_count": 7,
   "id": "0507768d",
   "metadata": {},
   "outputs": [],
   "source": [
    "meal_df = pd.DataFrame(all_data, columns=col_name_list[:17])"
   ]
  },
  {
   "cell_type": "code",
   "execution_count": 8,
   "id": "af4c9a8e",
   "metadata": {},
   "outputs": [
    {
     "data": {
      "text/html": [
       "<div>\n",
       "<style scoped>\n",
       "    .dataframe tbody tr th:only-of-type {\n",
       "        vertical-align: middle;\n",
       "    }\n",
       "\n",
       "    .dataframe tbody tr th {\n",
       "        vertical-align: top;\n",
       "    }\n",
       "\n",
       "    .dataframe thead th {\n",
       "        text-align: right;\n",
       "    }\n",
       "</style>\n",
       "<table border=\"1\" class=\"dataframe\">\n",
       "  <thead>\n",
       "    <tr style=\"text-align: right;\">\n",
       "      <th></th>\n",
       "      <th>Meal#</th>\n",
       "      <th>Date</th>\n",
       "      <th>Start</th>\n",
       "      <th>End</th>\n",
       "      <th>Flags</th>\n",
       "      <th>E-IN</th>\n",
       "      <th>Cbh</th>\n",
       "      <th>Fat</th>\n",
       "      <th>Pro</th>\n",
       "      <th>S. tstamp</th>\n",
       "      <th>End tstamp</th>\n",
       "      <th>Minutes</th>\n",
       "      <th>Recs</th>\n",
       "      <th>First</th>\n",
       "      <th>Last</th>\n",
       "      <th>Type</th>\n",
       "      <th>Frags</th>\n",
       "    </tr>\n",
       "  </thead>\n",
       "  <tbody>\n",
       "    <tr>\n",
       "      <th>0</th>\n",
       "      <td>0</td>\n",
       "      <td>09.01.2020</td>\n",
       "      <td>10:54</td>\n",
       "      <td>12:33</td>\n",
       "      <td>0x84</td>\n",
       "      <td>247.41</td>\n",
       "      <td>18.85</td>\n",
       "      <td>13.58</td>\n",
       "      <td>12.45</td>\n",
       "      <td>1578556469</td>\n",
       "      <td>1578562439</td>\n",
       "      <td>100</td>\n",
       "      <td>100</td>\n",
       "      <td>1</td>\n",
       "      <td>100</td>\n",
       "      <td>F3-Meal</td>\n",
       "      <td></td>\n",
       "    </tr>\n",
       "    <tr>\n",
       "      <th>1</th>\n",
       "      <td>1</td>\n",
       "      <td>09.01.2020</td>\n",
       "      <td>12:42</td>\n",
       "      <td>14:11</td>\n",
       "      <td>0x84</td>\n",
       "      <td>198.60</td>\n",
       "      <td>17.00</td>\n",
       "      <td>10.31</td>\n",
       "      <td>9.45</td>\n",
       "      <td>1578562921</td>\n",
       "      <td>1578568288</td>\n",
       "      <td>90</td>\n",
       "      <td>94</td>\n",
       "      <td>104</td>\n",
       "      <td>197</td>\n",
       "      <td>F3-Meal</td>\n",
       "      <td></td>\n",
       "    </tr>\n",
       "    <tr>\n",
       "      <th>2</th>\n",
       "      <td>2</td>\n",
       "      <td>09.01.2020</td>\n",
       "      <td>14:31</td>\n",
       "      <td>16:41</td>\n",
       "      <td>0x84</td>\n",
       "      <td>320.71</td>\n",
       "      <td>23.09</td>\n",
       "      <td>18.03</td>\n",
       "      <td>16.53</td>\n",
       "      <td>1578569494</td>\n",
       "      <td>1578577272</td>\n",
       "      <td>130</td>\n",
       "      <td>130</td>\n",
       "      <td>217</td>\n",
       "      <td>346</td>\n",
       "      <td>F3-Meal</td>\n",
       "      <td></td>\n",
       "    </tr>\n",
       "    <tr>\n",
       "      <th>3</th>\n",
       "      <td>3</td>\n",
       "      <td>09.01.2020</td>\n",
       "      <td>16:57</td>\n",
       "      <td>18:01</td>\n",
       "      <td>0x84</td>\n",
       "      <td>136.57</td>\n",
       "      <td>12.71</td>\n",
       "      <td>6.77</td>\n",
       "      <td>6.20</td>\n",
       "      <td>1578578237</td>\n",
       "      <td>1578582096</td>\n",
       "      <td>65</td>\n",
       "      <td>65</td>\n",
       "      <td>362</td>\n",
       "      <td>426</td>\n",
       "      <td>F3-Meal</td>\n",
       "      <td></td>\n",
       "    </tr>\n",
       "    <tr>\n",
       "      <th>4</th>\n",
       "      <td>4</td>\n",
       "      <td>09.01.2020</td>\n",
       "      <td>18:09</td>\n",
       "      <td>19:46</td>\n",
       "      <td>0x84</td>\n",
       "      <td>193.10</td>\n",
       "      <td>16.25</td>\n",
       "      <td>10.11</td>\n",
       "      <td>9.27</td>\n",
       "      <td>1578582579</td>\n",
       "      <td>1578588367</td>\n",
       "      <td>97</td>\n",
       "      <td>97</td>\n",
       "      <td>434</td>\n",
       "      <td>530</td>\n",
       "      <td>F3-Meal</td>\n",
       "      <td></td>\n",
       "    </tr>\n",
       "  </tbody>\n",
       "</table>\n",
       "</div>"
      ],
      "text/plain": [
       "  Meal#        Date  Start    End Flags    E-IN    Cbh    Fat    Pro  \\\n",
       "0     0  09.01.2020  10:54  12:33  0x84  247.41  18.85  13.58  12.45   \n",
       "1     1  09.01.2020  12:42  14:11  0x84  198.60  17.00  10.31   9.45   \n",
       "2     2  09.01.2020  14:31  16:41  0x84  320.71  23.09  18.03  16.53   \n",
       "3     3  09.01.2020  16:57  18:01  0x84  136.57  12.71   6.77   6.20   \n",
       "4     4  09.01.2020  18:09  19:46  0x84  193.10  16.25  10.11   9.27   \n",
       "\n",
       "    S. tstamp  End tstamp Minutes Recs First Last     Type Frags  \n",
       "0  1578556469  1578562439     100  100     1  100  F3-Meal        \n",
       "1  1578562921  1578568288      90   94   104  197  F3-Meal        \n",
       "2  1578569494  1578577272     130  130   217  346  F3-Meal        \n",
       "3  1578578237  1578582096      65   65   362  426  F3-Meal        \n",
       "4  1578582579  1578588367      97   97   434  530  F3-Meal        "
      ]
     },
     "execution_count": 8,
     "metadata": {},
     "output_type": "execute_result"
    }
   ],
   "source": [
    "meal_df.head()\n",
    "\n"
   ]
  },
  {
   "cell_type": "code",
   "execution_count": 13,
   "id": "374c24e2",
   "metadata": {},
   "outputs": [
    {
     "data": {
      "text/plain": [
       "Index(['Meal#', 'Date', 'Start', 'End', 'Flags', 'E-IN', 'Cbh', 'Fat', 'Pro',\n",
       "       'S. tstamp', 'End tstamp', 'Minutes', 'Recs', 'First', 'Last', 'Type',\n",
       "       'Frags'],\n",
       "      dtype='object')"
      ]
     },
     "execution_count": 13,
     "metadata": {},
     "output_type": "execute_result"
    }
   ],
   "source": [
    "meal_df.columns\n"
   ]
  },
  {
   "cell_type": "code",
   "execution_count": 21,
   "id": "2886a147",
   "metadata": {},
   "outputs": [],
   "source": [
    "meal_df = meal_df.astype({'Minutes':'int', 'Pro':'float'})"
   ]
  },
  {
   "cell_type": "code",
   "execution_count": 22,
   "id": "966b3b2f",
   "metadata": {},
   "outputs": [],
   "source": [
    "meal_df['Date'] = pd.to_datetime(meal_df.Date)"
   ]
  },
  {
   "cell_type": "code",
   "execution_count": 23,
   "id": "bb585c22",
   "metadata": {},
   "outputs": [],
   "source": [
    "user_meal_df = meal_df[['Date', 'Minutes', 'Pro']]"
   ]
  },
  {
   "cell_type": "code",
   "execution_count": 24,
   "id": "c44f92b7",
   "metadata": {},
   "outputs": [
    {
     "data": {
      "text/html": [
       "<div>\n",
       "<style scoped>\n",
       "    .dataframe tbody tr th:only-of-type {\n",
       "        vertical-align: middle;\n",
       "    }\n",
       "\n",
       "    .dataframe tbody tr th {\n",
       "        vertical-align: top;\n",
       "    }\n",
       "\n",
       "    .dataframe thead th {\n",
       "        text-align: right;\n",
       "    }\n",
       "</style>\n",
       "<table border=\"1\" class=\"dataframe\">\n",
       "  <thead>\n",
       "    <tr style=\"text-align: right;\">\n",
       "      <th></th>\n",
       "      <th>Date</th>\n",
       "      <th>Minutes</th>\n",
       "      <th>Pro</th>\n",
       "    </tr>\n",
       "  </thead>\n",
       "  <tbody>\n",
       "    <tr>\n",
       "      <th>0</th>\n",
       "      <td>2020-09-01</td>\n",
       "      <td>100</td>\n",
       "      <td>12.45</td>\n",
       "    </tr>\n",
       "    <tr>\n",
       "      <th>1</th>\n",
       "      <td>2020-09-01</td>\n",
       "      <td>90</td>\n",
       "      <td>9.45</td>\n",
       "    </tr>\n",
       "    <tr>\n",
       "      <th>2</th>\n",
       "      <td>2020-09-01</td>\n",
       "      <td>130</td>\n",
       "      <td>16.53</td>\n",
       "    </tr>\n",
       "    <tr>\n",
       "      <th>3</th>\n",
       "      <td>2020-09-01</td>\n",
       "      <td>65</td>\n",
       "      <td>6.20</td>\n",
       "    </tr>\n",
       "    <tr>\n",
       "      <th>4</th>\n",
       "      <td>2020-09-01</td>\n",
       "      <td>97</td>\n",
       "      <td>9.27</td>\n",
       "    </tr>\n",
       "  </tbody>\n",
       "</table>\n",
       "</div>"
      ],
      "text/plain": [
       "        Date  Minutes    Pro\n",
       "0 2020-09-01      100  12.45\n",
       "1 2020-09-01       90   9.45\n",
       "2 2020-09-01      130  16.53\n",
       "3 2020-09-01       65   6.20\n",
       "4 2020-09-01       97   9.27"
      ]
     },
     "execution_count": 24,
     "metadata": {},
     "output_type": "execute_result"
    }
   ],
   "source": [
    "user_meal_df.head()"
   ]
  },
  {
   "cell_type": "code",
   "execution_count": null,
   "id": "1d6d4e99",
   "metadata": {},
   "outputs": [],
   "source": []
  },
  {
   "cell_type": "code",
   "execution_count": null,
   "id": "f43b78ca",
   "metadata": {},
   "outputs": [],
   "source": []
  },
  {
   "cell_type": "code",
   "execution_count": null,
   "id": "7bd9a300",
   "metadata": {},
   "outputs": [],
   "source": []
  },
  {
   "cell_type": "code",
   "execution_count": null,
   "id": "de3f3292",
   "metadata": {},
   "outputs": [],
   "source": []
  },
  {
   "cell_type": "code",
   "execution_count": null,
   "id": "e80a8826",
   "metadata": {},
   "outputs": [],
   "source": []
  }
 ],
 "metadata": {
  "kernelspec": {
   "display_name": "Python 3",
   "language": "python",
   "name": "python3"
  },
  "language_info": {
   "codemirror_mode": {
    "name": "ipython",
    "version": 3
   },
   "file_extension": ".py",
   "mimetype": "text/x-python",
   "name": "python",
   "nbconvert_exporter": "python",
   "pygments_lexer": "ipython3",
   "version": "3.7.3"
  }
 },
 "nbformat": 4,
 "nbformat_minor": 5
}
