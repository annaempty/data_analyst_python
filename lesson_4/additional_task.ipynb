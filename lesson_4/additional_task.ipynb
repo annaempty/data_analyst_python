{
 "cells": [
  {
   "cell_type": "code",
   "execution_count": 1,
   "id": "94868147",
   "metadata": {},
   "outputs": [],
   "source": [
    "import pandas as pd\n"
   ]
  },
  {
   "cell_type": "code",
   "execution_count": 18,
   "id": "2bdbe5ab",
   "metadata": {},
   "outputs": [
    {
     "data": {
      "text/plain": [
       "115"
      ]
     },
     "execution_count": 18,
     "metadata": {},
     "output_type": "execute_result"
    }
   ],
   "source": [
    "file_list_inn = open('/mnt/HC_Volume_18315164/home-jupyter/jupyter-anna-nikitina/shared/homeworks/python_ds_miniprojects/4_inn/necessary_inn.txt').readlines()\n",
    "list_inn = [item.strip() for item in list_inn]\n",
    "len(list_inn)"
   ]
  },
  {
   "cell_type": "code",
   "execution_count": 21,
   "id": "2191eed9",
   "metadata": {},
   "outputs": [
    {
     "data": {
      "text/plain": [
       "Unnamed: 0                 int64\n",
       "#                          int64\n",
       "name                      object\n",
       "reg_number                 int64\n",
       "address                   object\n",
       "head                      object\n",
       "head_job                  object\n",
       "head_inn                   int64\n",
       "phone                     object\n",
       "email                     object\n",
       "site                      object\n",
       "registration_date         object\n",
       "nalogoplatelschik_code    object\n",
       "oktmo_code                 int64\n",
       "okato_code                 int64\n",
       "registration_region       object\n",
       "okato_name                object\n",
       "field                     object\n",
       "capital,RUB                int64\n",
       "income,RUB                 int64\n",
       "dtype: object"
      ]
     },
     "execution_count": 21,
     "metadata": {},
     "output_type": "execute_result"
    }
   ],
   "source": [
    "path_to_file = '/mnt/HC_Volume_18315164/home-jupyter/jupyter-anna-nikitina/shared/homeworks/python_ds_miniprojects/4_inn/inn.xls'\n",
    "df = pd.read_excel(path_to_file)\n",
    "df = df.astype({'income,RUB':'int'})\n",
    "df.dtypes"
   ]
  },
  {
   "cell_type": "code",
   "execution_count": 15,
   "id": "d1a366d5",
   "metadata": {},
   "outputs": [],
   "source": [
    "df_inn = df[df['head_inn'].isin(list_inn)]"
   ]
  },
  {
   "cell_type": "code",
   "execution_count": 23,
   "id": "385a2c34",
   "metadata": {},
   "outputs": [
    {
     "data": {
      "text/plain": [
       "6104522627393"
      ]
     },
     "execution_count": 23,
     "metadata": {},
     "output_type": "execute_result"
    }
   ],
   "source": [
    "df_inn['income,RUB'].sum()\n"
   ]
  },
  {
   "cell_type": "code",
   "execution_count": null,
   "id": "a8be0d23",
   "metadata": {},
   "outputs": [],
   "source": []
  }
 ],
 "metadata": {
  "kernelspec": {
   "display_name": "Python 3",
   "language": "python",
   "name": "python3"
  },
  "language_info": {
   "codemirror_mode": {
    "name": "ipython",
    "version": 3
   },
   "file_extension": ".py",
   "mimetype": "text/x-python",
   "name": "python",
   "nbconvert_exporter": "python",
   "pygments_lexer": "ipython3",
   "version": "3.7.3"
  }
 },
 "nbformat": 4,
 "nbformat_minor": 5
}
